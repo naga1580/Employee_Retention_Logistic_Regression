{
 "cells": [
  {
   "cell_type": "markdown",
   "metadata": {
    "id": "h93yUiuRbzEv"
   },
   "source": [
    "# **Predicting Employee Retention**"
   ]
  },
  {
   "cell_type": "markdown",
   "metadata": {
    "id": "V7YvL652bzE0"
   },
   "source": [
    "### Objective\n",
    "\n",
    "The objective of this assignment is to develop a Logistic Regression model. You will be using this model to analyse and predict binary outcomes based on the input data. This assignment aims to enhance understanding of logistic regression, including its assumptions, implementation, and evaluation, to effectively classify and interpret data.\n"
   ]
  },
  {
   "cell_type": "markdown",
   "metadata": {
    "id": "waZ4IVr4bzE1"
   },
   "source": [
    "### Business Objective\n",
    "\n",
    "A mid-sized technology company wants to improve its understanding of employee retention to foster a loyal and committed workforce. While the organization has traditionally focused on addressing turnover, it recognises the value of proactively identifying employees likely to stay and understanding the factors contributing to their loyalty.\n",
    "\n",
    "\n",
    "In this assignment you’ll be building a logistic regression model to predict the likelihood of employee retention based on the data such as demographic details, job satisfaction scores, performance metrics, and tenure. The aim is to provide the HR department with actionable insights to strengthen retention strategies, create a supportive work environment, and increase the overall stability and satisfaction of the workforce."
   ]
  },
  {
   "cell_type": "markdown",
   "metadata": {
    "id": "Z7zFcptgbzE2"
   },
   "source": [
    "## Assignment Tasks\n",
    "\n",
    "You need to perform the following steps to complete this assignment:\n",
    "1. Data Understanding\n",
    "2. Data Cleaning\n",
    "3. Train Validation Split\n",
    "4. EDA on training data\n",
    "5. EDA on validation data [Optional]\n",
    "6. Feature Engineering\n",
    "7. Model Building\n",
    "8. Prediction and Model Evaluation\n",
    "\n",
    "\n"
   ]
  },
  {
   "cell_type": "markdown",
   "metadata": {
    "id": "ejDKL2NDceHc"
   },
   "source": [
    "## Data Dictionary\n",
    "\n",
    "The data has 24 Columns and 74610 Rows. Following data dictionary provides the description for each column present in dataset:<br>\n",
    "\n",
    "<table>\n",
    "  <thead>\n",
    "    <tr>\n",
    "      <th>Column Name</th>\n",
    "      <th>Description</th>\n",
    "    </tr>\n",
    "  </thead>\n",
    "  <tbody>\n",
    "    <tr>\n",
    "      <td>Employee ID</td>\n",
    "      <td>A unique identifier assigned to each employee.</td>\n",
    "    </tr>\n",
    "    <tr>\n",
    "      <td>Age</td>\n",
    "      <td>The age of the employee, ranging from 18 to 60 years.</td>\n",
    "    </tr>\n",
    "    <tr>\n",
    "      <td>Gender</td>\n",
    "      <td>The gender of the employee.</td>\n",
    "    </tr>\n",
    "    <tr>\n",
    "      <td>Years at Company</td>\n",
    "      <td>The number of years the employee has been working at the company.</td>\n",
    "    </tr>\n",
    "    <tr>\n",
    "      <td>Monthly Income</td>\n",
    "      <td>The monthly salary of the employee, in dollars.</td>\n",
    "    </tr>\n",
    "    <tr>\n",
    "      <td>Job Role</td>\n",
    "      <td>The department or role the employee works in, encoded into categories such as Finance, Healthcare, Technology, Education, and Media.</td>\n",
    "    </tr>\n",
    "    <tr>\n",
    "      <td>Work-Life Balance</td>\n",
    "      <td>The employee's perceived balance between work and personal life (Poor, Below Average, Good, Excellent).</td>\n",
    "    </tr>\n",
    "    <tr>\n",
    "      <td>Job Satisfaction</td>\n",
    "      <td>The employee's satisfaction with their job (Very Low, Low, Medium, High).</td>\n",
    "    </tr>\n",
    "    <tr>\n",
    "      <td>Performance Rating</td>\n",
    "      <td>The employee's performance rating (Low, Below Average, Average, High).</td>\n",
    "    </tr>\n",
    "    <tr>\n",
    "      <td>Number of Promotions</td>\n",
    "      <td>The total number of promotions the employee has received.</td>\n",
    "    </tr>\n",
    "     </tr>\n",
    "     <tr>\n",
    "      <td>Overtime</td>\n",
    "      <td>Number of overtime hours.</td>\n",
    "    </tr>\n",
    "    <tr>\n",
    "      <td>Distance from Home</td>\n",
    "      <td>The distance between the employee's home and workplace, in miles.</td>\n",
    "    </tr>\n",
    "    <tr>\n",
    "      <td>Education Level</td>\n",
    "      <td>The highest education level attained by the employee (High School, Associate Degree, Bachelor’s Degree, Master’s Degree, PhD).</td>\n",
    "    </tr>\n",
    "    <tr>\n",
    "      <td>Marital Status</td>\n",
    "      <td>The marital status of the employee (Divorced, Married, Single).</td>\n",
    "    </tr>\n",
    "     <tr>\n",
    "      <td>Number of Dependents</td>\n",
    "      <td>Number of dependents the employee has.</td>\n",
    "    </tr>\n",
    "    <tr>\n",
    "      <td>Job Level</td>\n",
    "      <td>The job level of the employee (Entry, Mid, Senior).</td>\n",
    "    </tr>\n",
    "    <tr>\n",
    "      <td>Company Size</td>\n",
    "      <td>The size of the company the employee works for (Small, Medium, Large).</td>\n",
    "    </tr>\n",
    "    <tr>\n",
    "      <td>Company Tenure (In Months)</td>\n",
    "      <td>The total number of years the employee has been working in the industry.</td>\n",
    "    </tr>\n",
    "    <tr>\n",
    "      <td>Remote Work</td>\n",
    "      <td>Whether the employee works remotely (Yes or No).</td>\n",
    "    </tr>\n",
    "    <tr>\n",
    "      <td>Leadership Opportunities</td>\n",
    "      <td>Whether the employee has leadership opportunities (Yes or No).</td>\n",
    "    </tr>\n",
    "    <tr>\n",
    "      <td>Innovation Opportunities</td>\n",
    "      <td>Whether the employee has opportunities for innovation (Yes or No).</td>\n",
    "    </tr>\n",
    "    <tr>\n",
    "      <td>Company Reputation</td>\n",
    "      <td>The employee's perception of the company's reputation (Very Poor, Poor, Good, Excellent).</td>\n",
    "    </tr>\n",
    "    <tr>\n",
    "      <td>Employee Recognition</td>\n",
    "      <td>The level of recognition the employee receives(Very Low, Low, Medium, High).</td>\n",
    "    </tr>\n",
    "    <tr>\n",
    "      <td>Attrition</td>\n",
    "      <td>Whether the employee has left the company.</td>\n",
    "    </tr>\n",
    "  </tbody>\n",
    "</table>\n"
   ]
  },
  {
   "cell_type": "markdown",
   "metadata": {
    "id": "6lmfQyH2bzE5"
   },
   "source": [
    "## **1. Data Understanding**\n",
    "\n",
    "In this step, load the dataset and check basic statistics of the data, including preview of data, dimension of data, column descriptions and data types."
   ]
  },
  {
   "cell_type": "markdown",
   "metadata": {
    "id": "PqhCqH69bzE2"
   },
   "source": [
    "### **1.0 Import Libraries**"
   ]
  },
  {
   "cell_type": "code",
   "execution_count": 136,
   "metadata": {
    "id": "1bADKAJibzE3"
   },
   "outputs": [],
   "source": [
    "# Supress unnecessary warnings\n",
    "import warnings\n",
    "warnings.filterwarnings('ignore')"
   ]
  },
  {
   "cell_type": "code",
   "execution_count": 137,
   "metadata": {
    "id": "vOoaowGFbzE5"
   },
   "outputs": [],
   "source": [
    "# Import the libraries\n",
    "import numpy as np\n",
    "import pandas as pd"
   ]
  },
  {
   "cell_type": "markdown",
   "metadata": {
    "id": "IzOBYKpCcJZJ"
   },
   "source": [
    "### **1.1 Load the Data**"
   ]
  },
  {
   "cell_type": "code",
   "execution_count": 138,
   "metadata": {
    "id": "Vibm0dYcbzE6"
   },
   "outputs": [],
   "source": [
    "# Load the dataset\n",
    "emp_data = pd.read_csv('Employee_data.csv')"
   ]
  },
  {
   "cell_type": "code",
   "execution_count": 139,
   "metadata": {
    "id": "bVeUFyDxbzE6"
   },
   "outputs": [
    {
     "data": {
      "text/html": [
       "<div>\n",
       "<style scoped>\n",
       "    .dataframe tbody tr th:only-of-type {\n",
       "        vertical-align: middle;\n",
       "    }\n",
       "\n",
       "    .dataframe tbody tr th {\n",
       "        vertical-align: top;\n",
       "    }\n",
       "\n",
       "    .dataframe thead th {\n",
       "        text-align: right;\n",
       "    }\n",
       "</style>\n",
       "<table border=\"1\" class=\"dataframe\">\n",
       "  <thead>\n",
       "    <tr style=\"text-align: right;\">\n",
       "      <th></th>\n",
       "      <th>Employee ID</th>\n",
       "      <th>Age</th>\n",
       "      <th>Gender</th>\n",
       "      <th>Years at Company</th>\n",
       "      <th>Job Role</th>\n",
       "      <th>Monthly Income</th>\n",
       "      <th>Work-Life Balance</th>\n",
       "      <th>Job Satisfaction</th>\n",
       "      <th>Performance Rating</th>\n",
       "      <th>Number of Promotions</th>\n",
       "      <th>...</th>\n",
       "      <th>Number of Dependents</th>\n",
       "      <th>Job Level</th>\n",
       "      <th>Company Size</th>\n",
       "      <th>Company Tenure (In Months)</th>\n",
       "      <th>Remote Work</th>\n",
       "      <th>Leadership Opportunities</th>\n",
       "      <th>Innovation Opportunities</th>\n",
       "      <th>Company Reputation</th>\n",
       "      <th>Employee Recognition</th>\n",
       "      <th>Attrition</th>\n",
       "    </tr>\n",
       "  </thead>\n",
       "  <tbody>\n",
       "    <tr>\n",
       "      <th>0</th>\n",
       "      <td>8410</td>\n",
       "      <td>31</td>\n",
       "      <td>Male</td>\n",
       "      <td>19</td>\n",
       "      <td>Education</td>\n",
       "      <td>5390</td>\n",
       "      <td>Excellent</td>\n",
       "      <td>Medium</td>\n",
       "      <td>Average</td>\n",
       "      <td>2</td>\n",
       "      <td>...</td>\n",
       "      <td>0</td>\n",
       "      <td>Mid</td>\n",
       "      <td>Medium</td>\n",
       "      <td>89.0</td>\n",
       "      <td>No</td>\n",
       "      <td>No</td>\n",
       "      <td>No</td>\n",
       "      <td>Excellent</td>\n",
       "      <td>Medium</td>\n",
       "      <td>Stayed</td>\n",
       "    </tr>\n",
       "    <tr>\n",
       "      <th>1</th>\n",
       "      <td>64756</td>\n",
       "      <td>59</td>\n",
       "      <td>Female</td>\n",
       "      <td>4</td>\n",
       "      <td>Media</td>\n",
       "      <td>5534</td>\n",
       "      <td>Poor</td>\n",
       "      <td>High</td>\n",
       "      <td>Low</td>\n",
       "      <td>3</td>\n",
       "      <td>...</td>\n",
       "      <td>3</td>\n",
       "      <td>Mid</td>\n",
       "      <td>Medium</td>\n",
       "      <td>21.0</td>\n",
       "      <td>No</td>\n",
       "      <td>No</td>\n",
       "      <td>No</td>\n",
       "      <td>Fair</td>\n",
       "      <td>Low</td>\n",
       "      <td>Stayed</td>\n",
       "    </tr>\n",
       "    <tr>\n",
       "      <th>2</th>\n",
       "      <td>30257</td>\n",
       "      <td>24</td>\n",
       "      <td>Female</td>\n",
       "      <td>10</td>\n",
       "      <td>Healthcare</td>\n",
       "      <td>8159</td>\n",
       "      <td>Good</td>\n",
       "      <td>High</td>\n",
       "      <td>Low</td>\n",
       "      <td>0</td>\n",
       "      <td>...</td>\n",
       "      <td>3</td>\n",
       "      <td>Mid</td>\n",
       "      <td>Medium</td>\n",
       "      <td>74.0</td>\n",
       "      <td>No</td>\n",
       "      <td>No</td>\n",
       "      <td>No</td>\n",
       "      <td>Poor</td>\n",
       "      <td>Low</td>\n",
       "      <td>Stayed</td>\n",
       "    </tr>\n",
       "    <tr>\n",
       "      <th>3</th>\n",
       "      <td>65791</td>\n",
       "      <td>36</td>\n",
       "      <td>Female</td>\n",
       "      <td>7</td>\n",
       "      <td>Education</td>\n",
       "      <td>3989</td>\n",
       "      <td>Good</td>\n",
       "      <td>High</td>\n",
       "      <td>High</td>\n",
       "      <td>1</td>\n",
       "      <td>...</td>\n",
       "      <td>2</td>\n",
       "      <td>Mid</td>\n",
       "      <td>Small</td>\n",
       "      <td>50.0</td>\n",
       "      <td>Yes</td>\n",
       "      <td>No</td>\n",
       "      <td>No</td>\n",
       "      <td>Good</td>\n",
       "      <td>Medium</td>\n",
       "      <td>Stayed</td>\n",
       "    </tr>\n",
       "    <tr>\n",
       "      <th>4</th>\n",
       "      <td>65026</td>\n",
       "      <td>56</td>\n",
       "      <td>Male</td>\n",
       "      <td>41</td>\n",
       "      <td>Education</td>\n",
       "      <td>4821</td>\n",
       "      <td>Fair</td>\n",
       "      <td>Very High</td>\n",
       "      <td>Average</td>\n",
       "      <td>0</td>\n",
       "      <td>...</td>\n",
       "      <td>0</td>\n",
       "      <td>Senior</td>\n",
       "      <td>Medium</td>\n",
       "      <td>68.0</td>\n",
       "      <td>No</td>\n",
       "      <td>No</td>\n",
       "      <td>No</td>\n",
       "      <td>Fair</td>\n",
       "      <td>Medium</td>\n",
       "      <td>Stayed</td>\n",
       "    </tr>\n",
       "  </tbody>\n",
       "</table>\n",
       "<p>5 rows × 24 columns</p>\n",
       "</div>"
      ],
      "text/plain": [
       "   Employee ID  Age  Gender  Years at Company    Job Role  Monthly Income  \\\n",
       "0         8410   31    Male                19   Education            5390   \n",
       "1        64756   59  Female                 4       Media            5534   \n",
       "2        30257   24  Female                10  Healthcare            8159   \n",
       "3        65791   36  Female                 7   Education            3989   \n",
       "4        65026   56    Male                41   Education            4821   \n",
       "\n",
       "  Work-Life Balance Job Satisfaction Performance Rating  Number of Promotions  \\\n",
       "0         Excellent           Medium            Average                     2   \n",
       "1              Poor             High                Low                     3   \n",
       "2              Good             High                Low                     0   \n",
       "3              Good             High               High                     1   \n",
       "4              Fair        Very High            Average                     0   \n",
       "\n",
       "   ... Number of Dependents  Job Level Company Size  \\\n",
       "0  ...                    0        Mid       Medium   \n",
       "1  ...                    3        Mid       Medium   \n",
       "2  ...                    3        Mid       Medium   \n",
       "3  ...                    2        Mid        Small   \n",
       "4  ...                    0     Senior       Medium   \n",
       "\n",
       "  Company Tenure (In Months)  Remote Work Leadership Opportunities  \\\n",
       "0                       89.0           No                       No   \n",
       "1                       21.0           No                       No   \n",
       "2                       74.0           No                       No   \n",
       "3                       50.0          Yes                       No   \n",
       "4                       68.0           No                       No   \n",
       "\n",
       "  Innovation Opportunities  Company Reputation Employee Recognition Attrition  \n",
       "0                       No           Excellent               Medium    Stayed  \n",
       "1                       No                Fair                  Low    Stayed  \n",
       "2                       No                Poor                  Low    Stayed  \n",
       "3                       No                Good               Medium    Stayed  \n",
       "4                       No                Fair               Medium    Stayed  \n",
       "\n",
       "[5 rows x 24 columns]"
      ]
     },
     "execution_count": 139,
     "metadata": {},
     "output_type": "execute_result"
    }
   ],
   "source": [
    "# Check the first few entries\n",
    "emp_data.head()"
   ]
  },
  {
   "cell_type": "code",
   "execution_count": 140,
   "metadata": {
    "id": "msGYpADRbzE7"
   },
   "outputs": [
    {
     "data": {
      "text/plain": [
       "(74610, 24)"
      ]
     },
     "execution_count": 140,
     "metadata": {},
     "output_type": "execute_result"
    }
   ],
   "source": [
    "# Inspect the shape of the dataset\n",
    "emp_data.shape"
   ]
  },
  {
   "cell_type": "code",
   "execution_count": 141,
   "metadata": {
    "id": "kL53eXK6bzE7"
   },
   "outputs": [
    {
     "data": {
      "text/plain": [
       "Index(['Employee ID', 'Age', 'Gender', 'Years at Company', 'Job Role',\n",
       "       'Monthly Income', 'Work-Life Balance', 'Job Satisfaction',\n",
       "       'Performance Rating', 'Number of Promotions', 'Overtime',\n",
       "       'Distance from Home', 'Education Level', 'Marital Status',\n",
       "       'Number of Dependents', 'Job Level', 'Company Size',\n",
       "       'Company Tenure (In Months)', 'Remote Work', 'Leadership Opportunities',\n",
       "       'Innovation Opportunities', 'Company Reputation',\n",
       "       'Employee Recognition', 'Attrition'],\n",
       "      dtype='object')"
      ]
     },
     "execution_count": 141,
     "metadata": {},
     "output_type": "execute_result"
    }
   ],
   "source": [
    "# Inspect the different columns in the dataset\n",
    "emp_data.columns"
   ]
  },
  {
   "cell_type": "markdown",
   "metadata": {
    "id": "LrFKEWp8cmxB"
   },
   "source": [
    "### **1.2 Check the basic statistics**"
   ]
  },
  {
   "cell_type": "code",
   "execution_count": 142,
   "metadata": {
    "id": "nCykdG90bzE8"
   },
   "outputs": [
    {
     "data": {
      "text/html": [
       "<div>\n",
       "<style scoped>\n",
       "    .dataframe tbody tr th:only-of-type {\n",
       "        vertical-align: middle;\n",
       "    }\n",
       "\n",
       "    .dataframe tbody tr th {\n",
       "        vertical-align: top;\n",
       "    }\n",
       "\n",
       "    .dataframe thead th {\n",
       "        text-align: right;\n",
       "    }\n",
       "</style>\n",
       "<table border=\"1\" class=\"dataframe\">\n",
       "  <thead>\n",
       "    <tr style=\"text-align: right;\">\n",
       "      <th></th>\n",
       "      <th>Employee ID</th>\n",
       "      <th>Age</th>\n",
       "      <th>Years at Company</th>\n",
       "      <th>Monthly Income</th>\n",
       "      <th>Number of Promotions</th>\n",
       "      <th>Distance from Home</th>\n",
       "      <th>Number of Dependents</th>\n",
       "      <th>Company Tenure (In Months)</th>\n",
       "    </tr>\n",
       "  </thead>\n",
       "  <tbody>\n",
       "    <tr>\n",
       "      <th>count</th>\n",
       "      <td>74610.000000</td>\n",
       "      <td>74610.000000</td>\n",
       "      <td>74610.000000</td>\n",
       "      <td>74610.000000</td>\n",
       "      <td>74610.000000</td>\n",
       "      <td>72698.000000</td>\n",
       "      <td>74610.000000</td>\n",
       "      <td>72197.000000</td>\n",
       "    </tr>\n",
       "    <tr>\n",
       "      <th>mean</th>\n",
       "      <td>37246.028696</td>\n",
       "      <td>38.529379</td>\n",
       "      <td>15.722638</td>\n",
       "      <td>7344.931417</td>\n",
       "      <td>0.832958</td>\n",
       "      <td>49.990839</td>\n",
       "      <td>1.657432</td>\n",
       "      <td>55.711899</td>\n",
       "    </tr>\n",
       "    <tr>\n",
       "      <th>std</th>\n",
       "      <td>21505.785344</td>\n",
       "      <td>12.082299</td>\n",
       "      <td>11.224059</td>\n",
       "      <td>2596.373589</td>\n",
       "      <td>0.995326</td>\n",
       "      <td>28.519135</td>\n",
       "      <td>1.579862</td>\n",
       "      <td>25.392325</td>\n",
       "    </tr>\n",
       "    <tr>\n",
       "      <th>min</th>\n",
       "      <td>1.000000</td>\n",
       "      <td>18.000000</td>\n",
       "      <td>1.000000</td>\n",
       "      <td>1226.000000</td>\n",
       "      <td>0.000000</td>\n",
       "      <td>1.000000</td>\n",
       "      <td>0.000000</td>\n",
       "      <td>2.000000</td>\n",
       "    </tr>\n",
       "    <tr>\n",
       "      <th>25%</th>\n",
       "      <td>18624.250000</td>\n",
       "      <td>28.000000</td>\n",
       "      <td>7.000000</td>\n",
       "      <td>5652.000000</td>\n",
       "      <td>0.000000</td>\n",
       "      <td>25.000000</td>\n",
       "      <td>0.000000</td>\n",
       "      <td>36.000000</td>\n",
       "    </tr>\n",
       "    <tr>\n",
       "      <th>50%</th>\n",
       "      <td>37239.500000</td>\n",
       "      <td>39.000000</td>\n",
       "      <td>13.000000</td>\n",
       "      <td>7348.500000</td>\n",
       "      <td>1.000000</td>\n",
       "      <td>50.000000</td>\n",
       "      <td>1.000000</td>\n",
       "      <td>56.000000</td>\n",
       "    </tr>\n",
       "    <tr>\n",
       "      <th>75%</th>\n",
       "      <td>55871.750000</td>\n",
       "      <td>49.000000</td>\n",
       "      <td>23.000000</td>\n",
       "      <td>8876.000000</td>\n",
       "      <td>2.000000</td>\n",
       "      <td>75.000000</td>\n",
       "      <td>3.000000</td>\n",
       "      <td>76.000000</td>\n",
       "    </tr>\n",
       "    <tr>\n",
       "      <th>max</th>\n",
       "      <td>74498.000000</td>\n",
       "      <td>59.000000</td>\n",
       "      <td>51.000000</td>\n",
       "      <td>50030.000000</td>\n",
       "      <td>4.000000</td>\n",
       "      <td>99.000000</td>\n",
       "      <td>15.000000</td>\n",
       "      <td>128.000000</td>\n",
       "    </tr>\n",
       "  </tbody>\n",
       "</table>\n",
       "</div>"
      ],
      "text/plain": [
       "        Employee ID           Age  Years at Company  Monthly Income  \\\n",
       "count  74610.000000  74610.000000      74610.000000    74610.000000   \n",
       "mean   37246.028696     38.529379         15.722638     7344.931417   \n",
       "std    21505.785344     12.082299         11.224059     2596.373589   \n",
       "min        1.000000     18.000000          1.000000     1226.000000   \n",
       "25%    18624.250000     28.000000          7.000000     5652.000000   \n",
       "50%    37239.500000     39.000000         13.000000     7348.500000   \n",
       "75%    55871.750000     49.000000         23.000000     8876.000000   \n",
       "max    74498.000000     59.000000         51.000000    50030.000000   \n",
       "\n",
       "       Number of Promotions  Distance from Home  Number of Dependents  \\\n",
       "count          74610.000000        72698.000000          74610.000000   \n",
       "mean               0.832958           49.990839              1.657432   \n",
       "std                0.995326           28.519135              1.579862   \n",
       "min                0.000000            1.000000              0.000000   \n",
       "25%                0.000000           25.000000              0.000000   \n",
       "50%                1.000000           50.000000              1.000000   \n",
       "75%                2.000000           75.000000              3.000000   \n",
       "max                4.000000           99.000000             15.000000   \n",
       "\n",
       "       Company Tenure (In Months)  \n",
       "count                72197.000000  \n",
       "mean                    55.711899  \n",
       "std                     25.392325  \n",
       "min                      2.000000  \n",
       "25%                     36.000000  \n",
       "50%                     56.000000  \n",
       "75%                     76.000000  \n",
       "max                    128.000000  "
      ]
     },
     "execution_count": 142,
     "metadata": {},
     "output_type": "execute_result"
    }
   ],
   "source": [
    "# Check the summary of the dataset\n",
    "emp_data.describe()"
   ]
  },
  {
   "cell_type": "markdown",
   "metadata": {
    "id": "vlLfK93PdFkt"
   },
   "source": [
    "### **1.3 Check the data type of columns**"
   ]
  },
  {
   "cell_type": "code",
   "execution_count": 143,
   "metadata": {
    "id": "0TplEft3bzE8"
   },
   "outputs": [
    {
     "name": "stdout",
     "output_type": "stream",
     "text": [
      "<class 'pandas.core.frame.DataFrame'>\n",
      "RangeIndex: 74610 entries, 0 to 74609\n",
      "Data columns (total 24 columns):\n",
      " #   Column                      Non-Null Count  Dtype  \n",
      "---  ------                      --------------  -----  \n",
      " 0   Employee ID                 74610 non-null  int64  \n",
      " 1   Age                         74610 non-null  int64  \n",
      " 2   Gender                      74610 non-null  object \n",
      " 3   Years at Company            74610 non-null  int64  \n",
      " 4   Job Role                    74610 non-null  object \n",
      " 5   Monthly Income              74610 non-null  int64  \n",
      " 6   Work-Life Balance           74610 non-null  object \n",
      " 7   Job Satisfaction            74610 non-null  object \n",
      " 8   Performance Rating          74610 non-null  object \n",
      " 9   Number of Promotions        74610 non-null  int64  \n",
      " 10  Overtime                    74610 non-null  object \n",
      " 11  Distance from Home          72698 non-null  float64\n",
      " 12  Education Level             74610 non-null  object \n",
      " 13  Marital Status              74610 non-null  object \n",
      " 14  Number of Dependents        74610 non-null  int64  \n",
      " 15  Job Level                   74610 non-null  object \n",
      " 16  Company Size                74610 non-null  object \n",
      " 17  Company Tenure (In Months)  72197 non-null  float64\n",
      " 18  Remote Work                 74610 non-null  object \n",
      " 19  Leadership Opportunities    74610 non-null  object \n",
      " 20  Innovation Opportunities    74610 non-null  object \n",
      " 21  Company Reputation          74610 non-null  object \n",
      " 22  Employee Recognition        74610 non-null  object \n",
      " 23  Attrition                   74610 non-null  object \n",
      "dtypes: float64(2), int64(6), object(16)\n",
      "memory usage: 13.7+ MB\n"
     ]
    }
   ],
   "source": [
    "# Check the info to see the types of the feature variables and the null values present\n",
    "emp_data.info()"
   ]
  },
  {
   "cell_type": "markdown",
   "metadata": {
    "id": "tNXum35MbzE9"
   },
   "source": [
    "## **2. Data Cleaning** <font color = red>[15 marks]</font>"
   ]
  },
  {
   "cell_type": "markdown",
   "metadata": {
    "id": "tC_ik7dobzE9"
   },
   "source": [
    "### **2.1 Handle the missing values** <font color = red>[10 marks]</font>"
   ]
  },
  {
   "cell_type": "markdown",
   "metadata": {
    "id": "8gPB7iZwdqxM"
   },
   "source": [
    "2.1.1 Check the number of missing values <font color=\"red\">[2 Mark]</font>"
   ]
  },
  {
   "cell_type": "code",
   "execution_count": 144,
   "metadata": {
    "id": "zOQGBvHSbzE9"
   },
   "outputs": [
    {
     "data": {
      "text/plain": [
       "Employee ID                      0\n",
       "Age                              0\n",
       "Gender                           0\n",
       "Years at Company                 0\n",
       "Job Role                         0\n",
       "Monthly Income                   0\n",
       "Work-Life Balance                0\n",
       "Job Satisfaction                 0\n",
       "Performance Rating               0\n",
       "Number of Promotions             0\n",
       "Overtime                         0\n",
       "Distance from Home            1912\n",
       "Education Level                  0\n",
       "Marital Status                   0\n",
       "Number of Dependents             0\n",
       "Job Level                        0\n",
       "Company Size                     0\n",
       "Company Tenure (In Months)    2413\n",
       "Remote Work                      0\n",
       "Leadership Opportunities         0\n",
       "Innovation Opportunities         0\n",
       "Company Reputation               0\n",
       "Employee Recognition             0\n",
       "Attrition                        0\n",
       "dtype: int64"
      ]
     },
     "execution_count": 144,
     "metadata": {},
     "output_type": "execute_result"
    }
   ],
   "source": [
    "# Check the number of missing values in each column\n",
    "emp_data.isnull().sum()"
   ]
  },
  {
   "cell_type": "markdown",
   "metadata": {
    "id": "vcFIVIOlR_91"
   },
   "source": [
    "2.1.2 Check the percentage of missing values <font color=\"red\">[2 Marks]</font>"
   ]
  },
  {
   "cell_type": "code",
   "execution_count": 145,
   "metadata": {
    "id": "sjpnMExYbzE9"
   },
   "outputs": [
    {
     "data": {
      "text/plain": [
       "Employee ID                   0.000000\n",
       "Age                           0.000000\n",
       "Gender                        0.000000\n",
       "Years at Company              0.000000\n",
       "Job Role                      0.000000\n",
       "Monthly Income                0.000000\n",
       "Work-Life Balance             0.000000\n",
       "Job Satisfaction              0.000000\n",
       "Performance Rating            0.000000\n",
       "Number of Promotions          0.000000\n",
       "Overtime                      0.000000\n",
       "Distance from Home            2.562659\n",
       "Education Level               0.000000\n",
       "Marital Status                0.000000\n",
       "Number of Dependents          0.000000\n",
       "Job Level                     0.000000\n",
       "Company Size                  0.000000\n",
       "Company Tenure (In Months)    3.234151\n",
       "Remote Work                   0.000000\n",
       "Leadership Opportunities      0.000000\n",
       "Innovation Opportunities      0.000000\n",
       "Company Reputation            0.000000\n",
       "Employee Recognition          0.000000\n",
       "Attrition                     0.000000\n",
       "dtype: float64"
      ]
     },
     "execution_count": 145,
     "metadata": {},
     "output_type": "execute_result"
    }
   ],
   "source": [
    "# Check the percentage of missing values in each column\n",
    "emp_data.isnull().sum()/len(emp_data)*100"
   ]
  },
  {
   "cell_type": "markdown",
   "metadata": {
    "id": "MJL1T8-Sd6S-"
   },
   "source": [
    "2.1.3 Handle rows with missing values <font color=\"red\">[4 Marks]</font>"
   ]
  },
  {
   "cell_type": "code",
   "execution_count": 146,
   "metadata": {
    "id": "qIMPqTTWbzE_"
   },
   "outputs": [],
   "source": [
    "# Handle the missing value rows in the column\n",
    "emp_data['Distance from Home'].fillna(emp_data['Distance from Home'].median(), inplace=True)\n",
    "emp_data['Company Tenure (In Months)'].fillna(emp_data['Company Tenure (In Months)'].median(), inplace=True)"
   ]
  },
  {
   "cell_type": "markdown",
   "metadata": {
    "id": "uefvEMkDeJhv"
   },
   "source": [
    "2.1.4 Check percentage of remaning data after missing values are removed <font color=\"red\">[2 Mark]</font>"
   ]
  },
  {
   "cell_type": "code",
   "execution_count": 147,
   "metadata": {
    "id": "SPIVeWX2bzFA"
   },
   "outputs": [
    {
     "data": {
      "text/plain": [
       "Employee ID                   0.0\n",
       "Age                           0.0\n",
       "Gender                        0.0\n",
       "Years at Company              0.0\n",
       "Job Role                      0.0\n",
       "Monthly Income                0.0\n",
       "Work-Life Balance             0.0\n",
       "Job Satisfaction              0.0\n",
       "Performance Rating            0.0\n",
       "Number of Promotions          0.0\n",
       "Overtime                      0.0\n",
       "Distance from Home            0.0\n",
       "Education Level               0.0\n",
       "Marital Status                0.0\n",
       "Number of Dependents          0.0\n",
       "Job Level                     0.0\n",
       "Company Size                  0.0\n",
       "Company Tenure (In Months)    0.0\n",
       "Remote Work                   0.0\n",
       "Leadership Opportunities      0.0\n",
       "Innovation Opportunities      0.0\n",
       "Company Reputation            0.0\n",
       "Employee Recognition          0.0\n",
       "Attrition                     0.0\n",
       "dtype: float64"
      ]
     },
     "execution_count": 147,
     "metadata": {},
     "output_type": "execute_result"
    }
   ],
   "source": [
    "# Check the percentage of remaining data after missing values are removed\n",
    "emp_data.isnull().sum()/len(emp_data)*100"
   ]
  },
  {
   "cell_type": "markdown",
   "metadata": {
    "id": "TbUOnf6rGEF1"
   },
   "source": [
    "### **2.2 Identify and handle redundant values within categorical columns (if any)** <font color = red>[3 marks]</font>"
   ]
  },
  {
   "cell_type": "markdown",
   "metadata": {
    "id": "kEYeQw_SeaLi"
   },
   "source": [
    "Examine the categorical columns to determine if any value or column needs to be treated"
   ]
  },
  {
   "cell_type": "code",
   "execution_count": 148,
   "metadata": {
    "id": "DIBKtZhZjIk6"
   },
   "outputs": [],
   "source": [
    "# Write a function to display the categorical columns with their unique values and check for redundant values\n",
    "def display_unique_categories(df, cat_cols):\n",
    "    for col in cat_cols:\n",
    "        print(f\"Column: {col}\")\n",
    "        print(df[col].unique())\n",
    "        print(\"-\" * 40)"
   ]
  },
  {
   "cell_type": "code",
   "execution_count": 149,
   "metadata": {
    "id": "P5eoGWCSbzFC"
   },
   "outputs": [
    {
     "name": "stdout",
     "output_type": "stream",
     "text": [
      "Column: Gender\n",
      "['Male' 'Female']\n",
      "----------------------------------------\n",
      "Column: Job Role\n",
      "['Education' 'Media' 'Healthcare' 'Technology' 'Finance']\n",
      "----------------------------------------\n",
      "Column: Work-Life Balance\n",
      "['Excellent' 'Poor' 'Good' 'Fair']\n",
      "----------------------------------------\n",
      "Column: Job Satisfaction\n",
      "['Medium' 'High' 'Very High' 'Low']\n",
      "----------------------------------------\n",
      "Column: Performance Rating\n",
      "['Average' 'Low' 'High' 'Below Average']\n",
      "----------------------------------------\n",
      "Column: Overtime\n",
      "['No' 'Yes']\n",
      "----------------------------------------\n",
      "Column: Education Level\n",
      "['Associate Degree' 'Masterâ€™s Degree' 'Bachelorâ€™s Degree'\n",
      " 'High School' 'PhD']\n",
      "----------------------------------------\n",
      "Column: Marital Status\n",
      "['Married' 'Divorced' 'Single']\n",
      "----------------------------------------\n",
      "Column: Job Level\n",
      "['Mid' 'Senior' 'Entry']\n",
      "----------------------------------------\n",
      "Column: Company Size\n",
      "['Medium' 'Small' 'Large']\n",
      "----------------------------------------\n",
      "Column: Remote Work\n",
      "['No' 'Yes']\n",
      "----------------------------------------\n",
      "Column: Leadership Opportunities\n",
      "['No' 'Yes']\n",
      "----------------------------------------\n",
      "Column: Innovation Opportunities\n",
      "['No' 'Yes']\n",
      "----------------------------------------\n",
      "Column: Company Reputation\n",
      "['Excellent' 'Fair' 'Poor' 'Good']\n",
      "----------------------------------------\n",
      "Column: Employee Recognition\n",
      "['Medium' 'Low' 'High' 'Very High']\n",
      "----------------------------------------\n",
      "Column: Attrition\n",
      "['Stayed' 'Left']\n",
      "----------------------------------------\n"
     ]
    }
   ],
   "source": [
    "# Check the data\n",
    "cat_cols = ['Gender', 'Job Role', 'Work-Life Balance', 'Job Satisfaction', 'Performance Rating', 'Overtime', 'Education Level',\n",
    "           'Marital Status', 'Job Level', 'Company Size', 'Remote Work', 'Leadership Opportunities', 'Innovation Opportunities', \n",
    "           'Company Reputation', 'Employee Recognition', 'Attrition']\n",
    "\n",
    "display_unique_categories(emp_data, cat_cols)"
   ]
  },
  {
   "cell_type": "markdown",
   "metadata": {
    "id": "7bfojd-9ek3I"
   },
   "source": [
    "### **2.3 Drop redundant columns** <font color = red>[2 marks]</font>"
   ]
  },
  {
   "cell_type": "code",
   "execution_count": 150,
   "metadata": {
    "id": "G4tBQCuxbzFC"
   },
   "outputs": [],
   "source": [
    "# Drop redundant columns which are not required for modelling\n",
    "#Dropping column 'Overtime' as we have another column 'Work-Life Balance'.\n",
    "emp_data.drop('Overtime', axis=1, inplace=True)"
   ]
  },
  {
   "cell_type": "code",
   "execution_count": 151,
   "metadata": {
    "id": "diL_DCV9bzFC"
   },
   "outputs": [
    {
     "data": {
      "text/html": [
       "<div>\n",
       "<style scoped>\n",
       "    .dataframe tbody tr th:only-of-type {\n",
       "        vertical-align: middle;\n",
       "    }\n",
       "\n",
       "    .dataframe tbody tr th {\n",
       "        vertical-align: top;\n",
       "    }\n",
       "\n",
       "    .dataframe thead th {\n",
       "        text-align: right;\n",
       "    }\n",
       "</style>\n",
       "<table border=\"1\" class=\"dataframe\">\n",
       "  <thead>\n",
       "    <tr style=\"text-align: right;\">\n",
       "      <th></th>\n",
       "      <th>Employee ID</th>\n",
       "      <th>Age</th>\n",
       "      <th>Gender</th>\n",
       "      <th>Years at Company</th>\n",
       "      <th>Job Role</th>\n",
       "      <th>Monthly Income</th>\n",
       "      <th>Work-Life Balance</th>\n",
       "      <th>Job Satisfaction</th>\n",
       "      <th>Performance Rating</th>\n",
       "      <th>Number of Promotions</th>\n",
       "      <th>...</th>\n",
       "      <th>Number of Dependents</th>\n",
       "      <th>Job Level</th>\n",
       "      <th>Company Size</th>\n",
       "      <th>Company Tenure (In Months)</th>\n",
       "      <th>Remote Work</th>\n",
       "      <th>Leadership Opportunities</th>\n",
       "      <th>Innovation Opportunities</th>\n",
       "      <th>Company Reputation</th>\n",
       "      <th>Employee Recognition</th>\n",
       "      <th>Attrition</th>\n",
       "    </tr>\n",
       "  </thead>\n",
       "  <tbody>\n",
       "    <tr>\n",
       "      <th>0</th>\n",
       "      <td>8410</td>\n",
       "      <td>31</td>\n",
       "      <td>Male</td>\n",
       "      <td>19</td>\n",
       "      <td>Education</td>\n",
       "      <td>5390</td>\n",
       "      <td>Excellent</td>\n",
       "      <td>Medium</td>\n",
       "      <td>Average</td>\n",
       "      <td>2</td>\n",
       "      <td>...</td>\n",
       "      <td>0</td>\n",
       "      <td>Mid</td>\n",
       "      <td>Medium</td>\n",
       "      <td>89.0</td>\n",
       "      <td>No</td>\n",
       "      <td>No</td>\n",
       "      <td>No</td>\n",
       "      <td>Excellent</td>\n",
       "      <td>Medium</td>\n",
       "      <td>Stayed</td>\n",
       "    </tr>\n",
       "    <tr>\n",
       "      <th>1</th>\n",
       "      <td>64756</td>\n",
       "      <td>59</td>\n",
       "      <td>Female</td>\n",
       "      <td>4</td>\n",
       "      <td>Media</td>\n",
       "      <td>5534</td>\n",
       "      <td>Poor</td>\n",
       "      <td>High</td>\n",
       "      <td>Low</td>\n",
       "      <td>3</td>\n",
       "      <td>...</td>\n",
       "      <td>3</td>\n",
       "      <td>Mid</td>\n",
       "      <td>Medium</td>\n",
       "      <td>21.0</td>\n",
       "      <td>No</td>\n",
       "      <td>No</td>\n",
       "      <td>No</td>\n",
       "      <td>Fair</td>\n",
       "      <td>Low</td>\n",
       "      <td>Stayed</td>\n",
       "    </tr>\n",
       "    <tr>\n",
       "      <th>2</th>\n",
       "      <td>30257</td>\n",
       "      <td>24</td>\n",
       "      <td>Female</td>\n",
       "      <td>10</td>\n",
       "      <td>Healthcare</td>\n",
       "      <td>8159</td>\n",
       "      <td>Good</td>\n",
       "      <td>High</td>\n",
       "      <td>Low</td>\n",
       "      <td>0</td>\n",
       "      <td>...</td>\n",
       "      <td>3</td>\n",
       "      <td>Mid</td>\n",
       "      <td>Medium</td>\n",
       "      <td>74.0</td>\n",
       "      <td>No</td>\n",
       "      <td>No</td>\n",
       "      <td>No</td>\n",
       "      <td>Poor</td>\n",
       "      <td>Low</td>\n",
       "      <td>Stayed</td>\n",
       "    </tr>\n",
       "    <tr>\n",
       "      <th>3</th>\n",
       "      <td>65791</td>\n",
       "      <td>36</td>\n",
       "      <td>Female</td>\n",
       "      <td>7</td>\n",
       "      <td>Education</td>\n",
       "      <td>3989</td>\n",
       "      <td>Good</td>\n",
       "      <td>High</td>\n",
       "      <td>High</td>\n",
       "      <td>1</td>\n",
       "      <td>...</td>\n",
       "      <td>2</td>\n",
       "      <td>Mid</td>\n",
       "      <td>Small</td>\n",
       "      <td>50.0</td>\n",
       "      <td>Yes</td>\n",
       "      <td>No</td>\n",
       "      <td>No</td>\n",
       "      <td>Good</td>\n",
       "      <td>Medium</td>\n",
       "      <td>Stayed</td>\n",
       "    </tr>\n",
       "    <tr>\n",
       "      <th>4</th>\n",
       "      <td>65026</td>\n",
       "      <td>56</td>\n",
       "      <td>Male</td>\n",
       "      <td>41</td>\n",
       "      <td>Education</td>\n",
       "      <td>4821</td>\n",
       "      <td>Fair</td>\n",
       "      <td>Very High</td>\n",
       "      <td>Average</td>\n",
       "      <td>0</td>\n",
       "      <td>...</td>\n",
       "      <td>0</td>\n",
       "      <td>Senior</td>\n",
       "      <td>Medium</td>\n",
       "      <td>68.0</td>\n",
       "      <td>No</td>\n",
       "      <td>No</td>\n",
       "      <td>No</td>\n",
       "      <td>Fair</td>\n",
       "      <td>Medium</td>\n",
       "      <td>Stayed</td>\n",
       "    </tr>\n",
       "  </tbody>\n",
       "</table>\n",
       "<p>5 rows × 23 columns</p>\n",
       "</div>"
      ],
      "text/plain": [
       "   Employee ID  Age  Gender  Years at Company    Job Role  Monthly Income  \\\n",
       "0         8410   31    Male                19   Education            5390   \n",
       "1        64756   59  Female                 4       Media            5534   \n",
       "2        30257   24  Female                10  Healthcare            8159   \n",
       "3        65791   36  Female                 7   Education            3989   \n",
       "4        65026   56    Male                41   Education            4821   \n",
       "\n",
       "  Work-Life Balance Job Satisfaction Performance Rating  Number of Promotions  \\\n",
       "0         Excellent           Medium            Average                     2   \n",
       "1              Poor             High                Low                     3   \n",
       "2              Good             High                Low                     0   \n",
       "3              Good             High               High                     1   \n",
       "4              Fair        Very High            Average                     0   \n",
       "\n",
       "   ...  Number of Dependents Job Level Company Size  \\\n",
       "0  ...                     0       Mid       Medium   \n",
       "1  ...                     3       Mid       Medium   \n",
       "2  ...                     3       Mid       Medium   \n",
       "3  ...                     2       Mid        Small   \n",
       "4  ...                     0    Senior       Medium   \n",
       "\n",
       "   Company Tenure (In Months) Remote Work Leadership Opportunities  \\\n",
       "0                        89.0          No                       No   \n",
       "1                        21.0          No                       No   \n",
       "2                        74.0          No                       No   \n",
       "3                        50.0         Yes                       No   \n",
       "4                        68.0          No                       No   \n",
       "\n",
       "   Innovation Opportunities Company Reputation Employee Recognition Attrition  \n",
       "0                        No          Excellent               Medium    Stayed  \n",
       "1                        No               Fair                  Low    Stayed  \n",
       "2                        No               Poor                  Low    Stayed  \n",
       "3                        No               Good               Medium    Stayed  \n",
       "4                        No               Fair               Medium    Stayed  \n",
       "\n",
       "[5 rows x 23 columns]"
      ]
     },
     "execution_count": 151,
     "metadata": {},
     "output_type": "execute_result"
    }
   ],
   "source": [
    "# Check first few rows of data\n",
    "emp_data.head()"
   ]
  },
  {
   "cell_type": "markdown",
   "metadata": {
    "id": "4j3GERIwML89"
   },
   "source": [
    "## **3. Train-Validation Split** <font color = red>[5 marks]</font>"
   ]
  },
  {
   "cell_type": "markdown",
   "metadata": {
    "id": "3k6v53qJhWvt"
   },
   "source": [
    "### **3.1 Import required libraries**"
   ]
  },
  {
   "cell_type": "code",
   "execution_count": 152,
   "metadata": {
    "id": "sYg9FxlvbzFH"
   },
   "outputs": [],
   "source": [
    "# Import Train Test Split\n",
    "from sklearn.model_selection import train_test_split"
   ]
  },
  {
   "cell_type": "markdown",
   "metadata": {
    "id": "KZbrbFe2hex4"
   },
   "source": [
    "### **3.2 Define feature and target variables** <font color = red>[2 Mark]</font>"
   ]
  },
  {
   "cell_type": "code",
   "execution_count": 153,
   "metadata": {
    "id": "UfJfQrc5bzFH"
   },
   "outputs": [],
   "source": [
    "# Put all the feature variables in X\n",
    "X = emp_data.drop('Attrition', axis=1)\n",
    "# Put the target variable in y\n",
    "y = emp_data['Attrition']"
   ]
  },
  {
   "cell_type": "markdown",
   "metadata": {
    "id": "say6J66Bh9mo"
   },
   "source": [
    "### **3.3 Split the data** <font color=\"red\">[3 Marks]</font>"
   ]
  },
  {
   "cell_type": "code",
   "execution_count": 154,
   "metadata": {
    "id": "zghEvbRUbzFH"
   },
   "outputs": [],
   "source": [
    "# Split the data into 70% train data and 30% validation data\n",
    "X_train, X_test, y_train, y_test = train_test_split(X, y, train_size=0.7, random_state=100)"
   ]
  },
  {
   "cell_type": "markdown",
   "metadata": {
    "id": "ldKNxCXogIz2"
   },
   "source": [
    "## **4. EDA on training data** <font color = red>[20 marks]</font>"
   ]
  },
  {
   "cell_type": "markdown",
   "metadata": {
    "id": "CGyYCt8-ZBR1"
   },
   "source": [
    "### **4.1 Perform univariate analysis** <font color = red>[6 marks]</font>"
   ]
  },
  {
   "cell_type": "markdown",
   "metadata": {
    "id": "YTdmWrZ1gjmv"
   },
   "source": [
    "Perform univariate analysis on training data for all the numerical columns.\n",
    "\n",
    "\n"
   ]
  },
  {
   "cell_type": "markdown",
   "metadata": {
    "id": "hDDjpMUcZPrp"
   },
   "source": [
    "4.1.1 Select numerical columns from training data <font color = \"red\">[1 Mark]</font>"
   ]
  },
  {
   "cell_type": "code",
   "execution_count": 155,
   "metadata": {
    "id": "ilQNUm3ugqEb"
   },
   "outputs": [
    {
     "data": {
      "text/plain": [
       "Index(['Employee ID', 'Age', 'Years at Company', 'Monthly Income',\n",
       "       'Number of Promotions', 'Distance from Home', 'Number of Dependents',\n",
       "       'Company Tenure (In Months)'],\n",
       "      dtype='object')"
      ]
     },
     "execution_count": 155,
     "metadata": {},
     "output_type": "execute_result"
    }
   ],
   "source": [
    "# Select numerical columns\n",
    "nums_cols = X_train.select_dtypes(include=['int64', 'float64']).columns\n",
    "nums_cols"
   ]
  },
  {
   "cell_type": "markdown",
   "metadata": {
    "id": "kx8SQw19ZfXw"
   },
   "source": [
    "4.1.2 Plot distribution of numerical columns <font color = \"red\">[5 Marks]</font>"
   ]
  },
  {
   "cell_type": "code",
   "execution_count": 156,
   "metadata": {
    "id": "zH5WGU_tgxnL"
   },
   "outputs": [
    {
     "data": {
      "image/png": "[encoded data removed]",
      "text/plain": [
       "<Figure size 1600x1000 with 8 Axes>"
      ]
     },
     "metadata": {},
     "output_type": "display_data"
    }
   ],
   "source": [
    "# Plot all the numerical columns to understand their distribution\n",
    "\n",
    "# Import necessary libraries\n",
    "import seaborn as sns\n",
    "import matplotlib.pyplot as plt\n",
    "\n",
    "plt.figure(figsize=(16, 10))\n",
    "for idx, col in enumerate(nums_cols): \n",
    "    plt.subplot(2, 4, idx + 1)\n",
    "    sns.histplot(X_train[col], kde=True)\n",
    "    plt.title(col)\n",
    "    plt.tight_layout()\n",
    "plt.show()"
   ]
  },
  {
   "cell_type": "markdown",
   "metadata": {
    "id": "ZwJQGBQuZwnC"
   },
   "source": [
    "### **4.2 Perform correlation analysis** <font color=\"red\">[4 Marks]</font>"
   ]
  },
  {
   "cell_type": "markdown",
   "metadata": {
    "id": "RN3ENFP6oRjq"
   },
   "source": [
    "Check the correlation among different numerical variables."
   ]
  },
  {
   "cell_type": "code",
   "execution_count": 157,
   "metadata": {
    "id": "qPFKI4vZoXXw"
   },
   "outputs": [
    {
     "data": {
      "image/png": "[encoded data removed]",
      "text/plain": [
       "<Figure size 800x800 with 2 Axes>"
      ]
     },
     "metadata": {},
     "output_type": "display_data"
    }
   ],
   "source": [
    "# Create correlation matrix for numerical columns\n",
    "corr_mat = X_train[nums_cols].corr()\n",
    "# Plot Heatmap of the correlation matrix\n",
    "plt.figure(figsize=(8, 8))  # Larger plot size\n",
    "sns.heatmap(corr_mat, \n",
    "            annot=True, \n",
    "            fmt='.2f', \n",
    "            cmap='coolwarm', \n",
    "            linewidths=0.5, \n",
    "            square=True, \n",
    "            cbar_kws={\"shrink\": 0.8})\n",
    "plt.title('Correlation Matrix of Numerical Features', fontsize=16)\n",
    "plt.xticks(rotation=45, ha='right')\n",
    "plt.yticks(rotation=0)\n",
    "plt.tight_layout()\n",
    "plt.show()"
   ]
  },
  {
   "cell_type": "markdown",
   "metadata": {
    "id": "g6YQGm9HaKA7"
   },
   "source": [
    "### **4.3 Check class balance** <font color=\"red\">[2 Marks]</font>"
   ]
  },
  {
   "cell_type": "markdown",
   "metadata": {
    "id": "_--fA2Dcpjml"
   },
   "source": [
    "Check the distribution of target variable in training set to check class balance."
   ]
  },
  {
   "cell_type": "code",
   "execution_count": 158,
   "metadata": {
    "id": "Lp-suUWKpn8h"
   },
   "outputs": [
    {
     "data": {
      "image/png": "[encoded data removed]",
      "text/plain": [
       "<Figure size 640x480 with 1 Axes>"
      ]
     },
     "metadata": {},
     "output_type": "display_data"
    }
   ],
   "source": [
    "# Plot a bar chart to check class balance\n",
    "sns.countplot(x=y_train)\n",
    "plt.title(\"Class Distribution in Attrition\")\n",
    "plt.xlabel(\"Attrition\")\n",
    "plt.ylabel(\"Count\")\n",
    "plt.show()"
   ]
  },
  {
   "cell_type": "markdown",
   "metadata": {
    "id": "lZ-lppqAaeZM"
   },
   "source": [
    "### **4.4 Perform bivariate analysis** <font color=\"red\">[8 Marks]</font>"
   ]
  },
  {
   "cell_type": "markdown",
   "metadata": {
    "id": "i4JjkVzja1kA"
   },
   "source": [
    "Perform bivariate analysis on training data between all the categorical columns and target variable to  analyse how the categorical variables influence the target variable."
   ]
  },
  {
   "cell_type": "code",
   "execution_count": 159,
   "metadata": {
    "id": "3-rK15xjsv6f"
   },
   "outputs": [
    {
     "data": {
      "image/png": "[encoded data removed]",
      "text/plain": [
       "<Figure size 1800x1500 with 14 Axes>"
      ]
     },
     "metadata": {},
     "output_type": "display_data"
    }
   ],
   "source": [
    "# Plot distribution for each categorical column with target variable\n",
    "cat_cols = ['Gender', 'Job Role', 'Work-Life Balance', 'Job Satisfaction', 'Performance Rating', 'Education Level',\n",
    "            'Marital Status', 'Job Level', 'Company Size', 'Remote Work', 'Leadership Opportunities', 'Innovation Opportunities', \n",
    "            'Company Reputation', 'Employee Recognition']\n",
    "\n",
    "plt.figure(figsize=(18, 15))\n",
    "for idx, col in enumerate(cat_cols):\n",
    "    plt.subplot(3, 5, idx + 1)\n",
    "    sns.countplot(data=X_train, x=col, hue=y_train)\n",
    "    plt.title(f'{col} vs Attrition')\n",
    "    plt.xticks(rotation=45)\n",
    "    plt.tight_layout()\n",
    "plt.show()"
   ]
  },
  {
   "cell_type": "markdown",
   "metadata": {
    "id": "nqRcfQ4avArz"
   },
   "source": [
    "## **5. EDA on validation data** <font color = red>[OPTIONAL]</font>"
   ]
  },
  {
   "cell_type": "markdown",
   "metadata": {
    "id": "I9Iq1uvfa7ro"
   },
   "source": [
    "### **5.1 Perform univariate analysis**"
   ]
  },
  {
   "cell_type": "markdown",
   "metadata": {
    "id": "EScWfXFNvAr3"
   },
   "source": [
    "Perform univariate analysis on validation data for all the numerical columns.\n"
   ]
  },
  {
   "cell_type": "markdown",
   "metadata": {
    "id": "ofFfSSPSa0sD"
   },
   "source": [
    "5.1.1 Select numerical columns from validation data"
   ]
  },
  {
   "cell_type": "code",
   "execution_count": 160,
   "metadata": {
    "id": "BpkHJm8BvAr3"
   },
   "outputs": [],
   "source": [
    "# Select numerical columns\n"
   ]
  },
  {
   "cell_type": "markdown",
   "metadata": {
    "id": "vZbQ8HzRbDPP"
   },
   "source": [
    "5.1.2 Plot distribution of numerical columns"
   ]
  },
  {
   "cell_type": "code",
   "execution_count": 161,
   "metadata": {
    "id": "VoNtrdrUvAr4"
   },
   "outputs": [],
   "source": [
    "# Plot all the numerical columns to understand their distribution\n"
   ]
  },
  {
   "cell_type": "markdown",
   "metadata": {
    "id": "85zpsiHUvAr4"
   },
   "source": [
    "### **5.2 Perform correlation analysis**"
   ]
  },
  {
   "cell_type": "markdown",
   "metadata": {
    "id": "5TcmX7ywaWuo"
   },
   "source": [
    "Check the correlation among different numerical variables."
   ]
  },
  {
   "cell_type": "code",
   "execution_count": 162,
   "metadata": {
    "id": "ylnfMmNqvAr4"
   },
   "outputs": [],
   "source": [
    "# Create correlation matrix for numerical columns\n",
    "\n",
    "# Plot Heatmap of the correlation matrix\n"
   ]
  },
  {
   "cell_type": "markdown",
   "metadata": {
    "id": "1fcm5Q1vvAr5"
   },
   "source": [
    "### **5.3 Check class balance**"
   ]
  },
  {
   "cell_type": "markdown",
   "metadata": {
    "id": "qz6Ewijyaa9h"
   },
   "source": [
    "Check the distribution of target variable in validation data to check class balance."
   ]
  },
  {
   "cell_type": "code",
   "execution_count": 163,
   "metadata": {
    "id": "ZiHsUZnkvAr5"
   },
   "outputs": [],
   "source": [
    "# Plot a bar chart to check class balance\n"
   ]
  },
  {
   "cell_type": "markdown",
   "metadata": {
    "id": "YQAoo6aKbcWz"
   },
   "source": [
    "### **5.4 Perform bivariate analysis**"
   ]
  },
  {
   "cell_type": "markdown",
   "metadata": {
    "id": "14-qNV44djPP"
   },
   "source": [
    "Perform bivariate analysis on validation data between all the categorical columns and target variable to analyse how the categorical variables influence the target variable."
   ]
  },
  {
   "cell_type": "code",
   "execution_count": 164,
   "metadata": {
    "id": "0EO4qSIovAr6"
   },
   "outputs": [],
   "source": [
    "# Plot distribution for each categorical column with target variable\n"
   ]
  },
  {
   "cell_type": "markdown",
   "metadata": {
    "id": "0DGrycx6wKmN"
   },
   "source": [
    "## **6. Feature Engineering** <font color = red>[20 marks]</font>"
   ]
  },
  {
   "cell_type": "markdown",
   "metadata": {
    "id": "xzdF2TmEbzFD"
   },
   "source": [
    "### **6.1 Dummy variable creation** <font color = red>[15 marks]</font>\n",
    "\n",
    "\n",
    "The next step is to deal with the categorical variables present in the data."
   ]
  },
  {
   "cell_type": "markdown",
   "metadata": {
    "id": "_vG9HZkVe3Lk"
   },
   "source": [
    "6.1.1 Identify categorical columns where dummy variables are required <font color=\"red\">[1 Mark]</font>"
   ]
  },
  {
   "cell_type": "code",
   "execution_count": 165,
   "metadata": {
    "id": "7dUFEFVGbzFD"
   },
   "outputs": [
    {
     "data": {
      "text/plain": [
       "Index(['Gender', 'Job Role', 'Work-Life Balance', 'Job Satisfaction',\n",
       "       'Performance Rating', 'Education Level', 'Marital Status', 'Job Level',\n",
       "       'Company Size', 'Remote Work', 'Leadership Opportunities',\n",
       "       'Innovation Opportunities', 'Company Reputation',\n",
       "       'Employee Recognition'],\n",
       "      dtype='object')"
      ]
     },
     "execution_count": 165,
     "metadata": {},
     "output_type": "execute_result"
    }
   ],
   "source": [
    "# Check the categorical columns\n",
    "X_train.select_dtypes('object').columns"
   ]
  },
  {
   "cell_type": "markdown",
   "metadata": {
    "id": "dLpmkPp6e-1j"
   },
   "source": [
    "6.1.2 Create dummy variables for independent columns in training set <font color=\"red\">[3 Marks]</font>"
   ]
  },
  {
   "cell_type": "code",
   "execution_count": 166,
   "metadata": {
    "id": "x5vk968HbzFE"
   },
   "outputs": [],
   "source": [
    "# Create dummy variables using the 'get_dummies' for independent columns\n",
    "# Add the results to the master DataFrame\n",
    "bin_cols = ['Remote Work', 'Leadership Opportunities', 'Innovation Opportunities']\n",
    "for col in bin_cols:\n",
    "    X_train[col] = X_train[col].map({'Yes': 1, 'No': 0})\n",
    "\n",
    "mul_cat_col = ['Gender', 'Job Role', 'Work-Life Balance', 'Job Satisfaction',\n",
    "               'Performance Rating', 'Education Level', 'Marital Status',\n",
    "               'Job Level', 'Company Size', 'Company Reputation',\n",
    "               'Employee Recognition']\n",
    "X_train = pd.get_dummies(X_train, columns=mul_cat_col, drop_first=True).astype(int)"
   ]
  },
  {
   "cell_type": "markdown",
   "metadata": {
    "id": "xJFSbVR9uYjT"
   },
   "source": [
    "Now, drop the original categorical columns and check the DataFrame"
   ]
  },
  {
   "cell_type": "code",
   "execution_count": 167,
   "metadata": {},
   "outputs": [
    {
     "name": "stdout",
     "output_type": "stream",
     "text": [
      "<class 'pandas.core.frame.DataFrame'>\n",
      "Index: 52227 entries, 60704 to 38408\n",
      "Data columns (total 41 columns):\n",
      " #   Column                               Non-Null Count  Dtype\n",
      "---  ------                               --------------  -----\n",
      " 0   Employee ID                          52227 non-null  int32\n",
      " 1   Age                                  52227 non-null  int32\n",
      " 2   Years at Company                     52227 non-null  int32\n",
      " 3   Monthly Income                       52227 non-null  int32\n",
      " 4   Number of Promotions                 52227 non-null  int32\n",
      " 5   Distance from Home                   52227 non-null  int32\n",
      " 6   Number of Dependents                 52227 non-null  int32\n",
      " 7   Company Tenure (In Months)           52227 non-null  int32\n",
      " 8   Remote Work                          52227 non-null  int32\n",
      " 9   Leadership Opportunities             52227 non-null  int32\n",
      " 10  Innovation Opportunities             52227 non-null  int32\n",
      " 11  Gender_Male                          52227 non-null  int32\n",
      " 12  Job Role_Finance                     52227 non-null  int32\n",
      " 13  Job Role_Healthcare                  52227 non-null  int32\n",
      " 14  Job Role_Media                       52227 non-null  int32\n",
      " 15  Job Role_Technology                  52227 non-null  int32\n",
      " 16  Work-Life Balance_Fair               52227 non-null  int32\n",
      " 17  Work-Life Balance_Good               52227 non-null  int32\n",
      " 18  Work-Life Balance_Poor               52227 non-null  int32\n",
      " 19  Job Satisfaction_Low                 52227 non-null  int32\n",
      " 20  Job Satisfaction_Medium              52227 non-null  int32\n",
      " 21  Job Satisfaction_Very High           52227 non-null  int32\n",
      " 22  Performance Rating_Below Average     52227 non-null  int32\n",
      " 23  Performance Rating_High              52227 non-null  int32\n",
      " 24  Performance Rating_Low               52227 non-null  int32\n",
      " 25  Education Level_Bachelorâ€™s Degree  52227 non-null  int32\n",
      " 26  Education Level_High School          52227 non-null  int32\n",
      " 27  Education Level_Masterâ€™s Degree    52227 non-null  int32\n",
      " 28  Education Level_PhD                  52227 non-null  int32\n",
      " 29  Marital Status_Married               52227 non-null  int32\n",
      " 30  Marital Status_Single                52227 non-null  int32\n",
      " 31  Job Level_Mid                        52227 non-null  int32\n",
      " 32  Job Level_Senior                     52227 non-null  int32\n",
      " 33  Company Size_Medium                  52227 non-null  int32\n",
      " 34  Company Size_Small                   52227 non-null  int32\n",
      " 35  Company Reputation_Fair              52227 non-null  int32\n",
      " 36  Company Reputation_Good              52227 non-null  int32\n",
      " 37  Company Reputation_Poor              52227 non-null  int32\n",
      " 38  Employee Recognition_Low             52227 non-null  int32\n",
      " 39  Employee Recognition_Medium          52227 non-null  int32\n",
      " 40  Employee Recognition_Very High       52227 non-null  int32\n",
      "dtypes: int32(41)\n",
      "memory usage: 8.6 MB\n"
     ]
    }
   ],
   "source": [
    "X_train.info()"
   ]
  },
  {
   "cell_type": "code",
   "execution_count": 168,
   "metadata": {
    "id": "m-U8OPvKyOs-"
   },
   "outputs": [
    {
     "data": {
      "text/html": [
       "<div>\n",
       "<style scoped>\n",
       "    .dataframe tbody tr th:only-of-type {\n",
       "        vertical-align: middle;\n",
       "    }\n",
       "\n",
       "    .dataframe tbody tr th {\n",
       "        vertical-align: top;\n",
       "    }\n",
       "\n",
       "    .dataframe thead th {\n",
       "        text-align: right;\n",
       "    }\n",
       "</style>\n",
       "<table border=\"1\" class=\"dataframe\">\n",
       "  <thead>\n",
       "    <tr style=\"text-align: right;\">\n",
       "      <th></th>\n",
       "      <th>Employee ID</th>\n",
       "      <th>Age</th>\n",
       "      <th>Years at Company</th>\n",
       "      <th>Monthly Income</th>\n",
       "      <th>Number of Promotions</th>\n",
       "      <th>Distance from Home</th>\n",
       "      <th>Number of Dependents</th>\n",
       "      <th>Company Tenure (In Months)</th>\n",
       "      <th>Remote Work</th>\n",
       "      <th>Leadership Opportunities</th>\n",
       "      <th>...</th>\n",
       "      <th>Job Level_Mid</th>\n",
       "      <th>Job Level_Senior</th>\n",
       "      <th>Company Size_Medium</th>\n",
       "      <th>Company Size_Small</th>\n",
       "      <th>Company Reputation_Fair</th>\n",
       "      <th>Company Reputation_Good</th>\n",
       "      <th>Company Reputation_Poor</th>\n",
       "      <th>Employee Recognition_Low</th>\n",
       "      <th>Employee Recognition_Medium</th>\n",
       "      <th>Employee Recognition_Very High</th>\n",
       "    </tr>\n",
       "  </thead>\n",
       "  <tbody>\n",
       "    <tr>\n",
       "      <th>60704</th>\n",
       "      <td>59531</td>\n",
       "      <td>33</td>\n",
       "      <td>23</td>\n",
       "      <td>6379</td>\n",
       "      <td>0</td>\n",
       "      <td>40</td>\n",
       "      <td>2</td>\n",
       "      <td>39</td>\n",
       "      <td>0</td>\n",
       "      <td>0</td>\n",
       "      <td>...</td>\n",
       "      <td>0</td>\n",
       "      <td>0</td>\n",
       "      <td>1</td>\n",
       "      <td>0</td>\n",
       "      <td>1</td>\n",
       "      <td>0</td>\n",
       "      <td>0</td>\n",
       "      <td>0</td>\n",
       "      <td>0</td>\n",
       "      <td>0</td>\n",
       "    </tr>\n",
       "    <tr>\n",
       "      <th>16163</th>\n",
       "      <td>23769</td>\n",
       "      <td>52</td>\n",
       "      <td>3</td>\n",
       "      <td>3776</td>\n",
       "      <td>1</td>\n",
       "      <td>93</td>\n",
       "      <td>2</td>\n",
       "      <td>27</td>\n",
       "      <td>0</td>\n",
       "      <td>0</td>\n",
       "      <td>...</td>\n",
       "      <td>1</td>\n",
       "      <td>0</td>\n",
       "      <td>0</td>\n",
       "      <td>1</td>\n",
       "      <td>0</td>\n",
       "      <td>0</td>\n",
       "      <td>1</td>\n",
       "      <td>1</td>\n",
       "      <td>0</td>\n",
       "      <td>0</td>\n",
       "    </tr>\n",
       "    <tr>\n",
       "      <th>25709</th>\n",
       "      <td>7634</td>\n",
       "      <td>36</td>\n",
       "      <td>20</td>\n",
       "      <td>12194</td>\n",
       "      <td>0</td>\n",
       "      <td>21</td>\n",
       "      <td>2</td>\n",
       "      <td>45</td>\n",
       "      <td>0</td>\n",
       "      <td>0</td>\n",
       "      <td>...</td>\n",
       "      <td>1</td>\n",
       "      <td>0</td>\n",
       "      <td>1</td>\n",
       "      <td>0</td>\n",
       "      <td>0</td>\n",
       "      <td>1</td>\n",
       "      <td>0</td>\n",
       "      <td>0</td>\n",
       "      <td>1</td>\n",
       "      <td>0</td>\n",
       "    </tr>\n",
       "    <tr>\n",
       "      <th>4354</th>\n",
       "      <td>8742</td>\n",
       "      <td>46</td>\n",
       "      <td>7</td>\n",
       "      <td>7591</td>\n",
       "      <td>0</td>\n",
       "      <td>96</td>\n",
       "      <td>1</td>\n",
       "      <td>21</td>\n",
       "      <td>0</td>\n",
       "      <td>0</td>\n",
       "      <td>...</td>\n",
       "      <td>0</td>\n",
       "      <td>0</td>\n",
       "      <td>1</td>\n",
       "      <td>0</td>\n",
       "      <td>0</td>\n",
       "      <td>1</td>\n",
       "      <td>0</td>\n",
       "      <td>0</td>\n",
       "      <td>0</td>\n",
       "      <td>0</td>\n",
       "    </tr>\n",
       "    <tr>\n",
       "      <th>49862</th>\n",
       "      <td>74200</td>\n",
       "      <td>35</td>\n",
       "      <td>26</td>\n",
       "      <td>5028</td>\n",
       "      <td>1</td>\n",
       "      <td>28</td>\n",
       "      <td>0</td>\n",
       "      <td>42</td>\n",
       "      <td>0</td>\n",
       "      <td>0</td>\n",
       "      <td>...</td>\n",
       "      <td>0</td>\n",
       "      <td>0</td>\n",
       "      <td>0</td>\n",
       "      <td>1</td>\n",
       "      <td>0</td>\n",
       "      <td>1</td>\n",
       "      <td>0</td>\n",
       "      <td>1</td>\n",
       "      <td>0</td>\n",
       "      <td>0</td>\n",
       "    </tr>\n",
       "  </tbody>\n",
       "</table>\n",
       "<p>5 rows × 41 columns</p>\n",
       "</div>"
      ],
      "text/plain": [
       "       Employee ID  Age  Years at Company  Monthly Income  \\\n",
       "60704        59531   33                23            6379   \n",
       "16163        23769   52                 3            3776   \n",
       "25709         7634   36                20           12194   \n",
       "4354          8742   46                 7            7591   \n",
       "49862        74200   35                26            5028   \n",
       "\n",
       "       Number of Promotions  Distance from Home  Number of Dependents  \\\n",
       "60704                     0                  40                     2   \n",
       "16163                     1                  93                     2   \n",
       "25709                     0                  21                     2   \n",
       "4354                      0                  96                     1   \n",
       "49862                     1                  28                     0   \n",
       "\n",
       "       Company Tenure (In Months)  Remote Work  Leadership Opportunities  ...  \\\n",
       "60704                          39            0                         0  ...   \n",
       "16163                          27            0                         0  ...   \n",
       "25709                          45            0                         0  ...   \n",
       "4354                           21            0                         0  ...   \n",
       "49862                          42            0                         0  ...   \n",
       "\n",
       "       Job Level_Mid  Job Level_Senior  Company Size_Medium  \\\n",
       "60704              0                 0                    1   \n",
       "16163              1                 0                    0   \n",
       "25709              1                 0                    1   \n",
       "4354               0                 0                    1   \n",
       "49862              0                 0                    0   \n",
       "\n",
       "       Company Size_Small  Company Reputation_Fair  Company Reputation_Good  \\\n",
       "60704                   0                        1                        0   \n",
       "16163                   1                        0                        0   \n",
       "25709                   0                        0                        1   \n",
       "4354                    0                        0                        1   \n",
       "49862                   1                        0                        1   \n",
       "\n",
       "       Company Reputation_Poor  Employee Recognition_Low  \\\n",
       "60704                        0                         0   \n",
       "16163                        1                         1   \n",
       "25709                        0                         0   \n",
       "4354                         0                         0   \n",
       "49862                        0                         1   \n",
       "\n",
       "       Employee Recognition_Medium  Employee Recognition_Very High  \n",
       "60704                            0                               0  \n",
       "16163                            0                               0  \n",
       "25709                            1                               0  \n",
       "4354                             0                               0  \n",
       "49862                            0                               0  \n",
       "\n",
       "[5 rows x 41 columns]"
      ]
     },
     "execution_count": 168,
     "metadata": {},
     "output_type": "execute_result"
    }
   ],
   "source": [
    "# Drop the original categorical columns and check the DataFrame\n",
    "X_train.head()"
   ]
  },
  {
   "cell_type": "markdown",
   "metadata": {
    "id": "kqMXYxpowQc6"
   },
   "source": [
    "6.1.3 Create dummy variables for independent columns in validation set <font color=\"red\">[3 Marks]</font>"
   ]
  },
  {
   "cell_type": "code",
   "execution_count": 169,
   "metadata": {
    "id": "Ib8Zdq6Ruuj_"
   },
   "outputs": [],
   "source": [
    "# Create dummy variables using the 'get_dummies' for independent columns\n",
    "# Add the results to the master DataFrame\n",
    "bin_cols = ['Remote Work', 'Leadership Opportunities', 'Innovation Opportunities']\n",
    "for col in bin_cols:\n",
    "    X_test[col] = X_test[col].map({'Yes': 1, 'No': 0})\n",
    "\n",
    "mul_cat_col = ['Gender', 'Job Role', 'Work-Life Balance', 'Job Satisfaction',\n",
    "               'Performance Rating', 'Education Level', 'Marital Status',\n",
    "               'Job Level', 'Company Size', 'Company Reputation',\n",
    "               'Employee Recognition']\n",
    "X_test = pd.get_dummies(X_test, columns=mul_cat_col, drop_first=True).astype(int)"
   ]
  },
  {
   "cell_type": "markdown",
   "metadata": {
    "id": "9RDKGX9N4qLq"
   },
   "source": [
    "Now, drop the original categorical columns and check the DataFrame"
   ]
  },
  {
   "cell_type": "code",
   "execution_count": 170,
   "metadata": {
    "id": "Dh6Mk_JvyUkz"
   },
   "outputs": [
    {
     "data": {
      "text/html": [
       "<div>\n",
       "<style scoped>\n",
       "    .dataframe tbody tr th:only-of-type {\n",
       "        vertical-align: middle;\n",
       "    }\n",
       "\n",
       "    .dataframe tbody tr th {\n",
       "        vertical-align: top;\n",
       "    }\n",
       "\n",
       "    .dataframe thead th {\n",
       "        text-align: right;\n",
       "    }\n",
       "</style>\n",
       "<table border=\"1\" class=\"dataframe\">\n",
       "  <thead>\n",
       "    <tr style=\"text-align: right;\">\n",
       "      <th></th>\n",
       "      <th>Employee ID</th>\n",
       "      <th>Age</th>\n",
       "      <th>Years at Company</th>\n",
       "      <th>Monthly Income</th>\n",
       "      <th>Number of Promotions</th>\n",
       "      <th>Distance from Home</th>\n",
       "      <th>Number of Dependents</th>\n",
       "      <th>Company Tenure (In Months)</th>\n",
       "      <th>Remote Work</th>\n",
       "      <th>Leadership Opportunities</th>\n",
       "      <th>...</th>\n",
       "      <th>Job Level_Mid</th>\n",
       "      <th>Job Level_Senior</th>\n",
       "      <th>Company Size_Medium</th>\n",
       "      <th>Company Size_Small</th>\n",
       "      <th>Company Reputation_Fair</th>\n",
       "      <th>Company Reputation_Good</th>\n",
       "      <th>Company Reputation_Poor</th>\n",
       "      <th>Employee Recognition_Low</th>\n",
       "      <th>Employee Recognition_Medium</th>\n",
       "      <th>Employee Recognition_Very High</th>\n",
       "    </tr>\n",
       "  </thead>\n",
       "  <tbody>\n",
       "    <tr>\n",
       "      <th>61539</th>\n",
       "      <td>56957</td>\n",
       "      <td>58</td>\n",
       "      <td>43</td>\n",
       "      <td>10970</td>\n",
       "      <td>0</td>\n",
       "      <td>53</td>\n",
       "      <td>0</td>\n",
       "      <td>57</td>\n",
       "      <td>1</td>\n",
       "      <td>0</td>\n",
       "      <td>...</td>\n",
       "      <td>0</td>\n",
       "      <td>1</td>\n",
       "      <td>1</td>\n",
       "      <td>0</td>\n",
       "      <td>0</td>\n",
       "      <td>1</td>\n",
       "      <td>0</td>\n",
       "      <td>0</td>\n",
       "      <td>1</td>\n",
       "      <td>0</td>\n",
       "    </tr>\n",
       "    <tr>\n",
       "      <th>42583</th>\n",
       "      <td>26041</td>\n",
       "      <td>18</td>\n",
       "      <td>6</td>\n",
       "      <td>9242</td>\n",
       "      <td>0</td>\n",
       "      <td>31</td>\n",
       "      <td>3</td>\n",
       "      <td>63</td>\n",
       "      <td>0</td>\n",
       "      <td>0</td>\n",
       "      <td>...</td>\n",
       "      <td>1</td>\n",
       "      <td>0</td>\n",
       "      <td>0</td>\n",
       "      <td>0</td>\n",
       "      <td>0</td>\n",
       "      <td>1</td>\n",
       "      <td>0</td>\n",
       "      <td>0</td>\n",
       "      <td>0</td>\n",
       "      <td>0</td>\n",
       "    </tr>\n",
       "    <tr>\n",
       "      <th>55936</th>\n",
       "      <td>4435</td>\n",
       "      <td>49</td>\n",
       "      <td>15</td>\n",
       "      <td>5171</td>\n",
       "      <td>0</td>\n",
       "      <td>55</td>\n",
       "      <td>3</td>\n",
       "      <td>47</td>\n",
       "      <td>0</td>\n",
       "      <td>0</td>\n",
       "      <td>...</td>\n",
       "      <td>0</td>\n",
       "      <td>0</td>\n",
       "      <td>1</td>\n",
       "      <td>0</td>\n",
       "      <td>0</td>\n",
       "      <td>1</td>\n",
       "      <td>0</td>\n",
       "      <td>0</td>\n",
       "      <td>1</td>\n",
       "      <td>0</td>\n",
       "    </tr>\n",
       "    <tr>\n",
       "      <th>66035</th>\n",
       "      <td>38945</td>\n",
       "      <td>46</td>\n",
       "      <td>18</td>\n",
       "      <td>8151</td>\n",
       "      <td>2</td>\n",
       "      <td>42</td>\n",
       "      <td>0</td>\n",
       "      <td>30</td>\n",
       "      <td>0</td>\n",
       "      <td>0</td>\n",
       "      <td>...</td>\n",
       "      <td>1</td>\n",
       "      <td>0</td>\n",
       "      <td>0</td>\n",
       "      <td>0</td>\n",
       "      <td>0</td>\n",
       "      <td>1</td>\n",
       "      <td>0</td>\n",
       "      <td>0</td>\n",
       "      <td>1</td>\n",
       "      <td>0</td>\n",
       "    </tr>\n",
       "    <tr>\n",
       "      <th>23119</th>\n",
       "      <td>69132</td>\n",
       "      <td>43</td>\n",
       "      <td>22</td>\n",
       "      <td>8304</td>\n",
       "      <td>1</td>\n",
       "      <td>50</td>\n",
       "      <td>2</td>\n",
       "      <td>76</td>\n",
       "      <td>0</td>\n",
       "      <td>0</td>\n",
       "      <td>...</td>\n",
       "      <td>0</td>\n",
       "      <td>0</td>\n",
       "      <td>1</td>\n",
       "      <td>0</td>\n",
       "      <td>0</td>\n",
       "      <td>0</td>\n",
       "      <td>1</td>\n",
       "      <td>0</td>\n",
       "      <td>1</td>\n",
       "      <td>0</td>\n",
       "    </tr>\n",
       "  </tbody>\n",
       "</table>\n",
       "<p>5 rows × 41 columns</p>\n",
       "</div>"
      ],
      "text/plain": [
       "       Employee ID  Age  Years at Company  Monthly Income  \\\n",
       "61539        56957   58                43           10970   \n",
       "42583        26041   18                 6            9242   \n",
       "55936         4435   49                15            5171   \n",
       "66035        38945   46                18            8151   \n",
       "23119        69132   43                22            8304   \n",
       "\n",
       "       Number of Promotions  Distance from Home  Number of Dependents  \\\n",
       "61539                     0                  53                     0   \n",
       "42583                     0                  31                     3   \n",
       "55936                     0                  55                     3   \n",
       "66035                     2                  42                     0   \n",
       "23119                     1                  50                     2   \n",
       "\n",
       "       Company Tenure (In Months)  Remote Work  Leadership Opportunities  ...  \\\n",
       "61539                          57            1                         0  ...   \n",
       "42583                          63            0                         0  ...   \n",
       "55936                          47            0                         0  ...   \n",
       "66035                          30            0                         0  ...   \n",
       "23119                          76            0                         0  ...   \n",
       "\n",
       "       Job Level_Mid  Job Level_Senior  Company Size_Medium  \\\n",
       "61539              0                 1                    1   \n",
       "42583              1                 0                    0   \n",
       "55936              0                 0                    1   \n",
       "66035              1                 0                    0   \n",
       "23119              0                 0                    1   \n",
       "\n",
       "       Company Size_Small  Company Reputation_Fair  Company Reputation_Good  \\\n",
       "61539                   0                        0                        1   \n",
       "42583                   0                        0                        1   \n",
       "55936                   0                        0                        1   \n",
       "66035                   0                        0                        1   \n",
       "23119                   0                        0                        0   \n",
       "\n",
       "       Company Reputation_Poor  Employee Recognition_Low  \\\n",
       "61539                        0                         0   \n",
       "42583                        0                         0   \n",
       "55936                        0                         0   \n",
       "66035                        0                         0   \n",
       "23119                        1                         0   \n",
       "\n",
       "       Employee Recognition_Medium  Employee Recognition_Very High  \n",
       "61539                            1                               0  \n",
       "42583                            0                               0  \n",
       "55936                            1                               0  \n",
       "66035                            1                               0  \n",
       "23119                            1                               0  \n",
       "\n",
       "[5 rows x 41 columns]"
      ]
     },
     "execution_count": 170,
     "metadata": {},
     "output_type": "execute_result"
    }
   ],
   "source": [
    "# Drop categorical columns and check the DataFrame\n",
    "X_test.head()"
   ]
  },
  {
   "cell_type": "markdown",
   "metadata": {
    "id": "zesgvCjzPHba"
   },
   "source": [
    "6.1.4 Create DataFrame for dependent column in both training and validation set <font color = \"red\">[1 Mark]</font>"
   ]
  },
  {
   "cell_type": "code",
   "execution_count": 171,
   "metadata": {
    "id": "e2JTJRaa-qem"
   },
   "outputs": [
    {
     "data": {
      "text/html": [
       "<div>\n",
       "<style scoped>\n",
       "    .dataframe tbody tr th:only-of-type {\n",
       "        vertical-align: middle;\n",
       "    }\n",
       "\n",
       "    .dataframe tbody tr th {\n",
       "        vertical-align: top;\n",
       "    }\n",
       "\n",
       "    .dataframe thead th {\n",
       "        text-align: right;\n",
       "    }\n",
       "</style>\n",
       "<table border=\"1\" class=\"dataframe\">\n",
       "  <thead>\n",
       "    <tr style=\"text-align: right;\">\n",
       "      <th></th>\n",
       "      <th>y_train</th>\n",
       "      <th>y_test</th>\n",
       "    </tr>\n",
       "  </thead>\n",
       "  <tbody>\n",
       "    <tr>\n",
       "      <th>0</th>\n",
       "      <td>NaN</td>\n",
       "      <td>Stayed</td>\n",
       "    </tr>\n",
       "    <tr>\n",
       "      <th>1</th>\n",
       "      <td>Stayed</td>\n",
       "      <td>NaN</td>\n",
       "    </tr>\n",
       "    <tr>\n",
       "      <th>2</th>\n",
       "      <td>Stayed</td>\n",
       "      <td>NaN</td>\n",
       "    </tr>\n",
       "    <tr>\n",
       "      <th>3</th>\n",
       "      <td>NaN</td>\n",
       "      <td>Stayed</td>\n",
       "    </tr>\n",
       "    <tr>\n",
       "      <th>4</th>\n",
       "      <td>Stayed</td>\n",
       "      <td>NaN</td>\n",
       "    </tr>\n",
       "    <tr>\n",
       "      <th>...</th>\n",
       "      <td>...</td>\n",
       "      <td>...</td>\n",
       "    </tr>\n",
       "    <tr>\n",
       "      <th>74605</th>\n",
       "      <td>Left</td>\n",
       "      <td>NaN</td>\n",
       "    </tr>\n",
       "    <tr>\n",
       "      <th>74606</th>\n",
       "      <td>Stayed</td>\n",
       "      <td>NaN</td>\n",
       "    </tr>\n",
       "    <tr>\n",
       "      <th>74607</th>\n",
       "      <td>NaN</td>\n",
       "      <td>Left</td>\n",
       "    </tr>\n",
       "    <tr>\n",
       "      <th>74608</th>\n",
       "      <td>NaN</td>\n",
       "      <td>Stayed</td>\n",
       "    </tr>\n",
       "    <tr>\n",
       "      <th>74609</th>\n",
       "      <td>NaN</td>\n",
       "      <td>Stayed</td>\n",
       "    </tr>\n",
       "  </tbody>\n",
       "</table>\n",
       "<p>74610 rows × 2 columns</p>\n",
       "</div>"
      ],
      "text/plain": [
       "      y_train  y_test\n",
       "0         NaN  Stayed\n",
       "1      Stayed     NaN\n",
       "2      Stayed     NaN\n",
       "3         NaN  Stayed\n",
       "4      Stayed     NaN\n",
       "...       ...     ...\n",
       "74605    Left     NaN\n",
       "74606  Stayed     NaN\n",
       "74607     NaN    Left\n",
       "74608     NaN  Stayed\n",
       "74609     NaN  Stayed\n",
       "\n",
       "[74610 rows x 2 columns]"
      ]
     },
     "execution_count": 171,
     "metadata": {},
     "output_type": "execute_result"
    }
   ],
   "source": [
    "# Convert y_train and y_validation to DataFrame to create dummy variables\n",
    "y_df = pd.DataFrame({'y_train': y_train, 'y_test': y_test})\n",
    "y_df"
   ]
  },
  {
   "cell_type": "markdown",
   "metadata": {
    "id": "2QN-k-IHPX5s"
   },
   "source": [
    "6.1.5 Create dummy variables for dependent column in training set <font color=\"red\">[3 Marks]</font>"
   ]
  },
  {
   "cell_type": "code",
   "execution_count": 172,
   "metadata": {
    "id": "OfrtF4a59LNK"
   },
   "outputs": [],
   "source": [
    "# Create dummy variables using the 'get_dummies' for dependent column\n",
    "y_train = y_train.map({'Left': 0, 'Stayed': 1})"
   ]
  },
  {
   "cell_type": "markdown",
   "metadata": {
    "id": "8p_zQEx4w-OU"
   },
   "source": [
    "6.1.6 Create dummy variable for dependent column in validation set <font color = \"red\">[3 Marks]</font>"
   ]
  },
  {
   "cell_type": "code",
   "execution_count": 173,
   "metadata": {
    "id": "5mWed8j5xOS7"
   },
   "outputs": [],
   "source": [
    "# Create dummy variables using the 'get_dummies' for dependent column\n",
    "y_test = y_test.map({'Left': 0, 'Stayed': 1})"
   ]
  },
  {
   "cell_type": "markdown",
   "metadata": {
    "id": "-ej5eSB4PiCx"
   },
   "source": [
    "6.1.7 Drop redundant columns <font color=\"red\">[1 Mark]</font>"
   ]
  },
  {
   "cell_type": "code",
   "execution_count": null,
   "metadata": {
    "id": "WxYmaNE5Aoas"
   },
   "outputs": [],
   "source": [
    "# Drop redundant columns from both train and validation\n"
   ]
  },
  {
   "cell_type": "markdown",
   "metadata": {
    "id": "8zL0XwIAbzFH"
   },
   "source": [
    "### **6.2 Feature scaling** <font color = red>[5 marks]</font>\n",
    "\n",
    "Apply feature scaling to the numeric columns to bring them to a common range and ensure consistent scaling."
   ]
  },
  {
   "cell_type": "markdown",
   "metadata": {
    "id": "x2Di6iSjU41j"
   },
   "source": [
    "6.2.1 Import required libraries <font color=\"red\">[1 Mark]</font>"
   ]
  },
  {
   "cell_type": "code",
   "execution_count": 174,
   "metadata": {
    "id": "AhsJWDc4bzFH"
   },
   "outputs": [],
   "source": [
    "# Import the necessary scaling tool from scikit-learn\n",
    "from sklearn.preprocessing import MinMaxScaler\n",
    "from sklearn.preprocessing import StandardScaler"
   ]
  },
  {
   "cell_type": "markdown",
   "metadata": {
    "id": "-RE9MEgQVAg8"
   },
   "source": [
    "6.2.2 Scale the numerical features <font color=\"red\">[4 Marks]</font>"
   ]
  },
  {
   "cell_type": "code",
   "execution_count": 175,
   "metadata": {
    "id": "WCV2mKErbzFH"
   },
   "outputs": [],
   "source": [
    "# Scale the numeric features present in the training set\n",
    "scaler = StandardScaler()\n",
    "X_train[['Age','Years at Company','Monthly Income','Number of Promotions', 'Distance from Home', 'Number of Dependents', \n",
    "         'Company Tenure (In Months)']] = scaler.fit_transform(X_train[['Age','Years at Company','Monthly Income','Number of Promotions', 'Distance from Home', 'Number of Dependents', \n",
    "         'Company Tenure (In Months)']])\n",
    "\n",
    "# Scale the numerical features present in the validation set\n",
    "X_test[['Age','Years at Company','Monthly Income','Number of Promotions', 'Distance from Home', 'Number of Dependents', \n",
    "         'Company Tenure (In Months)']] = scaler.transform(X_test[['Age','Years at Company','Monthly Income','Number of Promotions', 'Distance from Home', 'Number of Dependents', \n",
    "         'Company Tenure (In Months)']])"
   ]
  },
  {
   "cell_type": "markdown",
   "metadata": {
    "id": "BFIOMdJqBRyw"
   },
   "source": [
    "## **7. Model Building** <font color = red>[40 marks]</font>"
   ]
  },
  {
   "cell_type": "markdown",
   "metadata": {
    "id": "5VrBY3MpbzFI"
   },
   "source": [
    "### **7.1 Feature selection** <font color = red>[5 marks]</font>\n",
    "\n",
    "As there are a lot of variables present in the data, Recursive Feature Elimination (RFE) will be used to select the most influential features for building the model."
   ]
  },
  {
   "cell_type": "markdown",
   "metadata": {
    "id": "927evRo1VO4e"
   },
   "source": [
    "7.1.1 Import required libraries <font color=\"red\">[1 Mark]</font>"
   ]
  },
  {
   "cell_type": "code",
   "execution_count": 176,
   "metadata": {
    "id": "V1uKag9gbzFI"
   },
   "outputs": [],
   "source": [
    "# Import 'LogisticRegression' and create a LogisticRegression object\n",
    "from sklearn.linear_model import LogisticRegression"
   ]
  },
  {
   "cell_type": "markdown",
   "metadata": {
    "id": "M_flTl2qVS1t"
   },
   "source": [
    "7.1.2 Import RFE  and select 15 variables <font color=\"red\">[3 Mark]</font>"
   ]
  },
  {
   "cell_type": "code",
   "execution_count": 177,
   "metadata": {
    "id": "JMAKjGQAbzFI"
   },
   "outputs": [
    {
     "data": {
      "text/html": [
       "<style>#sk-container-id-2 {\n",
       "  /* Definition of color scheme common for light and dark mode */\n",
       "  --sklearn-color-text: black;\n",
       "  --sklearn-color-line: gray;\n",
       "  /* Definition of color scheme for unfitted estimators */\n",
       "  --sklearn-color-unfitted-level-0: #fff5e6;\n",
       "  --sklearn-color-unfitted-level-1: #f6e4d2;\n",
       "  --sklearn-color-unfitted-level-2: #ffe0b3;\n",
       "  --sklearn-color-unfitted-level-3: chocolate;\n",
       "  /* Definition of color scheme for fitted estimators */\n",
       "  --sklearn-color-fitted-level-0: #f0f8ff;\n",
       "  --sklearn-color-fitted-level-1: #d4ebff;\n",
       "  --sklearn-color-fitted-level-2: #b3dbfd;\n",
       "  --sklearn-color-fitted-level-3: cornflowerblue;\n",
       "\n",
       "  /* Specific color for light theme */\n",
       "  --sklearn-color-text-on-default-background: var(--sg-text-color, var(--theme-code-foreground, var(--jp-content-font-color1, black)));\n",
       "  --sklearn-color-background: var(--sg-background-color, var(--theme-background, var(--jp-layout-color0, white)));\n",
       "  --sklearn-color-border-box: var(--sg-text-color, var(--theme-code-foreground, var(--jp-content-font-color1, black)));\n",
       "  --sklearn-color-icon: #696969;\n",
       "\n",
       "  @media (prefers-color-scheme: dark) {\n",
       "    /* Redefinition of color scheme for dark theme */\n",
       "    --sklearn-color-text-on-default-background: var(--sg-text-color, var(--theme-code-foreground, var(--jp-content-font-color1, white)));\n",
       "    --sklearn-color-background: var(--sg-background-color, var(--theme-background, var(--jp-layout-color0, #111)));\n",
       "    --sklearn-color-border-box: var(--sg-text-color, var(--theme-code-foreground, var(--jp-content-font-color1, white)));\n",
       "    --sklearn-color-icon: #878787;\n",
       "  }\n",
       "}\n",
       "\n",
       "#sk-container-id-2 {\n",
       "  color: var(--sklearn-color-text);\n",
       "}\n",
       "\n",
       "#sk-container-id-2 pre {\n",
       "  padding: 0;\n",
       "}\n",
       "\n",
       "#sk-container-id-2 input.sk-hidden--visually {\n",
       "  border: 0;\n",
       "  clip: rect(1px 1px 1px 1px);\n",
       "  clip: rect(1px, 1px, 1px, 1px);\n",
       "  height: 1px;\n",
       "  margin: -1px;\n",
       "  overflow: hidden;\n",
       "  padding: 0;\n",
       "  position: absolute;\n",
       "  width: 1px;\n",
       "}\n",
       "\n",
       "#sk-container-id-2 div.sk-dashed-wrapped {\n",
       "  border: 1px dashed var(--sklearn-color-line);\n",
       "  margin: 0 0.4em 0.5em 0.4em;\n",
       "  box-sizing: border-box;\n",
       "  padding-bottom: 0.4em;\n",
       "  background-color: var(--sklearn-color-background);\n",
       "}\n",
       "\n",
       "#sk-container-id-2 div.sk-container {\n",
       "  /* jupyter's `normalize.less` sets `[hidden] { display: none; }`\n",
       "     but bootstrap.min.css set `[hidden] { display: none !important; }`\n",
       "     so we also need the `!important` here to be able to override the\n",
       "     default hidden behavior on the sphinx rendered scikit-learn.org.\n",
       "     See: https://github.com/scikit-learn/scikit-learn/issues/21755 */\n",
       "  display: inline-block !important;\n",
       "  position: relative;\n",
       "}\n",
       "\n",
       "#sk-container-id-2 div.sk-text-repr-fallback {\n",
       "  display: none;\n",
       "}\n",
       "\n",
       "div.sk-parallel-item,\n",
       "div.sk-serial,\n",
       "div.sk-item {\n",
       "  /* draw centered vertical line to link estimators */\n",
       "  background-image: linear-gradient(var(--sklearn-color-text-on-default-background), var(--sklearn-color-text-on-default-background));\n",
       "  background-size: 2px 100%;\n",
       "  background-repeat: no-repeat;\n",
       "  background-position: center center;\n",
       "}\n",
       "\n",
       "/* Parallel-specific style estimator block */\n",
       "\n",
       "#sk-container-id-2 div.sk-parallel-item::after {\n",
       "  content: \"\";\n",
       "  width: 100%;\n",
       "  border-bottom: 2px solid var(--sklearn-color-text-on-default-background);\n",
       "  flex-grow: 1;\n",
       "}\n",
       "\n",
       "#sk-container-id-2 div.sk-parallel {\n",
       "  display: flex;\n",
       "  align-items: stretch;\n",
       "  justify-content: center;\n",
       "  background-color: var(--sklearn-color-background);\n",
       "  position: relative;\n",
       "}\n",
       "\n",
       "#sk-container-id-2 div.sk-parallel-item {\n",
       "  display: flex;\n",
       "  flex-direction: column;\n",
       "}\n",
       "\n",
       "#sk-container-id-2 div.sk-parallel-item:first-child::after {\n",
       "  align-self: flex-end;\n",
       "  width: 50%;\n",
       "}\n",
       "\n",
       "#sk-container-id-2 div.sk-parallel-item:last-child::after {\n",
       "  align-self: flex-start;\n",
       "  width: 50%;\n",
       "}\n",
       "\n",
       "#sk-container-id-2 div.sk-parallel-item:only-child::after {\n",
       "  width: 0;\n",
       "}\n",
       "\n",
       "/* Serial-specific style estimator block */\n",
       "\n",
       "#sk-container-id-2 div.sk-serial {\n",
       "  display: flex;\n",
       "  flex-direction: column;\n",
       "  align-items: center;\n",
       "  background-color: var(--sklearn-color-background);\n",
       "  padding-right: 1em;\n",
       "  padding-left: 1em;\n",
       "}\n",
       "\n",
       "\n",
       "/* Toggleable style: style used for estimator/Pipeline/ColumnTransformer box that is\n",
       "clickable and can be expanded/collapsed.\n",
       "- Pipeline and ColumnTransformer use this feature and define the default style\n",
       "- Estimators will overwrite some part of the style using the `sk-estimator` class\n",
       "*/\n",
       "\n",
       "/* Pipeline and ColumnTransformer style (default) */\n",
       "\n",
       "#sk-container-id-2 div.sk-toggleable {\n",
       "  /* Default theme specific background. It is overwritten whether we have a\n",
       "  specific estimator or a Pipeline/ColumnTransformer */\n",
       "  background-color: var(--sklearn-color-background);\n",
       "}\n",
       "\n",
       "/* Toggleable label */\n",
       "#sk-container-id-2 label.sk-toggleable__label {\n",
       "  cursor: pointer;\n",
       "  display: block;\n",
       "  width: 100%;\n",
       "  margin-bottom: 0;\n",
       "  padding: 0.5em;\n",
       "  box-sizing: border-box;\n",
       "  text-align: center;\n",
       "}\n",
       "\n",
       "#sk-container-id-2 label.sk-toggleable__label-arrow:before {\n",
       "  /* Arrow on the left of the label */\n",
       "  content: \"▸\";\n",
       "  float: left;\n",
       "  margin-right: 0.25em;\n",
       "  color: var(--sklearn-color-icon);\n",
       "}\n",
       "\n",
       "#sk-container-id-2 label.sk-toggleable__label-arrow:hover:before {\n",
       "  color: var(--sklearn-color-text);\n",
       "}\n",
       "\n",
       "/* Toggleable content - dropdown */\n",
       "\n",
       "#sk-container-id-2 div.sk-toggleable__content {\n",
       "  max-height: 0;\n",
       "  max-width: 0;\n",
       "  overflow: hidden;\n",
       "  text-align: left;\n",
       "  /* unfitted */\n",
       "  background-color: var(--sklearn-color-unfitted-level-0);\n",
       "}\n",
       "\n",
       "#sk-container-id-2 div.sk-toggleable__content.fitted {\n",
       "  /* fitted */\n",
       "  background-color: var(--sklearn-color-fitted-level-0);\n",
       "}\n",
       "\n",
       "#sk-container-id-2 div.sk-toggleable__content pre {\n",
       "  margin: 0.2em;\n",
       "  border-radius: 0.25em;\n",
       "  color: var(--sklearn-color-text);\n",
       "  /* unfitted */\n",
       "  background-color: var(--sklearn-color-unfitted-level-0);\n",
       "}\n",
       "\n",
       "#sk-container-id-2 div.sk-toggleable__content.fitted pre {\n",
       "  /* unfitted */\n",
       "  background-color: var(--sklearn-color-fitted-level-0);\n",
       "}\n",
       "\n",
       "#sk-container-id-2 input.sk-toggleable__control:checked~div.sk-toggleable__content {\n",
       "  /* Expand drop-down */\n",
       "  max-height: 200px;\n",
       "  max-width: 100%;\n",
       "  overflow: auto;\n",
       "}\n",
       "\n",
       "#sk-container-id-2 input.sk-toggleable__control:checked~label.sk-toggleable__label-arrow:before {\n",
       "  content: \"▾\";\n",
       "}\n",
       "\n",
       "/* Pipeline/ColumnTransformer-specific style */\n",
       "\n",
       "#sk-container-id-2 div.sk-label input.sk-toggleable__control:checked~label.sk-toggleable__label {\n",
       "  color: var(--sklearn-color-text);\n",
       "  background-color: var(--sklearn-color-unfitted-level-2);\n",
       "}\n",
       "\n",
       "#sk-container-id-2 div.sk-label.fitted input.sk-toggleable__control:checked~label.sk-toggleable__label {\n",
       "  background-color: var(--sklearn-color-fitted-level-2);\n",
       "}\n",
       "\n",
       "/* Estimator-specific style */\n",
       "\n",
       "/* Colorize estimator box */\n",
       "#sk-container-id-2 div.sk-estimator input.sk-toggleable__control:checked~label.sk-toggleable__label {\n",
       "  /* unfitted */\n",
       "  background-color: var(--sklearn-color-unfitted-level-2);\n",
       "}\n",
       "\n",
       "#sk-container-id-2 div.sk-estimator.fitted input.sk-toggleable__control:checked~label.sk-toggleable__label {\n",
       "  /* fitted */\n",
       "  background-color: var(--sklearn-color-fitted-level-2);\n",
       "}\n",
       "\n",
       "#sk-container-id-2 div.sk-label label.sk-toggleable__label,\n",
       "#sk-container-id-2 div.sk-label label {\n",
       "  /* The background is the default theme color */\n",
       "  color: var(--sklearn-color-text-on-default-background);\n",
       "}\n",
       "\n",
       "/* On hover, darken the color of the background */\n",
       "#sk-container-id-2 div.sk-label:hover label.sk-toggleable__label {\n",
       "  color: var(--sklearn-color-text);\n",
       "  background-color: var(--sklearn-color-unfitted-level-2);\n",
       "}\n",
       "\n",
       "/* Label box, darken color on hover, fitted */\n",
       "#sk-container-id-2 div.sk-label.fitted:hover label.sk-toggleable__label.fitted {\n",
       "  color: var(--sklearn-color-text);\n",
       "  background-color: var(--sklearn-color-fitted-level-2);\n",
       "}\n",
       "\n",
       "/* Estimator label */\n",
       "\n",
       "#sk-container-id-2 div.sk-label label {\n",
       "  font-family: monospace;\n",
       "  font-weight: bold;\n",
       "  display: inline-block;\n",
       "  line-height: 1.2em;\n",
       "}\n",
       "\n",
       "#sk-container-id-2 div.sk-label-container {\n",
       "  text-align: center;\n",
       "}\n",
       "\n",
       "/* Estimator-specific */\n",
       "#sk-container-id-2 div.sk-estimator {\n",
       "  font-family: monospace;\n",
       "  border: 1px dotted var(--sklearn-color-border-box);\n",
       "  border-radius: 0.25em;\n",
       "  box-sizing: border-box;\n",
       "  margin-bottom: 0.5em;\n",
       "  /* unfitted */\n",
       "  background-color: var(--sklearn-color-unfitted-level-0);\n",
       "}\n",
       "\n",
       "#sk-container-id-2 div.sk-estimator.fitted {\n",
       "  /* fitted */\n",
       "  background-color: var(--sklearn-color-fitted-level-0);\n",
       "}\n",
       "\n",
       "/* on hover */\n",
       "#sk-container-id-2 div.sk-estimator:hover {\n",
       "  /* unfitted */\n",
       "  background-color: var(--sklearn-color-unfitted-level-2);\n",
       "}\n",
       "\n",
       "#sk-container-id-2 div.sk-estimator.fitted:hover {\n",
       "  /* fitted */\n",
       "  background-color: var(--sklearn-color-fitted-level-2);\n",
       "}\n",
       "\n",
       "/* Specification for estimator info (e.g. \"i\" and \"?\") */\n",
       "\n",
       "/* Common style for \"i\" and \"?\" */\n",
       "\n",
       ".sk-estimator-doc-link,\n",
       "a:link.sk-estimator-doc-link,\n",
       "a:visited.sk-estimator-doc-link {\n",
       "  float: right;\n",
       "  font-size: smaller;\n",
       "  line-height: 1em;\n",
       "  font-family: monospace;\n",
       "  background-color: var(--sklearn-color-background);\n",
       "  border-radius: 1em;\n",
       "  height: 1em;\n",
       "  width: 1em;\n",
       "  text-decoration: none !important;\n",
       "  margin-left: 1ex;\n",
       "  /* unfitted */\n",
       "  border: var(--sklearn-color-unfitted-level-1) 1pt solid;\n",
       "  color: var(--sklearn-color-unfitted-level-1);\n",
       "}\n",
       "\n",
       ".sk-estimator-doc-link.fitted,\n",
       "a:link.sk-estimator-doc-link.fitted,\n",
       "a:visited.sk-estimator-doc-link.fitted {\n",
       "  /* fitted */\n",
       "  border: var(--sklearn-color-fitted-level-1) 1pt solid;\n",
       "  color: var(--sklearn-color-fitted-level-1);\n",
       "}\n",
       "\n",
       "/* On hover */\n",
       "div.sk-estimator:hover .sk-estimator-doc-link:hover,\n",
       ".sk-estimator-doc-link:hover,\n",
       "div.sk-label-container:hover .sk-estimator-doc-link:hover,\n",
       ".sk-estimator-doc-link:hover {\n",
       "  /* unfitted */\n",
       "  background-color: var(--sklearn-color-unfitted-level-3);\n",
       "  color: var(--sklearn-color-background);\n",
       "  text-decoration: none;\n",
       "}\n",
       "\n",
       "div.sk-estimator.fitted:hover .sk-estimator-doc-link.fitted:hover,\n",
       ".sk-estimator-doc-link.fitted:hover,\n",
       "div.sk-label-container:hover .sk-estimator-doc-link.fitted:hover,\n",
       ".sk-estimator-doc-link.fitted:hover {\n",
       "  /* fitted */\n",
       "  background-color: var(--sklearn-color-fitted-level-3);\n",
       "  color: var(--sklearn-color-background);\n",
       "  text-decoration: none;\n",
       "}\n",
       "\n",
       "/* Span, style for the box shown on hovering the info icon */\n",
       ".sk-estimator-doc-link span {\n",
       "  display: none;\n",
       "  z-index: 9999;\n",
       "  position: relative;\n",
       "  font-weight: normal;\n",
       "  right: .2ex;\n",
       "  padding: .5ex;\n",
       "  margin: .5ex;\n",
       "  width: min-content;\n",
       "  min-width: 20ex;\n",
       "  max-width: 50ex;\n",
       "  color: var(--sklearn-color-text);\n",
       "  box-shadow: 2pt 2pt 4pt #999;\n",
       "  /* unfitted */\n",
       "  background: var(--sklearn-color-unfitted-level-0);\n",
       "  border: .5pt solid var(--sklearn-color-unfitted-level-3);\n",
       "}\n",
       "\n",
       ".sk-estimator-doc-link.fitted span {\n",
       "  /* fitted */\n",
       "  background: var(--sklearn-color-fitted-level-0);\n",
       "  border: var(--sklearn-color-fitted-level-3);\n",
       "}\n",
       "\n",
       ".sk-estimator-doc-link:hover span {\n",
       "  display: block;\n",
       "}\n",
       "\n",
       "/* \"?\"-specific style due to the `<a>` HTML tag */\n",
       "\n",
       "#sk-container-id-2 a.estimator_doc_link {\n",
       "  float: right;\n",
       "  font-size: 1rem;\n",
       "  line-height: 1em;\n",
       "  font-family: monospace;\n",
       "  background-color: var(--sklearn-color-background);\n",
       "  border-radius: 1rem;\n",
       "  height: 1rem;\n",
       "  width: 1rem;\n",
       "  text-decoration: none;\n",
       "  /* unfitted */\n",
       "  color: var(--sklearn-color-unfitted-level-1);\n",
       "  border: var(--sklearn-color-unfitted-level-1) 1pt solid;\n",
       "}\n",
       "\n",
       "#sk-container-id-2 a.estimator_doc_link.fitted {\n",
       "  /* fitted */\n",
       "  border: var(--sklearn-color-fitted-level-1) 1pt solid;\n",
       "  color: var(--sklearn-color-fitted-level-1);\n",
       "}\n",
       "\n",
       "/* On hover */\n",
       "#sk-container-id-2 a.estimator_doc_link:hover {\n",
       "  /* unfitted */\n",
       "  background-color: var(--sklearn-color-unfitted-level-3);\n",
       "  color: var(--sklearn-color-background);\n",
       "  text-decoration: none;\n",
       "}\n",
       "\n",
       "#sk-container-id-2 a.estimator_doc_link.fitted:hover {\n",
       "  /* fitted */\n",
       "  background-color: var(--sklearn-color-fitted-level-3);\n",
       "}\n",
       "</style><div id=\"sk-container-id-2\" class=\"sk-top-container\"><div class=\"sk-text-repr-fallback\"><pre>RFE(estimator=LogisticRegression(), n_features_to_select=15)</pre><b>In a Jupyter environment, please rerun this cell to show the HTML representation or trust the notebook. <br />On GitHub, the HTML representation is unable to render, please try loading this page with nbviewer.org.</b></div><div class=\"sk-container\" hidden><div class=\"sk-item sk-dashed-wrapped\"><div class=\"sk-label-container\"><div class=\"sk-label fitted sk-toggleable\"><input class=\"sk-toggleable__control sk-hidden--visually\" id=\"sk-estimator-id-4\" type=\"checkbox\" ><label for=\"sk-estimator-id-4\" class=\"sk-toggleable__label fitted sk-toggleable__label-arrow fitted\">&nbsp;&nbsp;RFE<a class=\"sk-estimator-doc-link fitted\" rel=\"noreferrer\" target=\"_blank\" href=\"https://scikit-learn.org/1.5/modules/generated/sklearn.feature_selection.RFE.html\">?<span>Documentation for RFE</span></a><span class=\"sk-estimator-doc-link fitted\">i<span>Fitted</span></span></label><div class=\"sk-toggleable__content fitted\"><pre>RFE(estimator=LogisticRegression(), n_features_to_select=15)</pre></div> </div></div><div class=\"sk-parallel\"><div class=\"sk-parallel-item\"><div class=\"sk-item\"><div class=\"sk-label-container\"><div class=\"sk-label fitted sk-toggleable\"><input class=\"sk-toggleable__control sk-hidden--visually\" id=\"sk-estimator-id-5\" type=\"checkbox\" ><label for=\"sk-estimator-id-5\" class=\"sk-toggleable__label fitted sk-toggleable__label-arrow fitted\">estimator: LogisticRegression</label><div class=\"sk-toggleable__content fitted\"><pre>LogisticRegression()</pre></div> </div></div><div class=\"sk-serial\"><div class=\"sk-item\"><div class=\"sk-estimator fitted sk-toggleable\"><input class=\"sk-toggleable__control sk-hidden--visually\" id=\"sk-estimator-id-6\" type=\"checkbox\" ><label for=\"sk-estimator-id-6\" class=\"sk-toggleable__label fitted sk-toggleable__label-arrow fitted\">&nbsp;LogisticRegression<a class=\"sk-estimator-doc-link fitted\" rel=\"noreferrer\" target=\"_blank\" href=\"https://scikit-learn.org/1.5/modules/generated/sklearn.linear_model.LogisticRegression.html\">?<span>Documentation for LogisticRegression</span></a></label><div class=\"sk-toggleable__content fitted\"><pre>LogisticRegression()</pre></div> </div></div></div></div></div></div></div></div></div>"
      ],
      "text/plain": [
       "RFE(estimator=LogisticRegression(), n_features_to_select=15)"
      ]
     },
     "execution_count": 177,
     "metadata": {},
     "output_type": "execute_result"
    }
   ],
   "source": [
    "# Import RFE and select 15 variables\n",
    "from sklearn.feature_selection import RFE\n",
    "\n",
    "lr = LogisticRegression()\n",
    "rfe = RFE(estimator=lr, n_features_to_select=15)\n",
    "rfe.fit(X_train, y_train)"
   ]
  },
  {
   "cell_type": "code",
   "execution_count": 178,
   "metadata": {
    "id": "znuj-wmubzFJ"
   },
   "outputs": [
    {
     "data": {
      "text/plain": [
       "[('Employee ID', False, 27),\n",
       " ('Age', False, 11),\n",
       " ('Years at Company', False, 8),\n",
       " ('Monthly Income', False, 21),\n",
       " ('Number of Promotions', False, 4),\n",
       " ('Distance from Home', False, 3),\n",
       " ('Number of Dependents', False, 5),\n",
       " ('Company Tenure (In Months)', False, 24),\n",
       " ('Remote Work', True, 1),\n",
       " ('Leadership Opportunities', False, 6),\n",
       " ('Innovation Opportunities', False, 9),\n",
       " ('Gender_Male', True, 1),\n",
       " ('Job Role_Finance', False, 12),\n",
       " ('Job Role_Healthcare', False, 15),\n",
       " ('Job Role_Media', False, 13),\n",
       " ('Job Role_Technology', False, 14),\n",
       " ('Work-Life Balance_Fair', True, 1),\n",
       " ('Work-Life Balance_Good', True, 1),\n",
       " ('Work-Life Balance_Poor', True, 1),\n",
       " ('Job Satisfaction_Low', True, 1),\n",
       " ('Job Satisfaction_Medium', False, 17),\n",
       " ('Job Satisfaction_Very High', True, 1),\n",
       " ('Performance Rating_Below Average', True, 1),\n",
       " ('Performance Rating_High', False, 26),\n",
       " ('Performance Rating_Low', True, 1),\n",
       " ('Education Level_Bachelorâ€™s Degree', False, 22),\n",
       " ('Education Level_High School', False, 23),\n",
       " ('Education Level_Masterâ€™s Degree', False, 19),\n",
       " ('Education Level_PhD', True, 1),\n",
       " ('Marital Status_Married', False, 2),\n",
       " ('Marital Status_Single', True, 1),\n",
       " ('Job Level_Mid', True, 1),\n",
       " ('Job Level_Senior', True, 1),\n",
       " ('Company Size_Medium', False, 25),\n",
       " ('Company Size_Small', False, 7),\n",
       " ('Company Reputation_Fair', True, 1),\n",
       " ('Company Reputation_Good', False, 16),\n",
       " ('Company Reputation_Poor', True, 1),\n",
       " ('Employee Recognition_Low', False, 18),\n",
       " ('Employee Recognition_Medium', False, 20),\n",
       " ('Employee Recognition_Very High', False, 10)]"
      ]
     },
     "execution_count": 178,
     "metadata": {},
     "output_type": "execute_result"
    }
   ],
   "source": [
    "# Display the features selected by RFE\n",
    "list(zip(X_train.columns, rfe.support_, rfe.ranking_))"
   ]
  },
  {
   "cell_type": "markdown",
   "metadata": {
    "id": "AfSLJwIFbzFJ"
   },
   "source": [
    "7.1.3 Store the selected features <font color=\"red\">[1 Mark]</font>\n",
    "\n",
    "\n"
   ]
  },
  {
   "cell_type": "code",
   "execution_count": 179,
   "metadata": {
    "id": "CblOqMSzbzFJ"
   },
   "outputs": [],
   "source": [
    "# Put columns selected by RFE into variable 'col'\n",
    "col = X_train.columns[rfe.support_]"
   ]
  },
  {
   "cell_type": "markdown",
   "metadata": {
    "id": "wMGvl2H1bzFJ"
   },
   "source": [
    "### **7.2 Building Logistic Regression Model** <font color = red>[20 marks]</font>\n",
    "\n",
    "Now that you have selected the variables through RFE, use these features to build a logistic regression model with statsmodels. This will allow you to assess the statistical aspects, such as p-values and VIFs, which are important for checking multicollinearity and ensuring that the predictors are not highly correlated with each other, as this could distort the model's coefficients."
   ]
  },
  {
   "cell_type": "markdown",
   "metadata": {
    "id": "X9t-NQ2KjHv6"
   },
   "source": [
    "7.2.1 Select relevant columns on training set <font color=\"red\">[1 Mark]</font>"
   ]
  },
  {
   "cell_type": "code",
   "execution_count": 180,
   "metadata": {
    "id": "HLHDHKfSbzFJ"
   },
   "outputs": [],
   "source": [
    "# Select only the columns selected by RFE\n",
    "X_train_rfe = X_train[col]"
   ]
  },
  {
   "cell_type": "code",
   "execution_count": 181,
   "metadata": {
    "id": "DLukEfebbzFJ"
   },
   "outputs": [
    {
     "data": {
      "text/html": [
       "<div>\n",
       "<style scoped>\n",
       "    .dataframe tbody tr th:only-of-type {\n",
       "        vertical-align: middle;\n",
       "    }\n",
       "\n",
       "    .dataframe tbody tr th {\n",
       "        vertical-align: top;\n",
       "    }\n",
       "\n",
       "    .dataframe thead th {\n",
       "        text-align: right;\n",
       "    }\n",
       "</style>\n",
       "<table border=\"1\" class=\"dataframe\">\n",
       "  <thead>\n",
       "    <tr style=\"text-align: right;\">\n",
       "      <th></th>\n",
       "      <th>Remote Work</th>\n",
       "      <th>Gender_Male</th>\n",
       "      <th>Work-Life Balance_Fair</th>\n",
       "      <th>Work-Life Balance_Good</th>\n",
       "      <th>Work-Life Balance_Poor</th>\n",
       "      <th>Job Satisfaction_Low</th>\n",
       "      <th>Job Satisfaction_Very High</th>\n",
       "      <th>Performance Rating_Below Average</th>\n",
       "      <th>Performance Rating_Low</th>\n",
       "      <th>Education Level_PhD</th>\n",
       "      <th>Marital Status_Single</th>\n",
       "      <th>Job Level_Mid</th>\n",
       "      <th>Job Level_Senior</th>\n",
       "      <th>Company Reputation_Fair</th>\n",
       "      <th>Company Reputation_Poor</th>\n",
       "    </tr>\n",
       "  </thead>\n",
       "  <tbody>\n",
       "    <tr>\n",
       "      <th>60704</th>\n",
       "      <td>0</td>\n",
       "      <td>0</td>\n",
       "      <td>1</td>\n",
       "      <td>0</td>\n",
       "      <td>0</td>\n",
       "      <td>0</td>\n",
       "      <td>0</td>\n",
       "      <td>1</td>\n",
       "      <td>0</td>\n",
       "      <td>0</td>\n",
       "      <td>1</td>\n",
       "      <td>0</td>\n",
       "      <td>0</td>\n",
       "      <td>1</td>\n",
       "      <td>0</td>\n",
       "    </tr>\n",
       "    <tr>\n",
       "      <th>16163</th>\n",
       "      <td>0</td>\n",
       "      <td>1</td>\n",
       "      <td>0</td>\n",
       "      <td>0</td>\n",
       "      <td>1</td>\n",
       "      <td>0</td>\n",
       "      <td>0</td>\n",
       "      <td>0</td>\n",
       "      <td>0</td>\n",
       "      <td>0</td>\n",
       "      <td>1</td>\n",
       "      <td>1</td>\n",
       "      <td>0</td>\n",
       "      <td>0</td>\n",
       "      <td>1</td>\n",
       "    </tr>\n",
       "    <tr>\n",
       "      <th>25709</th>\n",
       "      <td>0</td>\n",
       "      <td>0</td>\n",
       "      <td>0</td>\n",
       "      <td>0</td>\n",
       "      <td>0</td>\n",
       "      <td>0</td>\n",
       "      <td>0</td>\n",
       "      <td>0</td>\n",
       "      <td>0</td>\n",
       "      <td>0</td>\n",
       "      <td>0</td>\n",
       "      <td>1</td>\n",
       "      <td>0</td>\n",
       "      <td>0</td>\n",
       "      <td>0</td>\n",
       "    </tr>\n",
       "    <tr>\n",
       "      <th>4354</th>\n",
       "      <td>0</td>\n",
       "      <td>0</td>\n",
       "      <td>0</td>\n",
       "      <td>0</td>\n",
       "      <td>0</td>\n",
       "      <td>0</td>\n",
       "      <td>1</td>\n",
       "      <td>0</td>\n",
       "      <td>0</td>\n",
       "      <td>0</td>\n",
       "      <td>0</td>\n",
       "      <td>0</td>\n",
       "      <td>0</td>\n",
       "      <td>0</td>\n",
       "      <td>0</td>\n",
       "    </tr>\n",
       "    <tr>\n",
       "      <th>49862</th>\n",
       "      <td>0</td>\n",
       "      <td>1</td>\n",
       "      <td>1</td>\n",
       "      <td>0</td>\n",
       "      <td>0</td>\n",
       "      <td>0</td>\n",
       "      <td>0</td>\n",
       "      <td>0</td>\n",
       "      <td>0</td>\n",
       "      <td>0</td>\n",
       "      <td>0</td>\n",
       "      <td>0</td>\n",
       "      <td>0</td>\n",
       "      <td>0</td>\n",
       "      <td>0</td>\n",
       "    </tr>\n",
       "  </tbody>\n",
       "</table>\n",
       "</div>"
      ],
      "text/plain": [
       "       Remote Work  Gender_Male  Work-Life Balance_Fair  \\\n",
       "60704            0            0                       1   \n",
       "16163            0            1                       0   \n",
       "25709            0            0                       0   \n",
       "4354             0            0                       0   \n",
       "49862            0            1                       1   \n",
       "\n",
       "       Work-Life Balance_Good  Work-Life Balance_Poor  Job Satisfaction_Low  \\\n",
       "60704                       0                       0                     0   \n",
       "16163                       0                       1                     0   \n",
       "25709                       0                       0                     0   \n",
       "4354                        0                       0                     0   \n",
       "49862                       0                       0                     0   \n",
       "\n",
       "       Job Satisfaction_Very High  Performance Rating_Below Average  \\\n",
       "60704                           0                                 1   \n",
       "16163                           0                                 0   \n",
       "25709                           0                                 0   \n",
       "4354                            1                                 0   \n",
       "49862                           0                                 0   \n",
       "\n",
       "       Performance Rating_Low  Education Level_PhD  Marital Status_Single  \\\n",
       "60704                       0                    0                      1   \n",
       "16163                       0                    0                      1   \n",
       "25709                       0                    0                      0   \n",
       "4354                        0                    0                      0   \n",
       "49862                       0                    0                      0   \n",
       "\n",
       "       Job Level_Mid  Job Level_Senior  Company Reputation_Fair  \\\n",
       "60704              0                 0                        1   \n",
       "16163              1                 0                        0   \n",
       "25709              1                 0                        0   \n",
       "4354               0                 0                        0   \n",
       "49862              0                 0                        0   \n",
       "\n",
       "       Company Reputation_Poor  \n",
       "60704                        0  \n",
       "16163                        1  \n",
       "25709                        0  \n",
       "4354                         0  \n",
       "49862                        0  "
      ]
     },
     "execution_count": 181,
     "metadata": {},
     "output_type": "execute_result"
    }
   ],
   "source": [
    "# View the training data\n",
    "X_train_rfe.head()"
   ]
  },
  {
   "cell_type": "markdown",
   "metadata": {
    "id": "Ikq-mNcWjZ7u"
   },
   "source": [
    "7.2.2 Add constant to training set <font color = \"red\">[1 Mark]</font>"
   ]
  },
  {
   "cell_type": "code",
   "execution_count": 182,
   "metadata": {
    "id": "QNcomiZdbzFK"
   },
   "outputs": [],
   "source": [
    "# Import statsmodels and add constant to training set\n",
    "import statsmodels.api as sm\n",
    "X_train_sm = sm.add_constant(X_train_rfe)"
   ]
  },
  {
   "cell_type": "markdown",
   "metadata": {
    "id": "XbOjP0UJjmJr"
   },
   "source": [
    "7.2.3 Fit logistic regression model <font color=\"red\">[3 Marks]</font>"
   ]
  },
  {
   "cell_type": "code",
   "execution_count": 183,
   "metadata": {
    "id": "ZTQHS0e7bzFK"
   },
   "outputs": [
    {
     "data": {
      "text/html": [
       "<table class=\"simpletable\">\n",
       "<caption>Generalized Linear Model Regression Results</caption>\n",
       "<tr>\n",
       "  <th>Dep. Variable:</th>       <td>Attrition</td>    <th>  No. Observations:  </th>  <td> 52227</td> \n",
       "</tr>\n",
       "<tr>\n",
       "  <th>Model:</th>                  <td>GLM</td>       <th>  Df Residuals:      </th>  <td> 52211</td> \n",
       "</tr>\n",
       "<tr>\n",
       "  <th>Model Family:</th>        <td>Binomial</td>     <th>  Df Model:          </th>  <td>    15</td> \n",
       "</tr>\n",
       "<tr>\n",
       "  <th>Link Function:</th>         <td>Logit</td>      <th>  Scale:             </th> <td>  1.0000</td>\n",
       "</tr>\n",
       "<tr>\n",
       "  <th>Method:</th>                <td>IRLS</td>       <th>  Log-Likelihood:    </th> <td> -26485.</td>\n",
       "</tr>\n",
       "<tr>\n",
       "  <th>Date:</th>            <td>Fri, 23 May 2025</td> <th>  Deviance:          </th> <td>  52969.</td>\n",
       "</tr>\n",
       "<tr>\n",
       "  <th>Time:</th>                <td>18:39:31</td>     <th>  Pearson chi2:      </th> <td>4.90e+04</td>\n",
       "</tr>\n",
       "<tr>\n",
       "  <th>No. Iterations:</th>          <td>5</td>        <th>  Pseudo R-squ. (CS):</th>  <td>0.3088</td> \n",
       "</tr>\n",
       "<tr>\n",
       "  <th>Covariance Type:</th>     <td>nonrobust</td>    <th>                     </th>     <td> </td>   \n",
       "</tr>\n",
       "</table>\n",
       "<table class=\"simpletable\">\n",
       "<tr>\n",
       "                  <td></td>                    <th>coef</th>     <th>std err</th>      <th>z</th>      <th>P>|z|</th>  <th>[0.025</th>    <th>0.975]</th>  \n",
       "</tr>\n",
       "<tr>\n",
       "  <th>const</th>                            <td>    0.3250</td> <td>    0.034</td> <td>    9.572</td> <td> 0.000</td> <td>    0.258</td> <td>    0.392</td>\n",
       "</tr>\n",
       "<tr>\n",
       "  <th>Remote Work</th>                      <td>    1.7039</td> <td>    0.030</td> <td>   56.293</td> <td> 0.000</td> <td>    1.645</td> <td>    1.763</td>\n",
       "</tr>\n",
       "<tr>\n",
       "  <th>Gender_Male</th>                      <td>    0.5899</td> <td>    0.022</td> <td>   27.331</td> <td> 0.000</td> <td>    0.548</td> <td>    0.632</td>\n",
       "</tr>\n",
       "<tr>\n",
       "  <th>Work-Life Balance_Fair</th>           <td>   -1.2740</td> <td>    0.032</td> <td>  -39.218</td> <td> 0.000</td> <td>   -1.338</td> <td>   -1.210</td>\n",
       "</tr>\n",
       "<tr>\n",
       "  <th>Work-Life Balance_Good</th>           <td>   -0.3027</td> <td>    0.031</td> <td>   -9.823</td> <td> 0.000</td> <td>   -0.363</td> <td>   -0.242</td>\n",
       "</tr>\n",
       "<tr>\n",
       "  <th>Work-Life Balance_Poor</th>           <td>   -1.4303</td> <td>    0.039</td> <td>  -36.627</td> <td> 0.000</td> <td>   -1.507</td> <td>   -1.354</td>\n",
       "</tr>\n",
       "<tr>\n",
       "  <th>Job Satisfaction_Low</th>             <td>   -0.4602</td> <td>    0.036</td> <td>  -12.695</td> <td> 0.000</td> <td>   -0.531</td> <td>   -0.389</td>\n",
       "</tr>\n",
       "<tr>\n",
       "  <th>Job Satisfaction_Very High</th>       <td>   -0.4738</td> <td>    0.027</td> <td>  -17.656</td> <td> 0.000</td> <td>   -0.526</td> <td>   -0.421</td>\n",
       "</tr>\n",
       "<tr>\n",
       "  <th>Performance Rating_Below Average</th> <td>   -0.3192</td> <td>    0.030</td> <td>  -10.628</td> <td> 0.000</td> <td>   -0.378</td> <td>   -0.260</td>\n",
       "</tr>\n",
       "<tr>\n",
       "  <th>Performance Rating_Low</th>           <td>   -0.5712</td> <td>    0.049</td> <td>  -11.591</td> <td> 0.000</td> <td>   -0.668</td> <td>   -0.475</td>\n",
       "</tr>\n",
       "<tr>\n",
       "  <th>Education Level_PhD</th>              <td>    1.5157</td> <td>    0.054</td> <td>   27.903</td> <td> 0.000</td> <td>    1.409</td> <td>    1.622</td>\n",
       "</tr>\n",
       "<tr>\n",
       "  <th>Marital Status_Single</th>            <td>   -1.7007</td> <td>    0.024</td> <td>  -71.006</td> <td> 0.000</td> <td>   -1.748</td> <td>   -1.654</td>\n",
       "</tr>\n",
       "<tr>\n",
       "  <th>Job Level_Mid</th>                    <td>    0.9514</td> <td>    0.024</td> <td>   40.464</td> <td> 0.000</td> <td>    0.905</td> <td>    0.998</td>\n",
       "</tr>\n",
       "<tr>\n",
       "  <th>Job Level_Senior</th>                 <td>    2.5034</td> <td>    0.034</td> <td>   74.375</td> <td> 0.000</td> <td>    2.437</td> <td>    2.569</td>\n",
       "</tr>\n",
       "<tr>\n",
       "  <th>Company Reputation_Fair</th>          <td>   -0.4868</td> <td>    0.028</td> <td>  -17.559</td> <td> 0.000</td> <td>   -0.541</td> <td>   -0.432</td>\n",
       "</tr>\n",
       "<tr>\n",
       "  <th>Company Reputation_Poor</th>          <td>   -0.7219</td> <td>    0.028</td> <td>  -26.122</td> <td> 0.000</td> <td>   -0.776</td> <td>   -0.668</td>\n",
       "</tr>\n",
       "</table>"
      ],
      "text/latex": [
       "\\begin{center}\n",
       "\\begin{tabular}{lclc}\n",
       "\\toprule\n",
       "\\textbf{Dep. Variable:}                    &    Attrition     & \\textbf{  No. Observations:  } &    52227    \\\\\n",
       "\\textbf{Model:}                            &       GLM        & \\textbf{  Df Residuals:      } &    52211    \\\\\n",
       "\\textbf{Model Family:}                     &     Binomial     & \\textbf{  Df Model:          } &       15    \\\\\n",
       "\\textbf{Link Function:}                    &      Logit       & \\textbf{  Scale:             } &    1.0000   \\\\\n",
       "\\textbf{Method:}                           &       IRLS       & \\textbf{  Log-Likelihood:    } &   -26485.   \\\\\n",
       "\\textbf{Date:}                             & Fri, 23 May 2025 & \\textbf{  Deviance:          } &    52969.   \\\\\n",
       "\\textbf{Time:}                             &     18:39:31     & \\textbf{  Pearson chi2:      } &  4.90e+04   \\\\\n",
       "\\textbf{No. Iterations:}                   &        5         & \\textbf{  Pseudo R-squ. (CS):} &   0.3088    \\\\\n",
       "\\textbf{Covariance Type:}                  &    nonrobust     & \\textbf{                     } &             \\\\\n",
       "\\bottomrule\n",
       "\\end{tabular}\n",
       "\\begin{tabular}{lcccccc}\n",
       "                                           & \\textbf{coef} & \\textbf{std err} & \\textbf{z} & \\textbf{P$> |$z$|$} & \\textbf{[0.025} & \\textbf{0.975]}  \\\\\n",
       "\\midrule\n",
       "\\textbf{const}                             &       0.3250  &        0.034     &     9.572  &         0.000        &        0.258    &        0.392     \\\\\n",
       "\\textbf{Remote Work}                       &       1.7039  &        0.030     &    56.293  &         0.000        &        1.645    &        1.763     \\\\\n",
       "\\textbf{Gender\\_Male}                      &       0.5899  &        0.022     &    27.331  &         0.000        &        0.548    &        0.632     \\\\\n",
       "\\textbf{Work-Life Balance\\_Fair}           &      -1.2740  &        0.032     &   -39.218  &         0.000        &       -1.338    &       -1.210     \\\\\n",
       "\\textbf{Work-Life Balance\\_Good}           &      -0.3027  &        0.031     &    -9.823  &         0.000        &       -0.363    &       -0.242     \\\\\n",
       "\\textbf{Work-Life Balance\\_Poor}           &      -1.4303  &        0.039     &   -36.627  &         0.000        &       -1.507    &       -1.354     \\\\\n",
       "\\textbf{Job Satisfaction\\_Low}             &      -0.4602  &        0.036     &   -12.695  &         0.000        &       -0.531    &       -0.389     \\\\\n",
       "\\textbf{Job Satisfaction\\_Very High}       &      -0.4738  &        0.027     &   -17.656  &         0.000        &       -0.526    &       -0.421     \\\\\n",
       "\\textbf{Performance Rating\\_Below Average} &      -0.3192  &        0.030     &   -10.628  &         0.000        &       -0.378    &       -0.260     \\\\\n",
       "\\textbf{Performance Rating\\_Low}           &      -0.5712  &        0.049     &   -11.591  &         0.000        &       -0.668    &       -0.475     \\\\\n",
       "\\textbf{Education Level\\_PhD}              &       1.5157  &        0.054     &    27.903  &         0.000        &        1.409    &        1.622     \\\\\n",
       "\\textbf{Marital Status\\_Single}            &      -1.7007  &        0.024     &   -71.006  &         0.000        &       -1.748    &       -1.654     \\\\\n",
       "\\textbf{Job Level\\_Mid}                    &       0.9514  &        0.024     &    40.464  &         0.000        &        0.905    &        0.998     \\\\\n",
       "\\textbf{Job Level\\_Senior}                 &       2.5034  &        0.034     &    74.375  &         0.000        &        2.437    &        2.569     \\\\\n",
       "\\textbf{Company Reputation\\_Fair}          &      -0.4868  &        0.028     &   -17.559  &         0.000        &       -0.541    &       -0.432     \\\\\n",
       "\\textbf{Company Reputation\\_Poor}          &      -0.7219  &        0.028     &   -26.122  &         0.000        &       -0.776    &       -0.668     \\\\\n",
       "\\bottomrule\n",
       "\\end{tabular}\n",
       "%\\caption{Generalized Linear Model Regression Results}\n",
       "\\end{center}"
      ],
      "text/plain": [
       "<class 'statsmodels.iolib.summary.Summary'>\n",
       "\"\"\"\n",
       "                 Generalized Linear Model Regression Results                  \n",
       "==============================================================================\n",
       "Dep. Variable:              Attrition   No. Observations:                52227\n",
       "Model:                            GLM   Df Residuals:                    52211\n",
       "Model Family:                Binomial   Df Model:                           15\n",
       "Link Function:                  Logit   Scale:                          1.0000\n",
       "Method:                          IRLS   Log-Likelihood:                -26485.\n",
       "Date:                Fri, 23 May 2025   Deviance:                       52969.\n",
       "Time:                        18:39:31   Pearson chi2:                 4.90e+04\n",
       "No. Iterations:                     5   Pseudo R-squ. (CS):             0.3088\n",
       "Covariance Type:            nonrobust                                         \n",
       "====================================================================================================\n",
       "                                       coef    std err          z      P>|z|      [0.025      0.975]\n",
       "----------------------------------------------------------------------------------------------------\n",
       "const                                0.3250      0.034      9.572      0.000       0.258       0.392\n",
       "Remote Work                          1.7039      0.030     56.293      0.000       1.645       1.763\n",
       "Gender_Male                          0.5899      0.022     27.331      0.000       0.548       0.632\n",
       "Work-Life Balance_Fair              -1.2740      0.032    -39.218      0.000      -1.338      -1.210\n",
       "Work-Life Balance_Good              -0.3027      0.031     -9.823      0.000      -0.363      -0.242\n",
       "Work-Life Balance_Poor              -1.4303      0.039    -36.627      0.000      -1.507      -1.354\n",
       "Job Satisfaction_Low                -0.4602      0.036    -12.695      0.000      -0.531      -0.389\n",
       "Job Satisfaction_Very High          -0.4738      0.027    -17.656      0.000      -0.526      -0.421\n",
       "Performance Rating_Below Average    -0.3192      0.030    -10.628      0.000      -0.378      -0.260\n",
       "Performance Rating_Low              -0.5712      0.049    -11.591      0.000      -0.668      -0.475\n",
       "Education Level_PhD                  1.5157      0.054     27.903      0.000       1.409       1.622\n",
       "Marital Status_Single               -1.7007      0.024    -71.006      0.000      -1.748      -1.654\n",
       "Job Level_Mid                        0.9514      0.024     40.464      0.000       0.905       0.998\n",
       "Job Level_Senior                     2.5034      0.034     74.375      0.000       2.437       2.569\n",
       "Company Reputation_Fair             -0.4868      0.028    -17.559      0.000      -0.541      -0.432\n",
       "Company Reputation_Poor             -0.7219      0.028    -26.122      0.000      -0.776      -0.668\n",
       "====================================================================================================\n",
       "\"\"\""
      ]
     },
     "execution_count": 183,
     "metadata": {},
     "output_type": "execute_result"
    }
   ],
   "source": [
    "# Fit a logistic regression model on X_train after adding a constant and output the summary\n",
    "logr = sm.GLM(y_train, X_train_sm, family=sm.families.Binomial()).fit()\n",
    "logr.summary()"
   ]
  },
  {
   "cell_type": "markdown",
   "metadata": {
    "id": "xyLcup7xbzFK"
   },
   "source": [
    "**Model Interpretation**\n",
    "\n",
    "The output summary table  will provide the features used for building model along with coefficient of each of the feature and their p-value. The p-value in a logistic regression model is used to assess the statistical significance of each coefficient. Lesser the p-value, more significant the feature is in the model.\n",
    "\n",
    "A positive coefficient will indicate that an increase in the value of feature would increase the odds of the event occurring. On the other hand, a negative coefficient means the opposite, i.e,  an increase in the value of feature would decrease the odds of the event occurring.\n",
    "\n"
   ]
  },
  {
   "cell_type": "markdown",
   "metadata": {
    "id": "LICa4vdcj0nP"
   },
   "source": [
    "7.2.4 Evaluate VIF of features <font color=\"red\">[3 Marks]</font>"
   ]
  },
  {
   "cell_type": "code",
   "execution_count": 184,
   "metadata": {
    "id": "HCHI-Z-UbzFK"
   },
   "outputs": [],
   "source": [
    "# Import 'variance_inflation_factor'\n",
    "from statsmodels.stats.outliers_influence import variance_inflation_factor"
   ]
  },
  {
   "cell_type": "code",
   "execution_count": 185,
   "metadata": {},
   "outputs": [],
   "source": [
    "X_train = X_train_sm.drop('const', axis=1)"
   ]
  },
  {
   "cell_type": "code",
   "execution_count": 186,
   "metadata": {
    "id": "ute-cXihbzFL"
   },
   "outputs": [
    {
     "data": {
      "text/html": [
       "<div>\n",
       "<style scoped>\n",
       "    .dataframe tbody tr th:only-of-type {\n",
       "        vertical-align: middle;\n",
       "    }\n",
       "\n",
       "    .dataframe tbody tr th {\n",
       "        vertical-align: top;\n",
       "    }\n",
       "\n",
       "    .dataframe thead th {\n",
       "        text-align: right;\n",
       "    }\n",
       "</style>\n",
       "<table border=\"1\" class=\"dataframe\">\n",
       "  <thead>\n",
       "    <tr style=\"text-align: right;\">\n",
       "      <th></th>\n",
       "      <th>Features</th>\n",
       "      <th>VIF</th>\n",
       "    </tr>\n",
       "  </thead>\n",
       "  <tbody>\n",
       "    <tr>\n",
       "      <th>3</th>\n",
       "      <td>Work-Life Balance_Good</td>\n",
       "      <td>1.99</td>\n",
       "    </tr>\n",
       "    <tr>\n",
       "      <th>1</th>\n",
       "      <td>Gender_Male</td>\n",
       "      <td>1.96</td>\n",
       "    </tr>\n",
       "    <tr>\n",
       "      <th>2</th>\n",
       "      <td>Work-Life Balance_Fair</td>\n",
       "      <td>1.78</td>\n",
       "    </tr>\n",
       "    <tr>\n",
       "      <th>11</th>\n",
       "      <td>Job Level_Mid</td>\n",
       "      <td>1.76</td>\n",
       "    </tr>\n",
       "    <tr>\n",
       "      <th>10</th>\n",
       "      <td>Marital Status_Single</td>\n",
       "      <td>1.46</td>\n",
       "    </tr>\n",
       "    <tr>\n",
       "      <th>12</th>\n",
       "      <td>Job Level_Senior</td>\n",
       "      <td>1.38</td>\n",
       "    </tr>\n",
       "    <tr>\n",
       "      <th>4</th>\n",
       "      <td>Work-Life Balance_Poor</td>\n",
       "      <td>1.36</td>\n",
       "    </tr>\n",
       "    <tr>\n",
       "      <th>13</th>\n",
       "      <td>Company Reputation_Fair</td>\n",
       "      <td>1.28</td>\n",
       "    </tr>\n",
       "    <tr>\n",
       "      <th>14</th>\n",
       "      <td>Company Reputation_Poor</td>\n",
       "      <td>1.28</td>\n",
       "    </tr>\n",
       "    <tr>\n",
       "      <th>6</th>\n",
       "      <td>Job Satisfaction_Very High</td>\n",
       "      <td>1.25</td>\n",
       "    </tr>\n",
       "    <tr>\n",
       "      <th>0</th>\n",
       "      <td>Remote Work</td>\n",
       "      <td>1.21</td>\n",
       "    </tr>\n",
       "    <tr>\n",
       "      <th>7</th>\n",
       "      <td>Performance Rating_Below Average</td>\n",
       "      <td>1.16</td>\n",
       "    </tr>\n",
       "    <tr>\n",
       "      <th>5</th>\n",
       "      <td>Job Satisfaction_Low</td>\n",
       "      <td>1.12</td>\n",
       "    </tr>\n",
       "    <tr>\n",
       "      <th>8</th>\n",
       "      <td>Performance Rating_Low</td>\n",
       "      <td>1.06</td>\n",
       "    </tr>\n",
       "    <tr>\n",
       "      <th>9</th>\n",
       "      <td>Education Level_PhD</td>\n",
       "      <td>1.05</td>\n",
       "    </tr>\n",
       "  </tbody>\n",
       "</table>\n",
       "</div>"
      ],
      "text/plain": [
       "                            Features   VIF\n",
       "3             Work-Life Balance_Good  1.99\n",
       "1                        Gender_Male  1.96\n",
       "2             Work-Life Balance_Fair  1.78\n",
       "11                     Job Level_Mid  1.76\n",
       "10             Marital Status_Single  1.46\n",
       "12                  Job Level_Senior  1.38\n",
       "4             Work-Life Balance_Poor  1.36\n",
       "13           Company Reputation_Fair  1.28\n",
       "14           Company Reputation_Poor  1.28\n",
       "6         Job Satisfaction_Very High  1.25\n",
       "0                        Remote Work  1.21\n",
       "7   Performance Rating_Below Average  1.16\n",
       "5               Job Satisfaction_Low  1.12\n",
       "8             Performance Rating_Low  1.06\n",
       "9                Education Level_PhD  1.05"
      ]
     },
     "execution_count": 186,
     "metadata": {},
     "output_type": "execute_result"
    }
   ],
   "source": [
    "# Make a VIF DataFrame for all the variables present\n",
    "vif = pd.DataFrame()\n",
    "vif['Features'] = X_train.columns\n",
    "vif['VIF'] = [variance_inflation_factor(X_train.values, i) for i in range(X_train.shape[1])]\n",
    "vif['VIF'] = round(vif['VIF'], 2)\n",
    "vif = vif.sort_values(by = \"VIF\", ascending = False)\n",
    "vif"
   ]
  },
  {
   "cell_type": "markdown",
   "metadata": {
    "id": "1iDznUNbbzFL"
   },
   "source": [
    "Proceed to the next step if p-values and VIFs are within acceptable ranges.  If you observe high p-values or VIFs, create new cells to drop the features and retrain the model."
   ]
  },
  {
   "cell_type": "markdown",
   "metadata": {
    "id": "uVrg9XDGkC1p"
   },
   "source": [
    "7.2.5 Make predictions on training set <font color = \"red\">[2 Marks]</font>"
   ]
  },
  {
   "cell_type": "code",
   "execution_count": 187,
   "metadata": {
    "id": "bq545BKdbzFL"
   },
   "outputs": [],
   "source": [
    "# Predict the probabilities on the training set\n",
    "y_train_pred = logr.predict(X_train_sm)"
   ]
  },
  {
   "cell_type": "markdown",
   "metadata": {
    "id": "M7M8kndokRo3"
   },
   "source": [
    "7.2.6 Format the prediction output <font color=\"red\">[1 Mark]</font>"
   ]
  },
  {
   "cell_type": "code",
   "execution_count": 188,
   "metadata": {
    "id": "tqSLANvybzFL"
   },
   "outputs": [],
   "source": [
    "# Reshape it into an array\n",
    "y_train_pred = y_train_pred.values.reshape(-1)"
   ]
  },
  {
   "cell_type": "markdown",
   "metadata": {
    "id": "B__pQ9mBbzFM"
   },
   "source": [
    "7.2.7 Create a DataFrame with the actual stayed flag and the predicted probabilities <font color=\"red\">[1 Mark]</font>"
   ]
  },
  {
   "cell_type": "code",
   "execution_count": 189,
   "metadata": {
    "id": "-YcNu7FEbzFM"
   },
   "outputs": [
    {
     "data": {
      "text/html": [
       "<div>\n",
       "<style scoped>\n",
       "    .dataframe tbody tr th:only-of-type {\n",
       "        vertical-align: middle;\n",
       "    }\n",
       "\n",
       "    .dataframe tbody tr th {\n",
       "        vertical-align: top;\n",
       "    }\n",
       "\n",
       "    .dataframe thead th {\n",
       "        text-align: right;\n",
       "    }\n",
       "</style>\n",
       "<table border=\"1\" class=\"dataframe\">\n",
       "  <thead>\n",
       "    <tr style=\"text-align: right;\">\n",
       "      <th></th>\n",
       "      <th>Act_Attrition</th>\n",
       "      <th>Pred_Attrition</th>\n",
       "      <th>Employee ID</th>\n",
       "    </tr>\n",
       "  </thead>\n",
       "  <tbody>\n",
       "    <tr>\n",
       "      <th>60704</th>\n",
       "      <td>0</td>\n",
       "      <td>0.030599</td>\n",
       "      <td>60704</td>\n",
       "    </tr>\n",
       "    <tr>\n",
       "      <th>16163</th>\n",
       "      <td>0</td>\n",
       "      <td>0.120625</td>\n",
       "      <td>16163</td>\n",
       "    </tr>\n",
       "    <tr>\n",
       "      <th>25709</th>\n",
       "      <td>1</td>\n",
       "      <td>0.781841</td>\n",
       "      <td>25709</td>\n",
       "    </tr>\n",
       "    <tr>\n",
       "      <th>4354</th>\n",
       "      <td>0</td>\n",
       "      <td>0.462873</td>\n",
       "      <td>4354</td>\n",
       "    </tr>\n",
       "    <tr>\n",
       "      <th>49862</th>\n",
       "      <td>0</td>\n",
       "      <td>0.411196</td>\n",
       "      <td>49862</td>\n",
       "    </tr>\n",
       "  </tbody>\n",
       "</table>\n",
       "</div>"
      ],
      "text/plain": [
       "       Act_Attrition  Pred_Attrition  Employee ID\n",
       "60704              0        0.030599        60704\n",
       "16163              0        0.120625        16163\n",
       "25709              1        0.781841        25709\n",
       "4354               0        0.462873         4354\n",
       "49862              0        0.411196        49862"
      ]
     },
     "execution_count": 189,
     "metadata": {},
     "output_type": "execute_result"
    }
   ],
   "source": [
    "# Create a new DataFrame containing the actual stayed flag and the probabilities predicted by the model\n",
    "y_train_pred_df = pd.DataFrame({'Act_Attrition': y_train, 'Pred_Attrition':y_train_pred})\n",
    "y_train_pred_df['Employee ID'] = y_train.index\n",
    "y_train_pred_df.head()"
   ]
  },
  {
   "cell_type": "markdown",
   "metadata": {
    "id": "ShtZ7a30bzFM"
   },
   "source": [
    "7.2.8 Create a new column 'Predicted' with 1 if predicted probabilities are greater than 0.5 else 0 <font color = \"red\">[1 Mark]</font>"
   ]
  },
  {
   "cell_type": "code",
   "execution_count": 190,
   "metadata": {
    "id": "_V3Pq0k4bzFM"
   },
   "outputs": [
    {
     "data": {
      "text/html": [
       "<div>\n",
       "<style scoped>\n",
       "    .dataframe tbody tr th:only-of-type {\n",
       "        vertical-align: middle;\n",
       "    }\n",
       "\n",
       "    .dataframe tbody tr th {\n",
       "        vertical-align: top;\n",
       "    }\n",
       "\n",
       "    .dataframe thead th {\n",
       "        text-align: right;\n",
       "    }\n",
       "</style>\n",
       "<table border=\"1\" class=\"dataframe\">\n",
       "  <thead>\n",
       "    <tr style=\"text-align: right;\">\n",
       "      <th></th>\n",
       "      <th>Act_Attrition</th>\n",
       "      <th>Pred_Attrition</th>\n",
       "      <th>Employee ID</th>\n",
       "      <th>Predicted</th>\n",
       "    </tr>\n",
       "  </thead>\n",
       "  <tbody>\n",
       "    <tr>\n",
       "      <th>60704</th>\n",
       "      <td>0</td>\n",
       "      <td>0.030599</td>\n",
       "      <td>60704</td>\n",
       "      <td>0</td>\n",
       "    </tr>\n",
       "    <tr>\n",
       "      <th>16163</th>\n",
       "      <td>0</td>\n",
       "      <td>0.120625</td>\n",
       "      <td>16163</td>\n",
       "      <td>0</td>\n",
       "    </tr>\n",
       "    <tr>\n",
       "      <th>25709</th>\n",
       "      <td>1</td>\n",
       "      <td>0.781841</td>\n",
       "      <td>25709</td>\n",
       "      <td>1</td>\n",
       "    </tr>\n",
       "    <tr>\n",
       "      <th>4354</th>\n",
       "      <td>0</td>\n",
       "      <td>0.462873</td>\n",
       "      <td>4354</td>\n",
       "      <td>0</td>\n",
       "    </tr>\n",
       "    <tr>\n",
       "      <th>49862</th>\n",
       "      <td>0</td>\n",
       "      <td>0.411196</td>\n",
       "      <td>49862</td>\n",
       "      <td>0</td>\n",
       "    </tr>\n",
       "  </tbody>\n",
       "</table>\n",
       "</div>"
      ],
      "text/plain": [
       "       Act_Attrition  Pred_Attrition  Employee ID  Predicted\n",
       "60704              0        0.030599        60704          0\n",
       "16163              0        0.120625        16163          0\n",
       "25709              1        0.781841        25709          1\n",
       "4354               0        0.462873         4354          0\n",
       "49862              0        0.411196        49862          0"
      ]
     },
     "execution_count": 190,
     "metadata": {},
     "output_type": "execute_result"
    }
   ],
   "source": [
    "# Create a new column 'Predicted' with 1 if predicted probabilities are greater than 0.5 else 0\n",
    "y_train_pred_df['Predicted'] = y_train_pred_df['Pred_Attrition'].apply(lambda x: 1 if x>0.5 else 0)\n",
    "y_train_pred_df.head()"
   ]
  },
  {
   "cell_type": "markdown",
   "metadata": {
    "id": "e6mNG69ybzFL"
   },
   "source": [
    "**Evaluation of performance of Model**\n",
    "\n",
    "Evaluate the performance of the model based on the predictions made on the training set.\n"
   ]
  },
  {
   "cell_type": "markdown",
   "metadata": {
    "id": "Kl_XslnfbzFM"
   },
   "source": [
    "7.2.9 Check the accuracy of the model based on the predictions made on the training set <font color = \"red\">[1 Mark]</font>"
   ]
  },
  {
   "cell_type": "code",
   "execution_count": 191,
   "metadata": {
    "id": "jhA1kq_dbzFM"
   },
   "outputs": [
    {
     "data": {
      "text/plain": [
       "0.7399620885748751"
      ]
     },
     "execution_count": 191,
     "metadata": {},
     "output_type": "execute_result"
    }
   ],
   "source": [
    "# Import metrics from sklearn for evaluation\n",
    "from sklearn.metrics import accuracy_score, precision_score, recall_score\n",
    "\n",
    "# Check the overall accuracy\n",
    "accuracy_score(y_train_pred_df.Act_Attrition, y_train_pred_df.Predicted)"
   ]
  },
  {
   "cell_type": "markdown",
   "metadata": {
    "id": "JIo_9vjSbzFM"
   },
   "source": [
    "7.2.10 Create a confusion matrix based on the predictions made on the training set <font color=\"red\">[1 mark]</font>"
   ]
  },
  {
   "cell_type": "code",
   "execution_count": 192,
   "metadata": {
    "id": "L_1DsDkjbzFN"
   },
   "outputs": [
    {
     "data": {
      "text/plain": [
       "array([[17572,  7160],\n",
       "       [ 6421, 21074]], dtype=int64)"
      ]
     },
     "execution_count": 192,
     "metadata": {},
     "output_type": "execute_result"
    }
   ],
   "source": [
    "# Create confusion matrix\n",
    "from sklearn import metrics\n",
    "confusion = metrics.confusion_matrix(y_train_pred_df.Act_Attrition, y_train_pred_df.Predicted)\n",
    "confusion"
   ]
  },
  {
   "cell_type": "markdown",
   "metadata": {
    "id": "LhUC-9xrpv1L"
   },
   "source": [
    "7.2.11 Create variables for true positive, true negative, false positive and false negative <font color=\"red\">[1 Mark]</font>"
   ]
  },
  {
   "cell_type": "code",
   "execution_count": 193,
   "metadata": {
    "id": "lK9ZbfjIbzFN"
   },
   "outputs": [],
   "source": [
    "# Create variables for true positive, true negative, false positive and false negative\n",
    "TP = confusion[1,1]   # true positive\n",
    "TN = confusion[0,0]   # true negatives\n",
    "FP = confusion[0,1]   # false positives\n",
    "FN = confusion[1,0]   # false negatives"
   ]
  },
  {
   "cell_type": "markdown",
   "metadata": {
    "id": "teRSbuOSbzFN"
   },
   "source": [
    "7.2.12 Calculate sensitivity and specificity of model  <font color=\"red\">[2 Marks]</font>"
   ]
  },
  {
   "cell_type": "code",
   "execution_count": 194,
   "metadata": {
    "id": "-G-5XVNJbzFN"
   },
   "outputs": [
    {
     "data": {
      "text/plain": [
       "0.7664666302964175"
      ]
     },
     "execution_count": 194,
     "metadata": {},
     "output_type": "execute_result"
    }
   ],
   "source": [
    "# Calculate sensitivity\n",
    "sensitivity = TP/float(TP+FN)\n",
    "sensitivity"
   ]
  },
  {
   "cell_type": "code",
   "execution_count": 195,
   "metadata": {
    "id": "A24XTKXnEFYH"
   },
   "outputs": [
    {
     "data": {
      "text/plain": [
       "0.710496522723597"
      ]
     },
     "execution_count": 195,
     "metadata": {},
     "output_type": "execute_result"
    }
   ],
   "source": [
    "# Calculate specificity\n",
    "specificity = TN/float(TN+FP)\n",
    "specificity"
   ]
  },
  {
   "cell_type": "markdown",
   "metadata": {
    "id": "lDuRAKYgbzFO"
   },
   "source": [
    "7.2.13 Calculate precision and recall of model <font color=\"red\">[2 Marks]</font>"
   ]
  },
  {
   "cell_type": "code",
   "execution_count": 196,
   "metadata": {
    "id": "SwzXNQqYbzFO"
   },
   "outputs": [
    {
     "data": {
      "text/plain": [
       "0.7464050435644967"
      ]
     },
     "execution_count": 196,
     "metadata": {},
     "output_type": "execute_result"
    }
   ],
   "source": [
    "# Calculate precision\n",
    "precision = TP/float(TP+FP)\n",
    "precision"
   ]
  },
  {
   "cell_type": "code",
   "execution_count": 197,
   "metadata": {
    "id": "kCNnfrQIbzFO"
   },
   "outputs": [
    {
     "data": {
      "text/plain": [
       "0.7664666302964175"
      ]
     },
     "execution_count": 197,
     "metadata": {},
     "output_type": "execute_result"
    }
   ],
   "source": [
    "# Calculate recall\n",
    "recall = TP/float(TP+FN)\n",
    "recall"
   ]
  },
  {
   "cell_type": "markdown",
   "metadata": {
    "id": "IThpUyeKbzFO"
   },
   "source": [
    "### **7.3 Find the optimal cutoff** <font color = red>[15 marks]</font>\n",
    "\n",
    "Find the optimal cutoff to improve model performance. While a default threshold of 0.5 was used for initial evaluation, optimising this threshold can enhance the model's performance.\n",
    "\n",
    "First, plot the ROC curve and check AUC.\n",
    "\n"
   ]
  },
  {
   "cell_type": "markdown",
   "metadata": {
    "id": "K6P4KhA_pH-P"
   },
   "source": [
    "7.3.1 Plot ROC curve <font color=\"red\">[3 Marks]</font>"
   ]
  },
  {
   "cell_type": "code",
   "execution_count": 198,
   "metadata": {
    "id": "-QAnutZNbzFO"
   },
   "outputs": [],
   "source": [
    "# Define ROC function\n",
    "def draw_roc(actual, prob):\n",
    "    fpr, tpr, threshold = metrics.roc_curve(actual, prob, drop_intermediate = False)\n",
    "    auc_score = metrics.roc_auc_score(actual, prob)\n",
    "    plt.figure(figsize=(5,5))\n",
    "    plt.plot(fpr, tpr, label = 'ROC_curve(area=%0.2f)' %auc_score)\n",
    "    plt.xlim([0.0,1.0])\n",
    "    plt.ylim([0.0,1.0])\n",
    "    plt.plot([0,1], [0,1], 'k--')\n",
    "    plt.xlabel('False Positive Rate or [1 - True Negative Rate]')\n",
    "    plt.ylabel('True Positive Rate')\n",
    "    plt.title('Receiver operating characteristic example')\n",
    "    plt.legend(loc=\"lower right\")\n",
    "    plt.show()\n",
    "\n",
    "    return None"
   ]
  },
  {
   "cell_type": "code",
   "execution_count": 199,
   "metadata": {
    "id": "-hkCvgfEbzFO"
   },
   "outputs": [
    {
     "data": {
      "image/png": "[encoded data removed]",
      "text/plain": [
       "<Figure size 500x500 with 1 Axes>"
      ]
     },
     "metadata": {},
     "output_type": "display_data"
    }
   ],
   "source": [
    "# Call the ROC function\n",
    "draw_roc(y_train_pred_df.Act_Attrition, y_train_pred_df.Pred_Attrition)"
   ]
  },
  {
   "cell_type": "markdown",
   "metadata": {
    "id": "TIbs06KDbzFO"
   },
   "source": [
    "**Sensitivity and Specificity tradeoff**\n",
    "\n",
    "Check sensitivity and specificity tradeoff to find the optimal cutoff point."
   ]
  },
  {
   "cell_type": "markdown",
   "metadata": {
    "id": "1II4CXInpfuZ"
   },
   "source": [
    "7.3.2 Predict on training set at various probability cutoffs <font color=\"red\">[1 Mark]</font>"
   ]
  },
  {
   "cell_type": "code",
   "execution_count": 200,
   "metadata": {
    "id": "-74M5fbIbzFO"
   },
   "outputs": [
    {
     "data": {
      "text/html": [
       "<div>\n",
       "<style scoped>\n",
       "    .dataframe tbody tr th:only-of-type {\n",
       "        vertical-align: middle;\n",
       "    }\n",
       "\n",
       "    .dataframe tbody tr th {\n",
       "        vertical-align: top;\n",
       "    }\n",
       "\n",
       "    .dataframe thead th {\n",
       "        text-align: right;\n",
       "    }\n",
       "</style>\n",
       "<table border=\"1\" class=\"dataframe\">\n",
       "  <thead>\n",
       "    <tr style=\"text-align: right;\">\n",
       "      <th></th>\n",
       "      <th>Act_Attrition</th>\n",
       "      <th>Pred_Attrition</th>\n",
       "      <th>Employee ID</th>\n",
       "      <th>Predicted</th>\n",
       "      <th>0.0</th>\n",
       "      <th>0.1</th>\n",
       "      <th>0.2</th>\n",
       "      <th>0.3</th>\n",
       "      <th>0.4</th>\n",
       "      <th>0.5</th>\n",
       "      <th>0.6</th>\n",
       "      <th>0.7</th>\n",
       "      <th>0.8</th>\n",
       "      <th>0.9</th>\n",
       "    </tr>\n",
       "  </thead>\n",
       "  <tbody>\n",
       "    <tr>\n",
       "      <th>60704</th>\n",
       "      <td>0</td>\n",
       "      <td>0.030599</td>\n",
       "      <td>60704</td>\n",
       "      <td>0</td>\n",
       "      <td>1</td>\n",
       "      <td>0</td>\n",
       "      <td>0</td>\n",
       "      <td>0</td>\n",
       "      <td>0</td>\n",
       "      <td>0</td>\n",
       "      <td>0</td>\n",
       "      <td>0</td>\n",
       "      <td>0</td>\n",
       "      <td>0</td>\n",
       "    </tr>\n",
       "    <tr>\n",
       "      <th>16163</th>\n",
       "      <td>0</td>\n",
       "      <td>0.120625</td>\n",
       "      <td>16163</td>\n",
       "      <td>0</td>\n",
       "      <td>1</td>\n",
       "      <td>1</td>\n",
       "      <td>0</td>\n",
       "      <td>0</td>\n",
       "      <td>0</td>\n",
       "      <td>0</td>\n",
       "      <td>0</td>\n",
       "      <td>0</td>\n",
       "      <td>0</td>\n",
       "      <td>0</td>\n",
       "    </tr>\n",
       "    <tr>\n",
       "      <th>25709</th>\n",
       "      <td>1</td>\n",
       "      <td>0.781841</td>\n",
       "      <td>25709</td>\n",
       "      <td>1</td>\n",
       "      <td>1</td>\n",
       "      <td>1</td>\n",
       "      <td>1</td>\n",
       "      <td>1</td>\n",
       "      <td>1</td>\n",
       "      <td>1</td>\n",
       "      <td>1</td>\n",
       "      <td>1</td>\n",
       "      <td>0</td>\n",
       "      <td>0</td>\n",
       "    </tr>\n",
       "    <tr>\n",
       "      <th>4354</th>\n",
       "      <td>0</td>\n",
       "      <td>0.462873</td>\n",
       "      <td>4354</td>\n",
       "      <td>0</td>\n",
       "      <td>1</td>\n",
       "      <td>1</td>\n",
       "      <td>1</td>\n",
       "      <td>1</td>\n",
       "      <td>1</td>\n",
       "      <td>0</td>\n",
       "      <td>0</td>\n",
       "      <td>0</td>\n",
       "      <td>0</td>\n",
       "      <td>0</td>\n",
       "    </tr>\n",
       "    <tr>\n",
       "      <th>49862</th>\n",
       "      <td>0</td>\n",
       "      <td>0.411196</td>\n",
       "      <td>49862</td>\n",
       "      <td>0</td>\n",
       "      <td>1</td>\n",
       "      <td>1</td>\n",
       "      <td>1</td>\n",
       "      <td>1</td>\n",
       "      <td>1</td>\n",
       "      <td>0</td>\n",
       "      <td>0</td>\n",
       "      <td>0</td>\n",
       "      <td>0</td>\n",
       "      <td>0</td>\n",
       "    </tr>\n",
       "  </tbody>\n",
       "</table>\n",
       "</div>"
      ],
      "text/plain": [
       "       Act_Attrition  Pred_Attrition  Employee ID  Predicted  0.0  0.1  0.2  \\\n",
       "60704              0        0.030599        60704          0    1    0    0   \n",
       "16163              0        0.120625        16163          0    1    1    0   \n",
       "25709              1        0.781841        25709          1    1    1    1   \n",
       "4354               0        0.462873         4354          0    1    1    1   \n",
       "49862              0        0.411196        49862          0    1    1    1   \n",
       "\n",
       "       0.3  0.4  0.5  0.6  0.7  0.8  0.9  \n",
       "60704    0    0    0    0    0    0    0  \n",
       "16163    0    0    0    0    0    0    0  \n",
       "25709    1    1    1    1    1    0    0  \n",
       "4354     1    1    0    0    0    0    0  \n",
       "49862    1    1    0    0    0    0    0  "
      ]
     },
     "execution_count": 200,
     "metadata": {},
     "output_type": "execute_result"
    }
   ],
   "source": [
    "# Predict on training data by creating columns with different probability cutoffs to explore the impact of cutoff on model performance\n",
    "numbers = [float(x)/10 for x in range(10)]\n",
    "for i in numbers:\n",
    "    y_train_pred_df[i] = y_train_pred_df['Pred_Attrition'].map(lambda x: 1 if x>i else 0)\n",
    "y_train_pred_df.head()"
   ]
  },
  {
   "cell_type": "markdown",
   "metadata": {
    "id": "DA0BEORfp_nW"
   },
   "source": [
    "7.3.3 Plot for accuracy, sensitivity, specificity at different probability cutoffs <font color=\"red\">[2 Marks]</font>"
   ]
  },
  {
   "cell_type": "code",
   "execution_count": 201,
   "metadata": {
    "id": "An1cy6CJbzFP"
   },
   "outputs": [
    {
     "data": {
      "text/html": [
       "<div>\n",
       "<style scoped>\n",
       "    .dataframe tbody tr th:only-of-type {\n",
       "        vertical-align: middle;\n",
       "    }\n",
       "\n",
       "    .dataframe tbody tr th {\n",
       "        vertical-align: top;\n",
       "    }\n",
       "\n",
       "    .dataframe thead th {\n",
       "        text-align: right;\n",
       "    }\n",
       "</style>\n",
       "<table border=\"1\" class=\"dataframe\">\n",
       "  <thead>\n",
       "    <tr style=\"text-align: right;\">\n",
       "      <th></th>\n",
       "      <th>Prob</th>\n",
       "      <th>accuracy</th>\n",
       "      <th>sensitivity</th>\n",
       "      <th>specificity</th>\n",
       "    </tr>\n",
       "  </thead>\n",
       "  <tbody>\n",
       "    <tr>\n",
       "      <th>0.0</th>\n",
       "      <td>0.0</td>\n",
       "      <td>0.526452</td>\n",
       "      <td>1.000000</td>\n",
       "      <td>0.000000</td>\n",
       "    </tr>\n",
       "    <tr>\n",
       "      <th>0.1</th>\n",
       "      <td>0.1</td>\n",
       "      <td>0.588029</td>\n",
       "      <td>0.995890</td>\n",
       "      <td>0.134603</td>\n",
       "    </tr>\n",
       "    <tr>\n",
       "      <th>0.2</th>\n",
       "      <td>0.2</td>\n",
       "      <td>0.661478</td>\n",
       "      <td>0.962029</td>\n",
       "      <td>0.327349</td>\n",
       "    </tr>\n",
       "    <tr>\n",
       "      <th>0.3</th>\n",
       "      <td>0.3</td>\n",
       "      <td>0.703908</td>\n",
       "      <td>0.909947</td>\n",
       "      <td>0.474850</td>\n",
       "    </tr>\n",
       "    <tr>\n",
       "      <th>0.4</th>\n",
       "      <td>0.4</td>\n",
       "      <td>0.729929</td>\n",
       "      <td>0.840298</td>\n",
       "      <td>0.607230</td>\n",
       "    </tr>\n",
       "    <tr>\n",
       "      <th>0.5</th>\n",
       "      <td>0.5</td>\n",
       "      <td>0.739962</td>\n",
       "      <td>0.766467</td>\n",
       "      <td>0.710497</td>\n",
       "    </tr>\n",
       "    <tr>\n",
       "      <th>0.6</th>\n",
       "      <td>0.6</td>\n",
       "      <td>0.732456</td>\n",
       "      <td>0.664303</td>\n",
       "      <td>0.808224</td>\n",
       "    </tr>\n",
       "    <tr>\n",
       "      <th>0.7</th>\n",
       "      <td>0.7</td>\n",
       "      <td>0.705555</td>\n",
       "      <td>0.534970</td>\n",
       "      <td>0.895197</td>\n",
       "    </tr>\n",
       "    <tr>\n",
       "      <th>0.8</th>\n",
       "      <td>0.8</td>\n",
       "      <td>0.662225</td>\n",
       "      <td>0.401455</td>\n",
       "      <td>0.952127</td>\n",
       "    </tr>\n",
       "    <tr>\n",
       "      <th>0.9</th>\n",
       "      <td>0.9</td>\n",
       "      <td>0.582151</td>\n",
       "      <td>0.212657</td>\n",
       "      <td>0.992924</td>\n",
       "    </tr>\n",
       "  </tbody>\n",
       "</table>\n",
       "</div>"
      ],
      "text/plain": [
       "     Prob  accuracy  sensitivity  specificity\n",
       "0.0   0.0  0.526452     1.000000     0.000000\n",
       "0.1   0.1  0.588029     0.995890     0.134603\n",
       "0.2   0.2  0.661478     0.962029     0.327349\n",
       "0.3   0.3  0.703908     0.909947     0.474850\n",
       "0.4   0.4  0.729929     0.840298     0.607230\n",
       "0.5   0.5  0.739962     0.766467     0.710497\n",
       "0.6   0.6  0.732456     0.664303     0.808224\n",
       "0.7   0.7  0.705555     0.534970     0.895197\n",
       "0.8   0.8  0.662225     0.401455     0.952127\n",
       "0.9   0.9  0.582151     0.212657     0.992924"
      ]
     },
     "execution_count": 201,
     "metadata": {},
     "output_type": "execute_result"
    }
   ],
   "source": [
    "# Create a DataFrame to see the values of accuracy, sensitivity, and specificity at different values of probability cutoffs\n",
    "cutoff_df = pd.DataFrame(columns=['Prob', 'accuracy', 'sensitivity', 'specificity'])\n",
    "\n",
    "nums = [0.0, 0.1, 0.2, 0.3,\t0.4, 0.5, 0.6, 0.7,\t0.8, 0.9]\n",
    "for i in nums:\n",
    "    confusion = metrics.confusion_matrix(y_train_pred_df.Act_Attrition, y_train_pred_df[i])\n",
    "    accuracy = (confusion[0,0]+confusion[1,1])/(confusion[0,0]+confusion[1,1]+confusion[1,0]+confusion[0,1])\n",
    "    sensitivity = confusion[1,1]/(confusion[1,1]+confusion[1,0])\n",
    "    specificity = confusion[0,0]/(confusion[0,0]+confusion[0,1])\n",
    "    cutoff_df.loc[i] = [i, accuracy, sensitivity, specificity] \n",
    "cutoff_df"
   ]
  },
  {
   "cell_type": "code",
   "execution_count": 202,
   "metadata": {
    "id": "P725dvI6bzFP"
   },
   "outputs": [
    {
     "data": {
      "image/png": "[encoded data removed]",
      "text/plain": [
       "<Figure size 640x480 with 1 Axes>"
      ]
     },
     "metadata": {},
     "output_type": "display_data"
    }
   ],
   "source": [
    "# Plot accuracy, sensitivity, and specificity at different values of probability cutoffs\n",
    "cutoff_df.plot.line(x='Prob', y=['accuracy','sensitivity','specificity'])\n",
    "plt.show()"
   ]
  },
  {
   "cell_type": "markdown",
   "metadata": {
    "id": "xnCc19DyqUSt"
   },
   "source": [
    "7.3.4 Create a column for final prediction based on the optimal cutoff <font color=\"red\">[2 Marks]</font>"
   ]
  },
  {
   "cell_type": "code",
   "execution_count": 203,
   "metadata": {
    "id": "yLyy-eawbzFP"
   },
   "outputs": [
    {
     "data": {
      "text/html": [
       "<div>\n",
       "<style scoped>\n",
       "    .dataframe tbody tr th:only-of-type {\n",
       "        vertical-align: middle;\n",
       "    }\n",
       "\n",
       "    .dataframe tbody tr th {\n",
       "        vertical-align: top;\n",
       "    }\n",
       "\n",
       "    .dataframe thead th {\n",
       "        text-align: right;\n",
       "    }\n",
       "</style>\n",
       "<table border=\"1\" class=\"dataframe\">\n",
       "  <thead>\n",
       "    <tr style=\"text-align: right;\">\n",
       "      <th></th>\n",
       "      <th>Act_Attrition</th>\n",
       "      <th>Pred_Attrition</th>\n",
       "      <th>Employee ID</th>\n",
       "      <th>Predicted</th>\n",
       "      <th>0.0</th>\n",
       "      <th>0.1</th>\n",
       "      <th>0.2</th>\n",
       "      <th>0.3</th>\n",
       "      <th>0.4</th>\n",
       "      <th>0.5</th>\n",
       "      <th>0.6</th>\n",
       "      <th>0.7</th>\n",
       "      <th>0.8</th>\n",
       "      <th>0.9</th>\n",
       "      <th>Final_Prediction</th>\n",
       "    </tr>\n",
       "  </thead>\n",
       "  <tbody>\n",
       "    <tr>\n",
       "      <th>60704</th>\n",
       "      <td>0</td>\n",
       "      <td>0.030599</td>\n",
       "      <td>60704</td>\n",
       "      <td>0</td>\n",
       "      <td>1</td>\n",
       "      <td>0</td>\n",
       "      <td>0</td>\n",
       "      <td>0</td>\n",
       "      <td>0</td>\n",
       "      <td>0</td>\n",
       "      <td>0</td>\n",
       "      <td>0</td>\n",
       "      <td>0</td>\n",
       "      <td>0</td>\n",
       "      <td>0</td>\n",
       "    </tr>\n",
       "    <tr>\n",
       "      <th>16163</th>\n",
       "      <td>0</td>\n",
       "      <td>0.120625</td>\n",
       "      <td>16163</td>\n",
       "      <td>0</td>\n",
       "      <td>1</td>\n",
       "      <td>1</td>\n",
       "      <td>0</td>\n",
       "      <td>0</td>\n",
       "      <td>0</td>\n",
       "      <td>0</td>\n",
       "      <td>0</td>\n",
       "      <td>0</td>\n",
       "      <td>0</td>\n",
       "      <td>0</td>\n",
       "      <td>0</td>\n",
       "    </tr>\n",
       "    <tr>\n",
       "      <th>25709</th>\n",
       "      <td>1</td>\n",
       "      <td>0.781841</td>\n",
       "      <td>25709</td>\n",
       "      <td>1</td>\n",
       "      <td>1</td>\n",
       "      <td>1</td>\n",
       "      <td>1</td>\n",
       "      <td>1</td>\n",
       "      <td>1</td>\n",
       "      <td>1</td>\n",
       "      <td>1</td>\n",
       "      <td>1</td>\n",
       "      <td>0</td>\n",
       "      <td>0</td>\n",
       "      <td>1</td>\n",
       "    </tr>\n",
       "    <tr>\n",
       "      <th>4354</th>\n",
       "      <td>0</td>\n",
       "      <td>0.462873</td>\n",
       "      <td>4354</td>\n",
       "      <td>0</td>\n",
       "      <td>1</td>\n",
       "      <td>1</td>\n",
       "      <td>1</td>\n",
       "      <td>1</td>\n",
       "      <td>1</td>\n",
       "      <td>0</td>\n",
       "      <td>0</td>\n",
       "      <td>0</td>\n",
       "      <td>0</td>\n",
       "      <td>0</td>\n",
       "      <td>0</td>\n",
       "    </tr>\n",
       "    <tr>\n",
       "      <th>49862</th>\n",
       "      <td>0</td>\n",
       "      <td>0.411196</td>\n",
       "      <td>49862</td>\n",
       "      <td>0</td>\n",
       "      <td>1</td>\n",
       "      <td>1</td>\n",
       "      <td>1</td>\n",
       "      <td>1</td>\n",
       "      <td>1</td>\n",
       "      <td>0</td>\n",
       "      <td>0</td>\n",
       "      <td>0</td>\n",
       "      <td>0</td>\n",
       "      <td>0</td>\n",
       "      <td>0</td>\n",
       "    </tr>\n",
       "  </tbody>\n",
       "</table>\n",
       "</div>"
      ],
      "text/plain": [
       "       Act_Attrition  Pred_Attrition  Employee ID  Predicted  0.0  0.1  0.2  \\\n",
       "60704              0        0.030599        60704          0    1    0    0   \n",
       "16163              0        0.120625        16163          0    1    1    0   \n",
       "25709              1        0.781841        25709          1    1    1    1   \n",
       "4354               0        0.462873         4354          0    1    1    1   \n",
       "49862              0        0.411196        49862          0    1    1    1   \n",
       "\n",
       "       0.3  0.4  0.5  0.6  0.7  0.8  0.9  Final_Prediction  \n",
       "60704    0    0    0    0    0    0    0                 0  \n",
       "16163    0    0    0    0    0    0    0                 0  \n",
       "25709    1    1    1    1    1    0    0                 1  \n",
       "4354     1    1    0    0    0    0    0                 0  \n",
       "49862    1    1    0    0    0    0    0                 0  "
      ]
     },
     "execution_count": 203,
     "metadata": {},
     "output_type": "execute_result"
    }
   ],
   "source": [
    "# Create a column for final prediction based on the optimal cutoff\n",
    "y_train_pred_df['Final_Prediction'] = y_train_pred_df['Pred_Attrition'].apply(lambda x: 1 if x>0.5 else 0)\n",
    "y_train_pred_df.head()"
   ]
  },
  {
   "cell_type": "markdown",
   "metadata": {
    "id": "rRyaBXdEqryR"
   },
   "source": [
    "7.3.5 Calculate model's accuracy <font color=\"red\">[1Mark]</font>"
   ]
  },
  {
   "cell_type": "code",
   "execution_count": 204,
   "metadata": {
    "id": "dr5PFXZMbzFP"
   },
   "outputs": [
    {
     "data": {
      "text/plain": [
       "0.7399620885748751"
      ]
     },
     "execution_count": 204,
     "metadata": {},
     "output_type": "execute_result"
    }
   ],
   "source": [
    "# Calculate the accuracy\n",
    "accuracy_score(y_train_pred_df.Act_Attrition, y_train_pred_df.Final_Prediction)"
   ]
  },
  {
   "cell_type": "markdown",
   "metadata": {
    "id": "DfgLjKNYrDr8"
   },
   "source": [
    "7.3.6 Create confusion matrix <font color=\"red\">[1Mark]</font>"
   ]
  },
  {
   "cell_type": "code",
   "execution_count": 205,
   "metadata": {
    "id": "KNCQmHAgbzFQ"
   },
   "outputs": [
    {
     "data": {
      "text/plain": [
       "array([[17572,  7160],\n",
       "       [ 6421, 21074]], dtype=int64)"
      ]
     },
     "execution_count": 205,
     "metadata": {},
     "output_type": "execute_result"
    }
   ],
   "source": [
    "# Create the confusion matrix once again\n",
    "confusion2 = metrics.confusion_matrix(y_train_pred_df.Act_Attrition, y_train_pred_df.Final_Prediction)\n",
    "confusion2"
   ]
  },
  {
   "cell_type": "markdown",
   "metadata": {
    "id": "ZE80CYQ4rMCM"
   },
   "source": [
    "7.3.7 Create variables for true positive, true negative, false positive and false negative <font color=\"red\">[1Mark]</font>"
   ]
  },
  {
   "cell_type": "code",
   "execution_count": 206,
   "metadata": {
    "id": "l53itzjzbzFQ"
   },
   "outputs": [],
   "source": [
    "# Create variables for true positive, true negative, false positive and false negative\n",
    "TP = confusion2[1,1]   # true positive\n",
    "TN = confusion2[0,0]   # true negatives\n",
    "FP = confusion2[0,1]   # false positives\n",
    "FN = confusion2[1,0]   # false negatives"
   ]
  },
  {
   "cell_type": "markdown",
   "metadata": {
    "id": "0drkvl0drY2t"
   },
   "source": [
    "7.3.8 Calculate sensitivity and specificity of the model <font color=\"red\">[1Mark]</font>"
   ]
  },
  {
   "cell_type": "code",
   "execution_count": 207,
   "metadata": {
    "id": "GtXYfD1mbzFQ"
   },
   "outputs": [
    {
     "data": {
      "text/plain": [
       "0.7664666302964175"
      ]
     },
     "execution_count": 207,
     "metadata": {},
     "output_type": "execute_result"
    }
   ],
   "source": [
    "# Calculate Sensitivity\n",
    "sensitivity = TP/float(TP+FN)\n",
    "sensitivity "
   ]
  },
  {
   "cell_type": "code",
   "execution_count": 208,
   "metadata": {
    "id": "I4Meaz7RbzFR"
   },
   "outputs": [
    {
     "data": {
      "text/plain": [
       "0.710496522723597"
      ]
     },
     "execution_count": 208,
     "metadata": {},
     "output_type": "execute_result"
    }
   ],
   "source": [
    "# Calculate Specificity\n",
    "specificity = TN/float(TN+FP)\n",
    "specificity"
   ]
  },
  {
   "cell_type": "markdown",
   "metadata": {
    "id": "ZBm4vL_2rhgF"
   },
   "source": [
    "7.3.9 Calculate precision and recall of the model <font color=\"red\">[1Mark]</font>"
   ]
  },
  {
   "cell_type": "code",
   "execution_count": 209,
   "metadata": {
    "id": "lnQgXuQCbzFR"
   },
   "outputs": [
    {
     "data": {
      "text/plain": [
       "0.7464050435644967"
      ]
     },
     "execution_count": 209,
     "metadata": {},
     "output_type": "execute_result"
    }
   ],
   "source": [
    "# Calculate Precision\n",
    "precision = TP/float(TP+FP)\n",
    "precision"
   ]
  },
  {
   "cell_type": "code",
   "execution_count": 210,
   "metadata": {
    "id": "Z4HQbkZhbzFS"
   },
   "outputs": [
    {
     "data": {
      "text/plain": [
       "0.7664666302964175"
      ]
     },
     "execution_count": 210,
     "metadata": {},
     "output_type": "execute_result"
    }
   ],
   "source": [
    "# Calculate Recall\n",
    "recall = TP/float(TP+FN)\n",
    "recall"
   ]
  },
  {
   "cell_type": "markdown",
   "metadata": {
    "id": "rxmGPpwpbzFS"
   },
   "source": [
    "**Precision and Recall tradeoff**\n",
    "\n",
    "Check optimal cutoff value by plotting precision-recall curve, and adjust the cutoff based on the precision and recall tradeoff if required."
   ]
  },
  {
   "cell_type": "code",
   "execution_count": 211,
   "metadata": {
    "id": "L1gibcCMbzFS"
   },
   "outputs": [],
   "source": [
    "# Import precision-recall curve function\n",
    "from sklearn.metrics import precision_recall_curve"
   ]
  },
  {
   "cell_type": "code",
   "execution_count": 212,
   "metadata": {
    "id": "MV-oGIWHbzFT"
   },
   "outputs": [
    {
     "data": {
      "text/plain": [
       "(60704    0\n",
       " 16163    0\n",
       " 25709    1\n",
       " 4354     0\n",
       " 49862    0\n",
       "         ..\n",
       " 14260    1\n",
       " 63370    1\n",
       " 65615    1\n",
       " 56088    1\n",
       " 38408    1\n",
       " Name: Act_Attrition, Length: 52227, dtype: int64,\n",
       " 60704    0\n",
       " 16163    0\n",
       " 25709    1\n",
       " 4354     0\n",
       " 49862    0\n",
       "         ..\n",
       " 14260    1\n",
       " 63370    1\n",
       " 65615    0\n",
       " 56088    1\n",
       " 38408    1\n",
       " Name: Predicted, Length: 52227, dtype: int64)"
      ]
     },
     "execution_count": 212,
     "metadata": {},
     "output_type": "execute_result"
    }
   ],
   "source": [
    "# Check actual and predicted values from initial model\n",
    "y_train_pred_df.Act_Attrition, y_train_pred_df.Predicted"
   ]
  },
  {
   "cell_type": "markdown",
   "metadata": {
    "id": "9dV_jCG6rykd"
   },
   "source": [
    "7.3.10 Plot precision-recall curve <font color=\"red\">[2 Marks]</font>"
   ]
  },
  {
   "cell_type": "code",
   "execution_count": 213,
   "metadata": {
    "id": "da902sgzbzFT"
   },
   "outputs": [
    {
     "data": {
      "image/png": "[encoded data removed]",
      "text/plain": [
       "<Figure size 640x480 with 1 Axes>"
      ]
     },
     "metadata": {},
     "output_type": "display_data"
    }
   ],
   "source": [
    "# Plot precision-recall curve\n",
    "p, r, thresholds = precision_recall_curve(y_train_pred_df.Act_Attrition, y_train_pred_df.Pred_Attrition)\n",
    "plt.plot(thresholds, p[:-1], \"g-\")\n",
    "plt.plot(thresholds, r[:-1], \"r-\")\n",
    "plt.show()"
   ]
  },
  {
   "cell_type": "markdown",
   "metadata": {
    "id": "c6fCFjfubzFT"
   },
   "source": [
    "## **8. Prediction and Model Evaluation** <font color = red>[30 marks]</font>\n",
    "\n",
    "Use the model from the previous step to make predictions on the validation set with the optimal cutoff. Then evaluate the model's performance using metrics such as accuracy, sensitivity, specificity, precision, and recall."
   ]
  },
  {
   "cell_type": "markdown",
   "metadata": {
    "id": "GEY3dsXNbzFU"
   },
   "source": [
    "### **8.1 Make predictions over validation set** <font color = red>[15 marks]</font>"
   ]
  },
  {
   "cell_type": "markdown",
   "metadata": {
    "id": "6PSHBQ5qbzFU"
   },
   "source": [
    "8.1.1 Select relevant features for validation set <font color=\"red\">[2 Marks]</font>\n",
    "\n"
   ]
  },
  {
   "cell_type": "code",
   "execution_count": 214,
   "metadata": {
    "id": "g9n1aTakbzFU"
   },
   "outputs": [],
   "source": [
    "# Select the relevant features for validation set\n",
    "X_test_rfe = X_test[col]"
   ]
  },
  {
   "cell_type": "code",
   "execution_count": 215,
   "metadata": {},
   "outputs": [
    {
     "data": {
      "text/plain": [
       "Index(['Remote Work', 'Gender_Male', 'Work-Life Balance_Fair',\n",
       "       'Work-Life Balance_Good', 'Work-Life Balance_Poor',\n",
       "       'Job Satisfaction_Low', 'Job Satisfaction_Very High',\n",
       "       'Performance Rating_Below Average', 'Performance Rating_Low',\n",
       "       'Education Level_PhD', 'Marital Status_Single', 'Job Level_Mid',\n",
       "       'Job Level_Senior', 'Company Reputation_Fair',\n",
       "       'Company Reputation_Poor'],\n",
       "      dtype='object')"
      ]
     },
     "execution_count": 215,
     "metadata": {},
     "output_type": "execute_result"
    }
   ],
   "source": [
    "X_test_rfe.columns"
   ]
  },
  {
   "cell_type": "markdown",
   "metadata": {
    "id": "pNGNgwNrsXf9"
   },
   "source": [
    "8.1.2 Add constant to X_validation <font color=\"red\">[2 Marks]</font>"
   ]
  },
  {
   "cell_type": "code",
   "execution_count": 216,
   "metadata": {
    "id": "3Y_CGwNWbzFU"
   },
   "outputs": [],
   "source": [
    "# Add constant to X_validation\n",
    "X_test_sm = sm.add_constant(X_test_rfe)"
   ]
  },
  {
   "cell_type": "markdown",
   "metadata": {
    "id": "tSl-wRsRshW_"
   },
   "source": [
    "8.1.3 Make predictions over validation set <font color=\"red\">[3 Marks]</font>"
   ]
  },
  {
   "cell_type": "code",
   "execution_count": 217,
   "metadata": {
    "id": "N7tRbWcQbzFU"
   },
   "outputs": [
    {
     "data": {
      "text/plain": [
       "61539    0.986814\n",
       "42583    0.725859\n",
       "55936    0.175269\n",
       "66035    0.384308\n",
       "23119    0.058327\n",
       "38563    0.149511\n",
       "50307    0.695283\n",
       "10397    0.188094\n",
       "22702    0.348899\n",
       "41544    0.826877\n",
       "dtype: float64"
      ]
     },
     "execution_count": 217,
     "metadata": {},
     "output_type": "execute_result"
    }
   ],
   "source": [
    "# Make predictions on the validation set and store it in the variable 'y_validation_pred'\n",
    "y_validation_pred = logr.predict(X_test_sm)\n",
    "# View predictions\n",
    "y_validation_pred[:10]"
   ]
  },
  {
   "cell_type": "markdown",
   "metadata": {
    "id": "ONdgg12qtJSs"
   },
   "source": [
    "8.1.4 Create DataFrame with actual values and predicted values for validation set <font color=\"red\">[5 Marks]</font>"
   ]
  },
  {
   "cell_type": "code",
   "execution_count": 218,
   "metadata": {
    "id": "cxhXWRVMbzFV"
   },
   "outputs": [],
   "source": [
    "# Convert 'y_validation_pred' to a DataFrame 'predicted_probability'\n",
    "predicted_probability = pd.DataFrame(y_validation_pred)\n",
    "\n",
    "# Convert 'y_validation' to DataFrame 'actual'\n",
    "actual = pd.DataFrame(y_test)\n",
    "\n",
    "# Remove index from both DataFrames 'actual' and 'predicted_probability' to append them side by side\n",
    "final_df = pd.concat([predicted_probability, actual], axis=1).reset_index(drop=True)"
   ]
  },
  {
   "cell_type": "code",
   "execution_count": 219,
   "metadata": {},
   "outputs": [
    {
     "data": {
      "text/html": [
       "<div>\n",
       "<style scoped>\n",
       "    .dataframe tbody tr th:only-of-type {\n",
       "        vertical-align: middle;\n",
       "    }\n",
       "\n",
       "    .dataframe tbody tr th {\n",
       "        vertical-align: top;\n",
       "    }\n",
       "\n",
       "    .dataframe thead th {\n",
       "        text-align: right;\n",
       "    }\n",
       "</style>\n",
       "<table border=\"1\" class=\"dataframe\">\n",
       "  <thead>\n",
       "    <tr style=\"text-align: right;\">\n",
       "      <th></th>\n",
       "      <th>0</th>\n",
       "      <th>Attrition</th>\n",
       "    </tr>\n",
       "  </thead>\n",
       "  <tbody>\n",
       "    <tr>\n",
       "      <th>0</th>\n",
       "      <td>0.986814</td>\n",
       "      <td>1</td>\n",
       "    </tr>\n",
       "    <tr>\n",
       "      <th>1</th>\n",
       "      <td>0.725859</td>\n",
       "      <td>1</td>\n",
       "    </tr>\n",
       "    <tr>\n",
       "      <th>2</th>\n",
       "      <td>0.175269</td>\n",
       "      <td>0</td>\n",
       "    </tr>\n",
       "    <tr>\n",
       "      <th>3</th>\n",
       "      <td>0.384308</td>\n",
       "      <td>0</td>\n",
       "    </tr>\n",
       "    <tr>\n",
       "      <th>4</th>\n",
       "      <td>0.058327</td>\n",
       "      <td>0</td>\n",
       "    </tr>\n",
       "  </tbody>\n",
       "</table>\n",
       "</div>"
      ],
      "text/plain": [
       "          0  Attrition\n",
       "0  0.986814          1\n",
       "1  0.725859          1\n",
       "2  0.175269          0\n",
       "3  0.384308          0\n",
       "4  0.058327          0"
      ]
     },
     "execution_count": 219,
     "metadata": {},
     "output_type": "execute_result"
    }
   ],
   "source": [
    "final_df.head()"
   ]
  },
  {
   "cell_type": "code",
   "execution_count": 220,
   "metadata": {},
   "outputs": [],
   "source": [
    "final_df = final_df.rename(columns={0: 'predicted_probability', 'Attrition': 'actual'})\n",
    "final_df = final_df.reindex(['actual', 'predicted_probability'], axis=1)"
   ]
  },
  {
   "cell_type": "code",
   "execution_count": 221,
   "metadata": {},
   "outputs": [
    {
     "data": {
      "text/html": [
       "<div>\n",
       "<style scoped>\n",
       "    .dataframe tbody tr th:only-of-type {\n",
       "        vertical-align: middle;\n",
       "    }\n",
       "\n",
       "    .dataframe tbody tr th {\n",
       "        vertical-align: top;\n",
       "    }\n",
       "\n",
       "    .dataframe thead th {\n",
       "        text-align: right;\n",
       "    }\n",
       "</style>\n",
       "<table border=\"1\" class=\"dataframe\">\n",
       "  <thead>\n",
       "    <tr style=\"text-align: right;\">\n",
       "      <th></th>\n",
       "      <th>actual</th>\n",
       "      <th>predicted_probability</th>\n",
       "    </tr>\n",
       "  </thead>\n",
       "  <tbody>\n",
       "    <tr>\n",
       "      <th>0</th>\n",
       "      <td>1</td>\n",
       "      <td>0.986814</td>\n",
       "    </tr>\n",
       "    <tr>\n",
       "      <th>1</th>\n",
       "      <td>1</td>\n",
       "      <td>0.725859</td>\n",
       "    </tr>\n",
       "    <tr>\n",
       "      <th>2</th>\n",
       "      <td>0</td>\n",
       "      <td>0.175269</td>\n",
       "    </tr>\n",
       "    <tr>\n",
       "      <th>3</th>\n",
       "      <td>0</td>\n",
       "      <td>0.384308</td>\n",
       "    </tr>\n",
       "    <tr>\n",
       "      <th>4</th>\n",
       "      <td>0</td>\n",
       "      <td>0.058327</td>\n",
       "    </tr>\n",
       "  </tbody>\n",
       "</table>\n",
       "</div>"
      ],
      "text/plain": [
       "   actual  predicted_probability\n",
       "0       1               0.986814\n",
       "1       1               0.725859\n",
       "2       0               0.175269\n",
       "3       0               0.384308\n",
       "4       0               0.058327"
      ]
     },
     "execution_count": 221,
     "metadata": {},
     "output_type": "execute_result"
    }
   ],
   "source": [
    "final_df.head()"
   ]
  },
  {
   "cell_type": "markdown",
   "metadata": {
    "id": "3HrzB4MRtlGB"
   },
   "source": [
    "8.1.5 Predict final prediction based on the cutoff value <font color=\"red\">[3 Marks]</font>"
   ]
  },
  {
   "cell_type": "code",
   "execution_count": 222,
   "metadata": {
    "id": "SCshcMgnbzFW"
   },
   "outputs": [
    {
     "data": {
      "text/html": [
       "<div>\n",
       "<style scoped>\n",
       "    .dataframe tbody tr th:only-of-type {\n",
       "        vertical-align: middle;\n",
       "    }\n",
       "\n",
       "    .dataframe tbody tr th {\n",
       "        vertical-align: top;\n",
       "    }\n",
       "\n",
       "    .dataframe thead th {\n",
       "        text-align: right;\n",
       "    }\n",
       "</style>\n",
       "<table border=\"1\" class=\"dataframe\">\n",
       "  <thead>\n",
       "    <tr style=\"text-align: right;\">\n",
       "      <th></th>\n",
       "      <th>actual</th>\n",
       "      <th>predicted_probability</th>\n",
       "      <th>final_prediction</th>\n",
       "    </tr>\n",
       "  </thead>\n",
       "  <tbody>\n",
       "    <tr>\n",
       "      <th>0</th>\n",
       "      <td>1</td>\n",
       "      <td>0.986814</td>\n",
       "      <td>1</td>\n",
       "    </tr>\n",
       "    <tr>\n",
       "      <th>1</th>\n",
       "      <td>1</td>\n",
       "      <td>0.725859</td>\n",
       "      <td>1</td>\n",
       "    </tr>\n",
       "    <tr>\n",
       "      <th>2</th>\n",
       "      <td>0</td>\n",
       "      <td>0.175269</td>\n",
       "      <td>0</td>\n",
       "    </tr>\n",
       "    <tr>\n",
       "      <th>3</th>\n",
       "      <td>0</td>\n",
       "      <td>0.384308</td>\n",
       "      <td>0</td>\n",
       "    </tr>\n",
       "    <tr>\n",
       "      <th>4</th>\n",
       "      <td>0</td>\n",
       "      <td>0.058327</td>\n",
       "      <td>0</td>\n",
       "    </tr>\n",
       "  </tbody>\n",
       "</table>\n",
       "</div>"
      ],
      "text/plain": [
       "   actual  predicted_probability  final_prediction\n",
       "0       1               0.986814                 1\n",
       "1       1               0.725859                 1\n",
       "2       0               0.175269                 0\n",
       "3       0               0.384308                 0\n",
       "4       0               0.058327                 0"
      ]
     },
     "execution_count": 222,
     "metadata": {},
     "output_type": "execute_result"
    }
   ],
   "source": [
    "# Make predictions on the validation set using the optimal cutoff and store it in a column 'final_prediction'\n",
    "final_df['final_prediction'] = final_df.predicted_probability.apply(lambda x: 1 if x>0.5 else 0)\n",
    "\n",
    "# Check the DataFrame\n",
    "final_df.head()"
   ]
  },
  {
   "cell_type": "markdown",
   "metadata": {
    "id": "gMSL-5-pbzFW"
   },
   "source": [
    "### **8.2 Calculate accuracy of the model** <font color = red>[2 marks]</font>"
   ]
  },
  {
   "cell_type": "code",
   "execution_count": 223,
   "metadata": {
    "id": "bwRF3dn6bzFW"
   },
   "outputs": [
    {
     "data": {
      "text/plain": [
       "0.7374346602332127"
      ]
     },
     "execution_count": 223,
     "metadata": {},
     "output_type": "execute_result"
    }
   ],
   "source": [
    "# Calculate the overall accuracy\n",
    "accuracy_score(final_df.actual, final_df.final_prediction)"
   ]
  },
  {
   "cell_type": "markdown",
   "metadata": {
    "id": "8tNEp8_bbzFW"
   },
   "source": [
    "### **8.3 Create confusion matrix and create variables for true positive, true negative, false positive and false negative** <font color = red>[5 marks]</font>"
   ]
  },
  {
   "cell_type": "code",
   "execution_count": 224,
   "metadata": {
    "id": "RnaOhweTbzFW"
   },
   "outputs": [
    {
     "data": {
      "text/plain": [
       "array([[7603, 3084],\n",
       "       [2793, 8903]], dtype=int64)"
      ]
     },
     "execution_count": 224,
     "metadata": {},
     "output_type": "execute_result"
    }
   ],
   "source": [
    "# Create confusion matrix\n",
    "confusion = metrics.confusion_matrix(final_df.actual, final_df.final_prediction)\n",
    "confusion"
   ]
  },
  {
   "cell_type": "code",
   "execution_count": 225,
   "metadata": {
    "id": "AbnOzs9VbzFW"
   },
   "outputs": [],
   "source": [
    "# Create variables for true positive, true negative, false positive and false negative\n",
    "TP = confusion[1,1]   # true positive\n",
    "TN = confusion[0,0]   # true negatives\n",
    "FP = confusion[0,1]   # false positives\n",
    "FN = confusion[1,0]"
   ]
  },
  {
   "cell_type": "markdown",
   "metadata": {
    "id": "rfnlV8xobzFW"
   },
   "source": [
    "### **8.4 Calculate sensitivity and specificity** <font color = red>[4 marks]</font>"
   ]
  },
  {
   "cell_type": "code",
   "execution_count": 226,
   "metadata": {
    "id": "-M3WRwH9bzFW"
   },
   "outputs": [
    {
     "data": {
      "text/plain": [
       "0.7612004103967168"
      ]
     },
     "execution_count": 226,
     "metadata": {},
     "output_type": "execute_result"
    }
   ],
   "source": [
    "# Calculate sensitivity\n",
    "sensitivity = TP/float(TP+FN)\n",
    "sensitivity"
   ]
  },
  {
   "cell_type": "code",
   "execution_count": 227,
   "metadata": {
    "id": "mAf35xDnbzFX"
   },
   "outputs": [
    {
     "data": {
      "text/plain": [
       "0.7114250959109198"
      ]
     },
     "execution_count": 227,
     "metadata": {},
     "output_type": "execute_result"
    }
   ],
   "source": [
    "# Calculate specificity\n",
    "specificity = TN/float(TN+FP)\n",
    "specificity"
   ]
  },
  {
   "cell_type": "markdown",
   "metadata": {
    "id": "nsUKjAT0bzFX"
   },
   "source": [
    "### **8.5 Calculate precision and recall** <font color = red>[4 marks]</font>"
   ]
  },
  {
   "cell_type": "code",
   "execution_count": 228,
   "metadata": {
    "id": "19C3vTO3bzFX"
   },
   "outputs": [
    {
     "data": {
      "text/plain": [
       "0.7427212813881705"
      ]
     },
     "execution_count": 228,
     "metadata": {},
     "output_type": "execute_result"
    }
   ],
   "source": [
    "# Calculate precision\n",
    "precision_score(final_df.actual, final_df.final_prediction)"
   ]
  },
  {
   "cell_type": "code",
   "execution_count": 229,
   "metadata": {
    "id": "vvyUapBfbzFX"
   },
   "outputs": [
    {
     "data": {
      "text/plain": [
       "0.7612004103967168"
      ]
     },
     "execution_count": 229,
     "metadata": {},
     "output_type": "execute_result"
    }
   ],
   "source": [
    "# Calculate recall\n",
    "recall_score(final_df.actual, final_df.final_prediction)"
   ]
  },
  {
   "cell_type": "markdown",
   "metadata": {
    "id": "Hmyrh46kbzFY"
   },
   "source": [
    "## Conclusion\n",
    "\n"
   ]
  },
  {
   "cell_type": "markdown",
   "metadata": {},
   "source": [
    "### Factors Increasing Retention (Positive Coefficients):\n",
    "**Job Level_Senior(Coef= 2.5034): Senior-level employees have the highest retention — indicates strong loyalty or role satisfaction.**\n",
    "**Remote Work(Coef= 1.7039): Remote workers are more likely to stay — indicates strong engagement remotely.**\n",
    "**Education Level_PhD(Coef= 1.5157): PhDs are more likely to stay — suggests high satisfaction or alignment with role.**\n",
    "**Job Level_Mid(Coef= 0.9514): Mid-level employees are more likely to stay.**\n",
    "**Gender_Male(Coef= 0.5899): Males are more likely to stay than females.**\n",
    "\n",
    "### Factors Increasing Attrition (Negative Coefficients):\n",
    "**Company Reputation_Poor(Coef= -0.7219): Poor company reputation increases attrition.**\n",
    "**Marital Status_Single(Coef= -1.7007):\tSingle employees are more likely to leave.**\n",
    "**Work-Life Balance_Poor(Coef= -1.4303): Poor work-life balance strongly drives attrition.**\n",
    "**Performance Rating_Low(Coef= -0.5712): Lower performers are more likely to leave — could reflect management action or disengagement.**\n",
    "**Job Satisfaction_Low(Coef= -0.4602): Lower satisfaction leads to higher attrition.**"
   ]
  },
  {
   "cell_type": "code",
   "execution_count": null,
   "metadata": {},
   "outputs": [],
   "source": []
  },
  {
   "cell_type": "code",
   "execution_count": null,
   "metadata": {},
   "outputs": [],
   "source": []
  },
  {
   "cell_type": "code",
   "execution_count": null,
   "metadata": {},
   "outputs": [],
   "source": []
  },
  {
   "cell_type": "code",
   "execution_count": null,
   "metadata": {},
   "outputs": [],
   "source": []
  },
  {
   "cell_type": "code",
   "execution_count": null,
   "metadata": {},
   "outputs": [],
   "source": []
  }
 ],
 "metadata": {
  "colab": {
   "provenance": [],
   "toc_visible": true
  },
  "kernelspec": {
   "display_name": "Python 3 (ipykernel)",
   "language": "python",
   "name": "python3"
  },
  "language_info": {
   "codemirror_mode": {
    "name": "ipython",
    "version": 3
   },
   "file_extension": ".py",
   "mimetype": "text/x-python",
   "name": "python",
   "nbconvert_exporter": "python",
   "pygments_lexer": "ipython3",
   "version": "3.12.7"
  }
 },
 "nbformat": 4,
 "nbformat_minor": 4
}
